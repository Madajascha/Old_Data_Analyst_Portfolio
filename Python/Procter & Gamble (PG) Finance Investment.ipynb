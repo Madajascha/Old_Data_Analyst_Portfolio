{
 "cells": [
  {
   "cell_type": "code",
   "execution_count": 1,
   "id": "a9ab6540",
   "metadata": {},
   "outputs": [],
   "source": [
    "import numpy as np\n",
    "import pandas as pd\n",
    "import matplotlib.pyplot as plt\n",
    "import seaborn as sns"
   ]
  },
  {
   "cell_type": "code",
   "execution_count": 2,
   "id": "016df05a",
   "metadata": {},
   "outputs": [],
   "source": [
    "ser = pd.Series(np.random.random(5), name = 'Column 01')"
   ]
  },
  {
   "cell_type": "code",
   "execution_count": 3,
   "id": "a6171038",
   "metadata": {},
   "outputs": [
    {
     "data": {
      "text/plain": [
       "0    0.846451\n",
       "1    0.264658\n",
       "2    0.174963\n",
       "3    0.626853\n",
       "4    0.444178\n",
       "Name: Column 01, dtype: float64"
      ]
     },
     "execution_count": 3,
     "metadata": {},
     "output_type": "execute_result"
    }
   ],
   "source": [
    "ser"
   ]
  },
  {
   "cell_type": "code",
   "execution_count": 4,
   "id": "1c112792",
   "metadata": {},
   "outputs": [
    {
     "data": {
      "text/plain": [
       "0.17496329366247843"
      ]
     },
     "execution_count": 4,
     "metadata": {},
     "output_type": "execute_result"
    }
   ],
   "source": [
    "ser[2]"
   ]
  },
  {
   "cell_type": "code",
   "execution_count": 5,
   "id": "4e7fe35f",
   "metadata": {},
   "outputs": [],
   "source": [
    "#pip install pandas-datareader\n",
    "from pandas_datareader import data as wb"
   ]
  },
  {
   "cell_type": "code",
   "execution_count": 6,
   "id": "823d166b",
   "metadata": {},
   "outputs": [],
   "source": [
    "PG = wb.DataReader('PG', data_source = 'yahoo', start = '1995-1-1')"
   ]
  },
  {
   "cell_type": "code",
   "execution_count": 7,
   "id": "a7f3c9ba",
   "metadata": {},
   "outputs": [
    {
     "data": {
      "text/html": [
       "<div>\n",
       "<style scoped>\n",
       "    .dataframe tbody tr th:only-of-type {\n",
       "        vertical-align: middle;\n",
       "    }\n",
       "\n",
       "    .dataframe tbody tr th {\n",
       "        vertical-align: top;\n",
       "    }\n",
       "\n",
       "    .dataframe thead th {\n",
       "        text-align: right;\n",
       "    }\n",
       "</style>\n",
       "<table border=\"1\" class=\"dataframe\">\n",
       "  <thead>\n",
       "    <tr style=\"text-align: right;\">\n",
       "      <th></th>\n",
       "      <th>High</th>\n",
       "      <th>Low</th>\n",
       "      <th>Open</th>\n",
       "      <th>Close</th>\n",
       "      <th>Volume</th>\n",
       "      <th>Adj Close</th>\n",
       "    </tr>\n",
       "    <tr>\n",
       "      <th>Date</th>\n",
       "      <th></th>\n",
       "      <th></th>\n",
       "      <th></th>\n",
       "      <th></th>\n",
       "      <th></th>\n",
       "      <th></th>\n",
       "    </tr>\n",
       "  </thead>\n",
       "  <tbody>\n",
       "    <tr>\n",
       "      <th>1995-01-03</th>\n",
       "      <td>15.625000</td>\n",
       "      <td>15.437500</td>\n",
       "      <td>15.468750</td>\n",
       "      <td>15.593750</td>\n",
       "      <td>3318400.0</td>\n",
       "      <td>7.926645</td>\n",
       "    </tr>\n",
       "    <tr>\n",
       "      <th>1995-01-04</th>\n",
       "      <td>15.656250</td>\n",
       "      <td>15.312500</td>\n",
       "      <td>15.531250</td>\n",
       "      <td>15.468750</td>\n",
       "      <td>2218800.0</td>\n",
       "      <td>7.863109</td>\n",
       "    </tr>\n",
       "    <tr>\n",
       "      <th>1995-01-05</th>\n",
       "      <td>15.437500</td>\n",
       "      <td>15.218750</td>\n",
       "      <td>15.375000</td>\n",
       "      <td>15.250000</td>\n",
       "      <td>2319600.0</td>\n",
       "      <td>7.751911</td>\n",
       "    </tr>\n",
       "    <tr>\n",
       "      <th>1995-01-06</th>\n",
       "      <td>15.406250</td>\n",
       "      <td>15.156250</td>\n",
       "      <td>15.156250</td>\n",
       "      <td>15.281250</td>\n",
       "      <td>3438000.0</td>\n",
       "      <td>7.767796</td>\n",
       "    </tr>\n",
       "    <tr>\n",
       "      <th>1995-01-09</th>\n",
       "      <td>15.406250</td>\n",
       "      <td>15.187500</td>\n",
       "      <td>15.343750</td>\n",
       "      <td>15.218750</td>\n",
       "      <td>1795200.0</td>\n",
       "      <td>7.736025</td>\n",
       "    </tr>\n",
       "    <tr>\n",
       "      <th>...</th>\n",
       "      <td>...</td>\n",
       "      <td>...</td>\n",
       "      <td>...</td>\n",
       "      <td>...</td>\n",
       "      <td>...</td>\n",
       "      <td>...</td>\n",
       "    </tr>\n",
       "    <tr>\n",
       "      <th>2022-05-23</th>\n",
       "      <td>145.630005</td>\n",
       "      <td>142.080002</td>\n",
       "      <td>142.839996</td>\n",
       "      <td>145.050003</td>\n",
       "      <td>7134500.0</td>\n",
       "      <td>145.050003</td>\n",
       "    </tr>\n",
       "    <tr>\n",
       "      <th>2022-05-24</th>\n",
       "      <td>147.940002</td>\n",
       "      <td>144.820007</td>\n",
       "      <td>144.889999</td>\n",
       "      <td>147.630005</td>\n",
       "      <td>7207400.0</td>\n",
       "      <td>147.630005</td>\n",
       "    </tr>\n",
       "    <tr>\n",
       "      <th>2022-05-25</th>\n",
       "      <td>147.139999</td>\n",
       "      <td>143.500000</td>\n",
       "      <td>147.110001</td>\n",
       "      <td>145.210007</td>\n",
       "      <td>8217800.0</td>\n",
       "      <td>145.210007</td>\n",
       "    </tr>\n",
       "    <tr>\n",
       "      <th>2022-05-26</th>\n",
       "      <td>147.380005</td>\n",
       "      <td>145.039993</td>\n",
       "      <td>146.479996</td>\n",
       "      <td>146.479996</td>\n",
       "      <td>5702600.0</td>\n",
       "      <td>146.479996</td>\n",
       "    </tr>\n",
       "    <tr>\n",
       "      <th>2022-05-27</th>\n",
       "      <td>148.720001</td>\n",
       "      <td>146.630005</td>\n",
       "      <td>146.970001</td>\n",
       "      <td>148.720001</td>\n",
       "      <td>6027800.0</td>\n",
       "      <td>148.720001</td>\n",
       "    </tr>\n",
       "  </tbody>\n",
       "</table>\n",
       "<p>6901 rows × 6 columns</p>\n",
       "</div>"
      ],
      "text/plain": [
       "                  High         Low        Open       Close     Volume  \\\n",
       "Date                                                                    \n",
       "1995-01-03   15.625000   15.437500   15.468750   15.593750  3318400.0   \n",
       "1995-01-04   15.656250   15.312500   15.531250   15.468750  2218800.0   \n",
       "1995-01-05   15.437500   15.218750   15.375000   15.250000  2319600.0   \n",
       "1995-01-06   15.406250   15.156250   15.156250   15.281250  3438000.0   \n",
       "1995-01-09   15.406250   15.187500   15.343750   15.218750  1795200.0   \n",
       "...                ...         ...         ...         ...        ...   \n",
       "2022-05-23  145.630005  142.080002  142.839996  145.050003  7134500.0   \n",
       "2022-05-24  147.940002  144.820007  144.889999  147.630005  7207400.0   \n",
       "2022-05-25  147.139999  143.500000  147.110001  145.210007  8217800.0   \n",
       "2022-05-26  147.380005  145.039993  146.479996  146.479996  5702600.0   \n",
       "2022-05-27  148.720001  146.630005  146.970001  148.720001  6027800.0   \n",
       "\n",
       "             Adj Close  \n",
       "Date                    \n",
       "1995-01-03    7.926645  \n",
       "1995-01-04    7.863109  \n",
       "1995-01-05    7.751911  \n",
       "1995-01-06    7.767796  \n",
       "1995-01-09    7.736025  \n",
       "...                ...  \n",
       "2022-05-23  145.050003  \n",
       "2022-05-24  147.630005  \n",
       "2022-05-25  145.210007  \n",
       "2022-05-26  146.479996  \n",
       "2022-05-27  148.720001  \n",
       "\n",
       "[6901 rows x 6 columns]"
      ]
     },
     "execution_count": 7,
     "metadata": {},
     "output_type": "execute_result"
    }
   ],
   "source": [
    "PG"
   ]
  },
  {
   "cell_type": "code",
   "execution_count": 8,
   "id": "1267616a",
   "metadata": {},
   "outputs": [
    {
     "name": "stdout",
     "output_type": "stream",
     "text": [
      "<class 'pandas.core.frame.DataFrame'>\n",
      "DatetimeIndex: 6901 entries, 1995-01-03 to 2022-05-27\n",
      "Data columns (total 6 columns):\n",
      " #   Column     Non-Null Count  Dtype  \n",
      "---  ------     --------------  -----  \n",
      " 0   High       6901 non-null   float64\n",
      " 1   Low        6901 non-null   float64\n",
      " 2   Open       6901 non-null   float64\n",
      " 3   Close      6901 non-null   float64\n",
      " 4   Volume     6901 non-null   float64\n",
      " 5   Adj Close  6901 non-null   float64\n",
      "dtypes: float64(6)\n",
      "memory usage: 377.4 KB\n"
     ]
    }
   ],
   "source": [
    "PG.info()"
   ]
  },
  {
   "cell_type": "code",
   "execution_count": 9,
   "id": "8b116630",
   "metadata": {},
   "outputs": [],
   "source": [
    "tickers = ['PG', 'MSFT', 'T', 'F', 'GE']\n",
    "new_data = pd.DataFrame()\n",
    "for t in tickers:\n",
    "    new_data[t] = wb.DataReader(t, data_source = 'yahoo', start = '1995-1-1')['Adj Close']"
   ]
  },
  {
   "cell_type": "code",
   "execution_count": 10,
   "id": "55de2299",
   "metadata": {},
   "outputs": [
    {
     "data": {
      "text/html": [
       "<div>\n",
       "<style scoped>\n",
       "    .dataframe tbody tr th:only-of-type {\n",
       "        vertical-align: middle;\n",
       "    }\n",
       "\n",
       "    .dataframe tbody tr th {\n",
       "        vertical-align: top;\n",
       "    }\n",
       "\n",
       "    .dataframe thead th {\n",
       "        text-align: right;\n",
       "    }\n",
       "</style>\n",
       "<table border=\"1\" class=\"dataframe\">\n",
       "  <thead>\n",
       "    <tr style=\"text-align: right;\">\n",
       "      <th></th>\n",
       "      <th>PG</th>\n",
       "      <th>MSFT</th>\n",
       "      <th>T</th>\n",
       "      <th>F</th>\n",
       "      <th>GE</th>\n",
       "    </tr>\n",
       "    <tr>\n",
       "      <th>Date</th>\n",
       "      <th></th>\n",
       "      <th></th>\n",
       "      <th></th>\n",
       "      <th></th>\n",
       "      <th></th>\n",
       "    </tr>\n",
       "  </thead>\n",
       "  <tbody>\n",
       "    <tr>\n",
       "      <th>2022-05-23</th>\n",
       "      <td>145.050003</td>\n",
       "      <td>260.649994</td>\n",
       "      <td>20.740000</td>\n",
       "      <td>12.83</td>\n",
       "      <td>75.459999</td>\n",
       "    </tr>\n",
       "    <tr>\n",
       "      <th>2022-05-24</th>\n",
       "      <td>147.630005</td>\n",
       "      <td>259.619995</td>\n",
       "      <td>21.160000</td>\n",
       "      <td>12.42</td>\n",
       "      <td>74.519997</td>\n",
       "    </tr>\n",
       "    <tr>\n",
       "      <th>2022-05-25</th>\n",
       "      <td>145.210007</td>\n",
       "      <td>262.519989</td>\n",
       "      <td>21.299999</td>\n",
       "      <td>12.71</td>\n",
       "      <td>74.529999</td>\n",
       "    </tr>\n",
       "    <tr>\n",
       "      <th>2022-05-26</th>\n",
       "      <td>146.479996</td>\n",
       "      <td>265.899994</td>\n",
       "      <td>21.320000</td>\n",
       "      <td>13.12</td>\n",
       "      <td>77.010002</td>\n",
       "    </tr>\n",
       "    <tr>\n",
       "      <th>2022-05-27</th>\n",
       "      <td>148.720001</td>\n",
       "      <td>273.239990</td>\n",
       "      <td>21.290001</td>\n",
       "      <td>13.63</td>\n",
       "      <td>78.760002</td>\n",
       "    </tr>\n",
       "  </tbody>\n",
       "</table>\n",
       "</div>"
      ],
      "text/plain": [
       "                    PG        MSFT          T      F         GE\n",
       "Date                                                           \n",
       "2022-05-23  145.050003  260.649994  20.740000  12.83  75.459999\n",
       "2022-05-24  147.630005  259.619995  21.160000  12.42  74.519997\n",
       "2022-05-25  145.210007  262.519989  21.299999  12.71  74.529999\n",
       "2022-05-26  146.479996  265.899994  21.320000  13.12  77.010002\n",
       "2022-05-27  148.720001  273.239990  21.290001  13.63  78.760002"
      ]
     },
     "execution_count": 10,
     "metadata": {},
     "output_type": "execute_result"
    }
   ],
   "source": [
    "new_data.tail()"
   ]
  },
  {
   "cell_type": "code",
   "execution_count": 11,
   "id": "501cd12a",
   "metadata": {},
   "outputs": [],
   "source": [
    "#pip install quandl\n",
    "import quandl"
   ]
  },
  {
   "cell_type": "code",
   "execution_count": 12,
   "id": "061ef323",
   "metadata": {},
   "outputs": [],
   "source": [
    "mydata = quandl.get('FRED/GDP')"
   ]
  },
  {
   "cell_type": "code",
   "execution_count": 13,
   "id": "88686aee",
   "metadata": {},
   "outputs": [
    {
     "data": {
      "text/html": [
       "<div>\n",
       "<style scoped>\n",
       "    .dataframe tbody tr th:only-of-type {\n",
       "        vertical-align: middle;\n",
       "    }\n",
       "\n",
       "    .dataframe tbody tr th {\n",
       "        vertical-align: top;\n",
       "    }\n",
       "\n",
       "    .dataframe thead th {\n",
       "        text-align: right;\n",
       "    }\n",
       "</style>\n",
       "<table border=\"1\" class=\"dataframe\">\n",
       "  <thead>\n",
       "    <tr style=\"text-align: right;\">\n",
       "      <th></th>\n",
       "      <th>Value</th>\n",
       "    </tr>\n",
       "    <tr>\n",
       "      <th>Date</th>\n",
       "      <th></th>\n",
       "    </tr>\n",
       "  </thead>\n",
       "  <tbody>\n",
       "    <tr>\n",
       "      <th>1947-01-01</th>\n",
       "      <td>243.164</td>\n",
       "    </tr>\n",
       "    <tr>\n",
       "      <th>1947-04-01</th>\n",
       "      <td>245.968</td>\n",
       "    </tr>\n",
       "    <tr>\n",
       "      <th>1947-07-01</th>\n",
       "      <td>249.585</td>\n",
       "    </tr>\n",
       "    <tr>\n",
       "      <th>1947-10-01</th>\n",
       "      <td>259.745</td>\n",
       "    </tr>\n",
       "    <tr>\n",
       "      <th>1948-01-01</th>\n",
       "      <td>265.742</td>\n",
       "    </tr>\n",
       "    <tr>\n",
       "      <th>...</th>\n",
       "      <td>...</td>\n",
       "    </tr>\n",
       "    <tr>\n",
       "      <th>2020-10-01</th>\n",
       "      <td>21477.597</td>\n",
       "    </tr>\n",
       "    <tr>\n",
       "      <th>2021-01-01</th>\n",
       "      <td>22038.226</td>\n",
       "    </tr>\n",
       "    <tr>\n",
       "      <th>2021-04-01</th>\n",
       "      <td>22740.959</td>\n",
       "    </tr>\n",
       "    <tr>\n",
       "      <th>2021-07-01</th>\n",
       "      <td>23202.344</td>\n",
       "    </tr>\n",
       "    <tr>\n",
       "      <th>2021-10-01</th>\n",
       "      <td>23992.355</td>\n",
       "    </tr>\n",
       "  </tbody>\n",
       "</table>\n",
       "<p>300 rows × 1 columns</p>\n",
       "</div>"
      ],
      "text/plain": [
       "                Value\n",
       "Date                 \n",
       "1947-01-01    243.164\n",
       "1947-04-01    245.968\n",
       "1947-07-01    249.585\n",
       "1947-10-01    259.745\n",
       "1948-01-01    265.742\n",
       "...               ...\n",
       "2020-10-01  21477.597\n",
       "2021-01-01  22038.226\n",
       "2021-04-01  22740.959\n",
       "2021-07-01  23202.344\n",
       "2021-10-01  23992.355\n",
       "\n",
       "[300 rows x 1 columns]"
      ]
     },
     "execution_count": 13,
     "metadata": {},
     "output_type": "execute_result"
    }
   ],
   "source": [
    "mydata"
   ]
  },
  {
   "cell_type": "markdown",
   "id": "3b5445f4",
   "metadata": {},
   "source": [
    "## Calculating security's rate of return\n",
    "rate of return = ending price - beginning price / beginning price\n",
    "\n",
    "annual return = [(daily return + 1)^365]*100-1\n",
    "\n",
    "simple return mainly used for multiple stocks"
   ]
  },
  {
   "cell_type": "code",
   "execution_count": 14,
   "id": "ec70a22e",
   "metadata": {},
   "outputs": [
    {
     "name": "stdout",
     "output_type": "stream",
     "text": [
      "Date\n",
      "1995-01-03         NaN\n",
      "1995-01-04   -0.008016\n",
      "1995-01-05   -0.014142\n",
      "1995-01-06    0.002049\n",
      "1995-01-09   -0.004090\n",
      "                ...   \n",
      "2022-05-23    0.022992\n",
      "2022-05-24    0.017787\n",
      "2022-05-25   -0.016392\n",
      "2022-05-26    0.008746\n",
      "2022-05-27    0.015292\n",
      "Name: simple_return, Length: 6901, dtype: float64\n"
     ]
    }
   ],
   "source": [
    "PG['simple_return'] = (PG['Adj Close'] / PG['Adj Close'].shift(1)) - 1\n",
    "print(PG['simple_return'])"
   ]
  },
  {
   "cell_type": "code",
   "execution_count": 15,
   "id": "c7c82653",
   "metadata": {},
   "outputs": [
    {
     "data": {
      "image/png": "[encoded data removed]",
      "text/plain": [
       "<Figure size 576x360 with 1 Axes>"
      ]
     },
     "metadata": {
      "needs_background": "light"
     },
     "output_type": "display_data"
    }
   ],
   "source": [
    "PG['simple_return'].plot(figsize=(8,5))\n",
    "plt.show()"
   ]
  },
  {
   "cell_type": "code",
   "execution_count": 16,
   "id": "22e2f615",
   "metadata": {},
   "outputs": [
    {
     "data": {
      "text/plain": [
       "0.0005252747938795099"
      ]
     },
     "execution_count": 16,
     "metadata": {},
     "output_type": "execute_result"
    }
   ],
   "source": [
    "avg_returns_d = PG['simple_return'].mean()\n",
    "avg_returns_d"
   ]
  },
  {
   "cell_type": "code",
   "execution_count": 17,
   "id": "a80b0e53",
   "metadata": {},
   "outputs": [
    {
     "data": {
      "text/plain": [
       "0.13131869846987748"
      ]
     },
     "execution_count": 17,
     "metadata": {},
     "output_type": "execute_result"
    }
   ],
   "source": [
    "#Around 250 trading days per year\n",
    "avg_returns_a = PG['simple_return'].mean()*250\n",
    "avg_returns_a"
   ]
  },
  {
   "cell_type": "code",
   "execution_count": 18,
   "id": "7d83d88c",
   "metadata": {},
   "outputs": [
    {
     "name": "stdout",
     "output_type": "stream",
     "text": [
      "13.132%\n"
     ]
    }
   ],
   "source": [
    "print(str(round(avg_returns_a, 5)*100) + '%')"
   ]
  },
  {
   "cell_type": "markdown",
   "id": "26f46abc",
   "metadata": {},
   "source": [
    "## Log returns\n",
    "log returns are mainly used for single stock"
   ]
  },
  {
   "cell_type": "code",
   "execution_count": 19,
   "id": "78a764d8",
   "metadata": {},
   "outputs": [
    {
     "data": {
      "text/html": [
       "<div>\n",
       "<style scoped>\n",
       "    .dataframe tbody tr th:only-of-type {\n",
       "        vertical-align: middle;\n",
       "    }\n",
       "\n",
       "    .dataframe tbody tr th {\n",
       "        vertical-align: top;\n",
       "    }\n",
       "\n",
       "    .dataframe thead th {\n",
       "        text-align: right;\n",
       "    }\n",
       "</style>\n",
       "<table border=\"1\" class=\"dataframe\">\n",
       "  <thead>\n",
       "    <tr style=\"text-align: right;\">\n",
       "      <th></th>\n",
       "      <th>High</th>\n",
       "      <th>Low</th>\n",
       "      <th>Open</th>\n",
       "      <th>Close</th>\n",
       "      <th>Volume</th>\n",
       "      <th>Adj Close</th>\n",
       "      <th>simple_return</th>\n",
       "    </tr>\n",
       "    <tr>\n",
       "      <th>Date</th>\n",
       "      <th></th>\n",
       "      <th></th>\n",
       "      <th></th>\n",
       "      <th></th>\n",
       "      <th></th>\n",
       "      <th></th>\n",
       "      <th></th>\n",
       "    </tr>\n",
       "  </thead>\n",
       "  <tbody>\n",
       "    <tr>\n",
       "      <th>1995-01-03</th>\n",
       "      <td>15.62500</td>\n",
       "      <td>15.43750</td>\n",
       "      <td>15.46875</td>\n",
       "      <td>15.59375</td>\n",
       "      <td>3318400.0</td>\n",
       "      <td>7.926645</td>\n",
       "      <td>NaN</td>\n",
       "    </tr>\n",
       "    <tr>\n",
       "      <th>1995-01-04</th>\n",
       "      <td>15.65625</td>\n",
       "      <td>15.31250</td>\n",
       "      <td>15.53125</td>\n",
       "      <td>15.46875</td>\n",
       "      <td>2218800.0</td>\n",
       "      <td>7.863109</td>\n",
       "      <td>-0.008016</td>\n",
       "    </tr>\n",
       "    <tr>\n",
       "      <th>1995-01-05</th>\n",
       "      <td>15.43750</td>\n",
       "      <td>15.21875</td>\n",
       "      <td>15.37500</td>\n",
       "      <td>15.25000</td>\n",
       "      <td>2319600.0</td>\n",
       "      <td>7.751911</td>\n",
       "      <td>-0.014142</td>\n",
       "    </tr>\n",
       "    <tr>\n",
       "      <th>1995-01-06</th>\n",
       "      <td>15.40625</td>\n",
       "      <td>15.15625</td>\n",
       "      <td>15.15625</td>\n",
       "      <td>15.28125</td>\n",
       "      <td>3438000.0</td>\n",
       "      <td>7.767796</td>\n",
       "      <td>0.002049</td>\n",
       "    </tr>\n",
       "    <tr>\n",
       "      <th>1995-01-09</th>\n",
       "      <td>15.40625</td>\n",
       "      <td>15.18750</td>\n",
       "      <td>15.34375</td>\n",
       "      <td>15.21875</td>\n",
       "      <td>1795200.0</td>\n",
       "      <td>7.736025</td>\n",
       "      <td>-0.004090</td>\n",
       "    </tr>\n",
       "  </tbody>\n",
       "</table>\n",
       "</div>"
      ],
      "text/plain": [
       "                High       Low      Open     Close     Volume  Adj Close  \\\n",
       "Date                                                                       \n",
       "1995-01-03  15.62500  15.43750  15.46875  15.59375  3318400.0   7.926645   \n",
       "1995-01-04  15.65625  15.31250  15.53125  15.46875  2218800.0   7.863109   \n",
       "1995-01-05  15.43750  15.21875  15.37500  15.25000  2319600.0   7.751911   \n",
       "1995-01-06  15.40625  15.15625  15.15625  15.28125  3438000.0   7.767796   \n",
       "1995-01-09  15.40625  15.18750  15.34375  15.21875  1795200.0   7.736025   \n",
       "\n",
       "            simple_return  \n",
       "Date                       \n",
       "1995-01-03            NaN  \n",
       "1995-01-04      -0.008016  \n",
       "1995-01-05      -0.014142  \n",
       "1995-01-06       0.002049  \n",
       "1995-01-09      -0.004090  "
      ]
     },
     "execution_count": 19,
     "metadata": {},
     "output_type": "execute_result"
    }
   ],
   "source": [
    "PG.head()"
   ]
  },
  {
   "cell_type": "code",
   "execution_count": 20,
   "id": "2148b495",
   "metadata": {},
   "outputs": [
    {
     "name": "stdout",
     "output_type": "stream",
     "text": [
      "Date\n",
      "1995-01-03         NaN\n",
      "1995-01-04   -0.008048\n",
      "1995-01-05   -0.014243\n",
      "1995-01-06    0.002047\n",
      "1995-01-09   -0.004098\n",
      "                ...   \n",
      "2022-05-23    0.022731\n",
      "2022-05-24    0.017631\n",
      "2022-05-25   -0.016528\n",
      "2022-05-26    0.008708\n",
      "2022-05-27    0.015176\n",
      "Name: log_return, Length: 6901, dtype: float64\n"
     ]
    }
   ],
   "source": [
    "PG['log_return'] = np.log(PG['Adj Close'] / PG['Adj Close'].shift(1))\n",
    "print(PG['log_return'])"
   ]
  },
  {
   "cell_type": "code",
   "execution_count": 21,
   "id": "7844387e",
   "metadata": {},
   "outputs": [
    {
     "data": {
      "image/png": "[encoded data removed]",
      "text/plain": [
       "<Figure size 576x360 with 1 Axes>"
      ]
     },
     "metadata": {
      "needs_background": "light"
     },
     "output_type": "display_data"
    }
   ],
   "source": [
    "PG['log_return'].plot(figsize=(8,5))\n",
    "plt.show()"
   ]
  },
  {
   "cell_type": "code",
   "execution_count": 22,
   "id": "ac3d0e51",
   "metadata": {},
   "outputs": [
    {
     "data": {
      "text/plain": [
       "0.0004249036880044746"
      ]
     },
     "execution_count": 22,
     "metadata": {},
     "output_type": "execute_result"
    }
   ],
   "source": [
    "log_return_d = PG['log_return'].mean()\n",
    "log_return_d"
   ]
  },
  {
   "cell_type": "code",
   "execution_count": 23,
   "id": "ffccf616",
   "metadata": {},
   "outputs": [
    {
     "data": {
      "text/plain": [
       "0.10622592200111865"
      ]
     },
     "execution_count": 23,
     "metadata": {},
     "output_type": "execute_result"
    }
   ],
   "source": [
    "log_return_a = PG['log_return'].mean()*250\n",
    "log_return_a"
   ]
  },
  {
   "cell_type": "code",
   "execution_count": 24,
   "id": "42ba23bb",
   "metadata": {},
   "outputs": [
    {
     "name": "stdout",
     "output_type": "stream",
     "text": [
      "10.623000000000001%\n"
     ]
    }
   ],
   "source": [
    "print(str(round(log_return_a, 5)*100) + '%')"
   ]
  },
  {
   "cell_type": "markdown",
   "id": "8a7989cf",
   "metadata": {},
   "source": [
    "## Portfolio of security's rate of return\n",
    "Portfolio: Procter & Gamble, Microsoft, Ford, General Electric"
   ]
  },
  {
   "cell_type": "code",
   "execution_count": 25,
   "id": "ec9a6e84",
   "metadata": {},
   "outputs": [],
   "source": [
    "tickers = ['PG', 'MSFT', 'F', 'GE']\n",
    "mydata = pd.DataFrame()\n",
    "for t in tickers:\n",
    "    mydata[t] = wb.DataReader(t, data_source = 'yahoo', start = '1995-1-1')['Adj Close']"
   ]
  },
  {
   "cell_type": "code",
   "execution_count": 26,
   "id": "44518a53",
   "metadata": {},
   "outputs": [
    {
     "name": "stdout",
     "output_type": "stream",
     "text": [
      "<class 'pandas.core.frame.DataFrame'>\n",
      "DatetimeIndex: 6901 entries, 1995-01-03 to 2022-05-27\n",
      "Data columns (total 4 columns):\n",
      " #   Column  Non-Null Count  Dtype  \n",
      "---  ------  --------------  -----  \n",
      " 0   PG      6901 non-null   float64\n",
      " 1   MSFT    6901 non-null   float64\n",
      " 2   F       6901 non-null   float64\n",
      " 3   GE      6901 non-null   float64\n",
      "dtypes: float64(4)\n",
      "memory usage: 269.6 KB\n"
     ]
    }
   ],
   "source": [
    "mydata.info()"
   ]
  },
  {
   "cell_type": "code",
   "execution_count": 27,
   "id": "29d7a823",
   "metadata": {},
   "outputs": [
    {
     "data": {
      "text/html": [
       "<div>\n",
       "<style scoped>\n",
       "    .dataframe tbody tr th:only-of-type {\n",
       "        vertical-align: middle;\n",
       "    }\n",
       "\n",
       "    .dataframe tbody tr th {\n",
       "        vertical-align: top;\n",
       "    }\n",
       "\n",
       "    .dataframe thead th {\n",
       "        text-align: right;\n",
       "    }\n",
       "</style>\n",
       "<table border=\"1\" class=\"dataframe\">\n",
       "  <thead>\n",
       "    <tr style=\"text-align: right;\">\n",
       "      <th></th>\n",
       "      <th>PG</th>\n",
       "      <th>MSFT</th>\n",
       "      <th>F</th>\n",
       "      <th>GE</th>\n",
       "    </tr>\n",
       "    <tr>\n",
       "      <th>Date</th>\n",
       "      <th></th>\n",
       "      <th></th>\n",
       "      <th></th>\n",
       "      <th></th>\n",
       "    </tr>\n",
       "  </thead>\n",
       "  <tbody>\n",
       "    <tr>\n",
       "      <th>1995-01-03</th>\n",
       "      <td>7.926647</td>\n",
       "      <td>2.364447</td>\n",
       "      <td>4.307286</td>\n",
       "      <td>32.847824</td>\n",
       "    </tr>\n",
       "    <tr>\n",
       "      <th>1995-01-04</th>\n",
       "      <td>7.863111</td>\n",
       "      <td>2.381635</td>\n",
       "      <td>4.423177</td>\n",
       "      <td>32.847824</td>\n",
       "    </tr>\n",
       "    <tr>\n",
       "      <th>1995-01-05</th>\n",
       "      <td>7.751916</td>\n",
       "      <td>2.342349</td>\n",
       "      <td>4.384546</td>\n",
       "      <td>32.928326</td>\n",
       "    </tr>\n",
       "    <tr>\n",
       "      <th>1995-01-06</th>\n",
       "      <td>7.767796</td>\n",
       "      <td>2.381635</td>\n",
       "      <td>4.384546</td>\n",
       "      <td>32.767300</td>\n",
       "    </tr>\n",
       "    <tr>\n",
       "      <th>1995-01-09</th>\n",
       "      <td>7.736032</td>\n",
       "      <td>2.366902</td>\n",
       "      <td>4.461808</td>\n",
       "      <td>32.445240</td>\n",
       "    </tr>\n",
       "    <tr>\n",
       "      <th>...</th>\n",
       "      <td>...</td>\n",
       "      <td>...</td>\n",
       "      <td>...</td>\n",
       "      <td>...</td>\n",
       "    </tr>\n",
       "    <tr>\n",
       "      <th>2022-05-23</th>\n",
       "      <td>145.050003</td>\n",
       "      <td>260.649994</td>\n",
       "      <td>12.830000</td>\n",
       "      <td>75.459999</td>\n",
       "    </tr>\n",
       "    <tr>\n",
       "      <th>2022-05-24</th>\n",
       "      <td>147.630005</td>\n",
       "      <td>259.619995</td>\n",
       "      <td>12.420000</td>\n",
       "      <td>74.519997</td>\n",
       "    </tr>\n",
       "    <tr>\n",
       "      <th>2022-05-25</th>\n",
       "      <td>145.210007</td>\n",
       "      <td>262.519989</td>\n",
       "      <td>12.710000</td>\n",
       "      <td>74.529999</td>\n",
       "    </tr>\n",
       "    <tr>\n",
       "      <th>2022-05-26</th>\n",
       "      <td>146.479996</td>\n",
       "      <td>265.899994</td>\n",
       "      <td>13.120000</td>\n",
       "      <td>77.010002</td>\n",
       "    </tr>\n",
       "    <tr>\n",
       "      <th>2022-05-27</th>\n",
       "      <td>148.720001</td>\n",
       "      <td>273.239990</td>\n",
       "      <td>13.630000</td>\n",
       "      <td>78.760002</td>\n",
       "    </tr>\n",
       "  </tbody>\n",
       "</table>\n",
       "<p>6901 rows × 4 columns</p>\n",
       "</div>"
      ],
      "text/plain": [
       "                    PG        MSFT          F         GE\n",
       "Date                                                    \n",
       "1995-01-03    7.926647    2.364447   4.307286  32.847824\n",
       "1995-01-04    7.863111    2.381635   4.423177  32.847824\n",
       "1995-01-05    7.751916    2.342349   4.384546  32.928326\n",
       "1995-01-06    7.767796    2.381635   4.384546  32.767300\n",
       "1995-01-09    7.736032    2.366902   4.461808  32.445240\n",
       "...                ...         ...        ...        ...\n",
       "2022-05-23  145.050003  260.649994  12.830000  75.459999\n",
       "2022-05-24  147.630005  259.619995  12.420000  74.519997\n",
       "2022-05-25  145.210007  262.519989  12.710000  74.529999\n",
       "2022-05-26  146.479996  265.899994  13.120000  77.010002\n",
       "2022-05-27  148.720001  273.239990  13.630000  78.760002\n",
       "\n",
       "[6901 rows x 4 columns]"
      ]
     },
     "execution_count": 27,
     "metadata": {},
     "output_type": "execute_result"
    }
   ],
   "source": [
    "mydata"
   ]
  },
  {
   "cell_type": "code",
   "execution_count": 28,
   "id": "a330cae8",
   "metadata": {},
   "outputs": [
    {
     "data": {
      "text/plain": [
       "PG       7.926647\n",
       "MSFT     2.364447\n",
       "F        4.307286\n",
       "GE      32.847824\n",
       "Name: 1995-01-03 00:00:00, dtype: float64"
      ]
     },
     "execution_count": 28,
     "metadata": {},
     "output_type": "execute_result"
    }
   ],
   "source": [
    "#Normalization to 100\n",
    "mydata.iloc[0]"
   ]
  },
  {
   "cell_type": "code",
   "execution_count": 29,
   "id": "11c05b44",
   "metadata": {},
   "outputs": [
    {
     "data": {
      "image/png": "[encoded data removed]",
      "text/plain": [
       "<Figure size 1080x432 with 1 Axes>"
      ]
     },
     "metadata": {
      "needs_background": "light"
     },
     "output_type": "display_data"
    }
   ],
   "source": [
    "(mydata / mydata.iloc[0] * 100).plot(figsize = (15,6))\n",
    "plt.show()"
   ]
  },
  {
   "cell_type": "markdown",
   "id": "34ca2754",
   "metadata": {},
   "source": [
    "## Portfolio of security's Simple rate of return"
   ]
  },
  {
   "cell_type": "code",
   "execution_count": 30,
   "id": "0ee09a02",
   "metadata": {},
   "outputs": [
    {
     "data": {
      "text/html": [
       "<div>\n",
       "<style scoped>\n",
       "    .dataframe tbody tr th:only-of-type {\n",
       "        vertical-align: middle;\n",
       "    }\n",
       "\n",
       "    .dataframe tbody tr th {\n",
       "        vertical-align: top;\n",
       "    }\n",
       "\n",
       "    .dataframe thead th {\n",
       "        text-align: right;\n",
       "    }\n",
       "</style>\n",
       "<table border=\"1\" class=\"dataframe\">\n",
       "  <thead>\n",
       "    <tr style=\"text-align: right;\">\n",
       "      <th></th>\n",
       "      <th>PG</th>\n",
       "      <th>MSFT</th>\n",
       "      <th>F</th>\n",
       "      <th>GE</th>\n",
       "    </tr>\n",
       "    <tr>\n",
       "      <th>Date</th>\n",
       "      <th></th>\n",
       "      <th></th>\n",
       "      <th></th>\n",
       "      <th></th>\n",
       "    </tr>\n",
       "  </thead>\n",
       "  <tbody>\n",
       "    <tr>\n",
       "      <th>2022-05-23</th>\n",
       "      <td>0.022992</td>\n",
       "      <td>0.032032</td>\n",
       "      <td>0.026400</td>\n",
       "      <td>0.002791</td>\n",
       "    </tr>\n",
       "    <tr>\n",
       "      <th>2022-05-24</th>\n",
       "      <td>0.017787</td>\n",
       "      <td>-0.003952</td>\n",
       "      <td>-0.031956</td>\n",
       "      <td>-0.012457</td>\n",
       "    </tr>\n",
       "    <tr>\n",
       "      <th>2022-05-25</th>\n",
       "      <td>-0.016392</td>\n",
       "      <td>0.011170</td>\n",
       "      <td>0.023349</td>\n",
       "      <td>0.000134</td>\n",
       "    </tr>\n",
       "    <tr>\n",
       "      <th>2022-05-26</th>\n",
       "      <td>0.008746</td>\n",
       "      <td>0.012875</td>\n",
       "      <td>0.032258</td>\n",
       "      <td>0.033275</td>\n",
       "    </tr>\n",
       "    <tr>\n",
       "      <th>2022-05-27</th>\n",
       "      <td>0.015292</td>\n",
       "      <td>0.027604</td>\n",
       "      <td>0.038872</td>\n",
       "      <td>0.022724</td>\n",
       "    </tr>\n",
       "  </tbody>\n",
       "</table>\n",
       "</div>"
      ],
      "text/plain": [
       "                  PG      MSFT         F        GE\n",
       "Date                                              \n",
       "2022-05-23  0.022992  0.032032  0.026400  0.002791\n",
       "2022-05-24  0.017787 -0.003952 -0.031956 -0.012457\n",
       "2022-05-25 -0.016392  0.011170  0.023349  0.000134\n",
       "2022-05-26  0.008746  0.012875  0.032258  0.033275\n",
       "2022-05-27  0.015292  0.027604  0.038872  0.022724"
      ]
     },
     "execution_count": 30,
     "metadata": {},
     "output_type": "execute_result"
    }
   ],
   "source": [
    "returns = (mydata / mydata.shift(1)) - 1\n",
    "returns.tail()"
   ]
  },
  {
   "cell_type": "code",
   "execution_count": 31,
   "id": "fb8a5eb5",
   "metadata": {},
   "outputs": [],
   "source": [
    "weights = np.array([0.25, 0.25, 0.25, 0.25])"
   ]
  },
  {
   "cell_type": "code",
   "execution_count": 32,
   "id": "d592ce88",
   "metadata": {},
   "outputs": [
    {
     "data": {
      "text/plain": [
       "array([        nan,  0.00653987, -0.00922989, ...,  0.00456537,\n",
       "        0.0217886 ,  0.02612322])"
      ]
     },
     "execution_count": 32,
     "metadata": {},
     "output_type": "execute_result"
    }
   ],
   "source": [
    "np.dot(returns, weights)"
   ]
  },
  {
   "cell_type": "code",
   "execution_count": 33,
   "id": "2f07e1cb",
   "metadata": {},
   "outputs": [
    {
     "data": {
      "text/plain": [
       "PG      0.131319\n",
       "MSFT    0.221268\n",
       "F       0.122391\n",
       "GE      0.083260\n",
       "dtype: float64"
      ]
     },
     "execution_count": 33,
     "metadata": {},
     "output_type": "execute_result"
    }
   ],
   "source": [
    "annual_returns = returns.mean()*250\n",
    "annual_returns"
   ]
  },
  {
   "cell_type": "code",
   "execution_count": 34,
   "id": "ed9caa11",
   "metadata": {},
   "outputs": [
    {
     "data": {
      "text/plain": [
       "0.13955934847142043"
      ]
     },
     "execution_count": 34,
     "metadata": {},
     "output_type": "execute_result"
    }
   ],
   "source": [
    "np.dot(annual_returns, weights)"
   ]
  },
  {
   "cell_type": "code",
   "execution_count": 35,
   "id": "c6879a10",
   "metadata": {},
   "outputs": [
    {
     "name": "stdout",
     "output_type": "stream",
     "text": [
      "13.956%\n"
     ]
    }
   ],
   "source": [
    "pfolio_1 = str(round(np.dot(annual_returns, weights), 5) * 100) + '%'\n",
    "print(pfolio_1)"
   ]
  },
  {
   "cell_type": "code",
   "execution_count": 36,
   "id": "a79f9597",
   "metadata": {},
   "outputs": [],
   "source": [
    "weights_2 = np.array([0.4, 0.4, 0.15, 0.05])"
   ]
  },
  {
   "cell_type": "code",
   "execution_count": 37,
   "id": "4795bb87",
   "metadata": {},
   "outputs": [
    {
     "name": "stdout",
     "output_type": "stream",
     "text": [
      "13.956% in return\n",
      "16.356% in return\n"
     ]
    }
   ],
   "source": [
    "pfolio_2 = str(round(np.dot(annual_returns, weights_2), 5) * 100) + '%'\n",
    "print(pfolio_1, 'in return')\n",
    "print(pfolio_2, 'in return')"
   ]
  },
  {
   "cell_type": "markdown",
   "id": "668da27a",
   "metadata": {},
   "source": [
    "## Indices' rate of return"
   ]
  },
  {
   "cell_type": "code",
   "execution_count": 38,
   "id": "d947b482",
   "metadata": {},
   "outputs": [],
   "source": [
    "indices = ['^GSPC', '^IXIC', '^GDAXI', '^DJI']\n",
    "ind_data = pd.DataFrame()\n",
    "\n",
    "for i in indices:\n",
    "    ind_data[i] = wb.DataReader(i, data_source = 'yahoo', start= '1997-1-1')['Adj Close']"
   ]
  },
  {
   "cell_type": "code",
   "execution_count": 39,
   "id": "2031d4c6",
   "metadata": {},
   "outputs": [
    {
     "data": {
      "text/html": [
       "<div>\n",
       "<style scoped>\n",
       "    .dataframe tbody tr th:only-of-type {\n",
       "        vertical-align: middle;\n",
       "    }\n",
       "\n",
       "    .dataframe tbody tr th {\n",
       "        vertical-align: top;\n",
       "    }\n",
       "\n",
       "    .dataframe thead th {\n",
       "        text-align: right;\n",
       "    }\n",
       "</style>\n",
       "<table border=\"1\" class=\"dataframe\">\n",
       "  <thead>\n",
       "    <tr style=\"text-align: right;\">\n",
       "      <th></th>\n",
       "      <th>^GSPC</th>\n",
       "      <th>^IXIC</th>\n",
       "      <th>^GDAXI</th>\n",
       "      <th>^DJI</th>\n",
       "    </tr>\n",
       "    <tr>\n",
       "      <th>Date</th>\n",
       "      <th></th>\n",
       "      <th></th>\n",
       "      <th></th>\n",
       "      <th></th>\n",
       "    </tr>\n",
       "  </thead>\n",
       "  <tbody>\n",
       "    <tr>\n",
       "      <th>1996-12-31</th>\n",
       "      <td>740.739990</td>\n",
       "      <td>1291.030029</td>\n",
       "      <td>NaN</td>\n",
       "      <td>6448.270020</td>\n",
       "    </tr>\n",
       "    <tr>\n",
       "      <th>1997-01-02</th>\n",
       "      <td>737.010010</td>\n",
       "      <td>1280.699951</td>\n",
       "      <td>2820.810059</td>\n",
       "      <td>6442.490234</td>\n",
       "    </tr>\n",
       "    <tr>\n",
       "      <th>1997-01-03</th>\n",
       "      <td>748.030029</td>\n",
       "      <td>1310.680054</td>\n",
       "      <td>2863.260010</td>\n",
       "      <td>6544.089844</td>\n",
       "    </tr>\n",
       "    <tr>\n",
       "      <th>1997-01-06</th>\n",
       "      <td>747.650024</td>\n",
       "      <td>1316.400024</td>\n",
       "      <td>2890.199951</td>\n",
       "      <td>6567.180176</td>\n",
       "    </tr>\n",
       "    <tr>\n",
       "      <th>1997-01-07</th>\n",
       "      <td>753.229980</td>\n",
       "      <td>1327.729980</td>\n",
       "      <td>2876.340088</td>\n",
       "      <td>6600.660156</td>\n",
       "    </tr>\n",
       "    <tr>\n",
       "      <th>...</th>\n",
       "      <td>...</td>\n",
       "      <td>...</td>\n",
       "      <td>...</td>\n",
       "      <td>...</td>\n",
       "    </tr>\n",
       "    <tr>\n",
       "      <th>2022-05-23</th>\n",
       "      <td>3973.750000</td>\n",
       "      <td>11535.269531</td>\n",
       "      <td>14175.400391</td>\n",
       "      <td>31880.240234</td>\n",
       "    </tr>\n",
       "    <tr>\n",
       "      <th>2022-05-24</th>\n",
       "      <td>3941.479980</td>\n",
       "      <td>11264.450195</td>\n",
       "      <td>13919.750000</td>\n",
       "      <td>31928.619141</td>\n",
       "    </tr>\n",
       "    <tr>\n",
       "      <th>2022-05-25</th>\n",
       "      <td>3978.729980</td>\n",
       "      <td>11434.740234</td>\n",
       "      <td>14007.929688</td>\n",
       "      <td>32120.279297</td>\n",
       "    </tr>\n",
       "    <tr>\n",
       "      <th>2022-05-26</th>\n",
       "      <td>4057.840088</td>\n",
       "      <td>11740.650391</td>\n",
       "      <td>14231.290039</td>\n",
       "      <td>32637.189453</td>\n",
       "    </tr>\n",
       "    <tr>\n",
       "      <th>2022-05-27</th>\n",
       "      <td>4158.240234</td>\n",
       "      <td>12131.129883</td>\n",
       "      <td>14462.190430</td>\n",
       "      <td>33212.960938</td>\n",
       "    </tr>\n",
       "  </tbody>\n",
       "</table>\n",
       "<p>6396 rows × 4 columns</p>\n",
       "</div>"
      ],
      "text/plain": [
       "                  ^GSPC         ^IXIC        ^GDAXI          ^DJI\n",
       "Date                                                             \n",
       "1996-12-31   740.739990   1291.030029           NaN   6448.270020\n",
       "1997-01-02   737.010010   1280.699951   2820.810059   6442.490234\n",
       "1997-01-03   748.030029   1310.680054   2863.260010   6544.089844\n",
       "1997-01-06   747.650024   1316.400024   2890.199951   6567.180176\n",
       "1997-01-07   753.229980   1327.729980   2876.340088   6600.660156\n",
       "...                 ...           ...           ...           ...\n",
       "2022-05-23  3973.750000  11535.269531  14175.400391  31880.240234\n",
       "2022-05-24  3941.479980  11264.450195  13919.750000  31928.619141\n",
       "2022-05-25  3978.729980  11434.740234  14007.929688  32120.279297\n",
       "2022-05-26  4057.840088  11740.650391  14231.290039  32637.189453\n",
       "2022-05-27  4158.240234  12131.129883  14462.190430  33212.960938\n",
       "\n",
       "[6396 rows x 4 columns]"
      ]
     },
     "execution_count": 39,
     "metadata": {},
     "output_type": "execute_result"
    }
   ],
   "source": [
    "ind_data"
   ]
  },
  {
   "cell_type": "code",
   "execution_count": 40,
   "id": "63f9a4e3",
   "metadata": {},
   "outputs": [
    {
     "data": {
      "image/png": "[encoded data removed]",
      "text/plain": [
       "<Figure size 1080x432 with 1 Axes>"
      ]
     },
     "metadata": {
      "needs_background": "light"
     },
     "output_type": "display_data"
    }
   ],
   "source": [
    "(ind_data / ind_data.iloc[0] * 100).plot(figsize = (15,6))\n",
    "plt.show()"
   ]
  },
  {
   "cell_type": "code",
   "execution_count": 41,
   "id": "b341d0e1",
   "metadata": {},
   "outputs": [
    {
     "data": {
      "text/html": [
       "<div>\n",
       "<style scoped>\n",
       "    .dataframe tbody tr th:only-of-type {\n",
       "        vertical-align: middle;\n",
       "    }\n",
       "\n",
       "    .dataframe tbody tr th {\n",
       "        vertical-align: top;\n",
       "    }\n",
       "\n",
       "    .dataframe thead th {\n",
       "        text-align: right;\n",
       "    }\n",
       "</style>\n",
       "<table border=\"1\" class=\"dataframe\">\n",
       "  <thead>\n",
       "    <tr style=\"text-align: right;\">\n",
       "      <th></th>\n",
       "      <th>^GSPC</th>\n",
       "      <th>^IXIC</th>\n",
       "      <th>^GDAXI</th>\n",
       "      <th>^DJI</th>\n",
       "    </tr>\n",
       "    <tr>\n",
       "      <th>Date</th>\n",
       "      <th></th>\n",
       "      <th></th>\n",
       "      <th></th>\n",
       "      <th></th>\n",
       "    </tr>\n",
       "  </thead>\n",
       "  <tbody>\n",
       "    <tr>\n",
       "      <th>2022-05-23</th>\n",
       "      <td>0.018555</td>\n",
       "      <td>0.015910</td>\n",
       "      <td>0.013839</td>\n",
       "      <td>0.019779</td>\n",
       "    </tr>\n",
       "    <tr>\n",
       "      <th>2022-05-24</th>\n",
       "      <td>-0.008121</td>\n",
       "      <td>-0.023478</td>\n",
       "      <td>-0.018035</td>\n",
       "      <td>0.001518</td>\n",
       "    </tr>\n",
       "    <tr>\n",
       "      <th>2022-05-25</th>\n",
       "      <td>0.009451</td>\n",
       "      <td>0.015117</td>\n",
       "      <td>0.006335</td>\n",
       "      <td>0.006003</td>\n",
       "    </tr>\n",
       "    <tr>\n",
       "      <th>2022-05-26</th>\n",
       "      <td>0.019883</td>\n",
       "      <td>0.026753</td>\n",
       "      <td>0.015945</td>\n",
       "      <td>0.016093</td>\n",
       "    </tr>\n",
       "    <tr>\n",
       "      <th>2022-05-27</th>\n",
       "      <td>0.024742</td>\n",
       "      <td>0.033259</td>\n",
       "      <td>0.016225</td>\n",
       "      <td>0.017642</td>\n",
       "    </tr>\n",
       "  </tbody>\n",
       "</table>\n",
       "</div>"
      ],
      "text/plain": [
       "               ^GSPC     ^IXIC    ^GDAXI      ^DJI\n",
       "Date                                              \n",
       "2022-05-23  0.018555  0.015910  0.013839  0.019779\n",
       "2022-05-24 -0.008121 -0.023478 -0.018035  0.001518\n",
       "2022-05-25  0.009451  0.015117  0.006335  0.006003\n",
       "2022-05-26  0.019883  0.026753  0.015945  0.016093\n",
       "2022-05-27  0.024742  0.033259  0.016225  0.017642"
      ]
     },
     "execution_count": 41,
     "metadata": {},
     "output_type": "execute_result"
    }
   ],
   "source": [
    "ind_returns = (ind_data / ind_data.shift(1)) - 1\n",
    "ind_returns.tail()"
   ]
  },
  {
   "cell_type": "code",
   "execution_count": 42,
   "id": "67be06ee",
   "metadata": {},
   "outputs": [
    {
     "data": {
      "text/plain": [
       "^GSPC     0.086600\n",
       "^IXIC     0.119151\n",
       "^GDAXI    0.076626\n",
       "^DJI      0.081710\n",
       "dtype: float64"
      ]
     },
     "execution_count": 42,
     "metadata": {},
     "output_type": "execute_result"
    }
   ],
   "source": [
    "ind_annual_returns = ind_returns.mean()*250\n",
    "ind_annual_returns"
   ]
  },
  {
   "cell_type": "markdown",
   "id": "a1908b61",
   "metadata": {},
   "source": [
    "# Risk of Security"
   ]
  },
  {
   "cell_type": "code",
   "execution_count": 43,
   "id": "0df11d18",
   "metadata": {},
   "outputs": [],
   "source": [
    "sec_tickers = ['PG', 'BEI.DE']\n",
    "sec_data = pd.DataFrame()\n",
    "\n",
    "for s in sec_tickers:\n",
    "    sec_data[s] = wb.DataReader(s, data_source = 'yahoo', start = '2012-1-1')['Adj Close']"
   ]
  },
  {
   "cell_type": "code",
   "execution_count": 44,
   "id": "b395cef6",
   "metadata": {},
   "outputs": [
    {
     "data": {
      "text/html": [
       "<div>\n",
       "<style scoped>\n",
       "    .dataframe tbody tr th:only-of-type {\n",
       "        vertical-align: middle;\n",
       "    }\n",
       "\n",
       "    .dataframe tbody tr th {\n",
       "        vertical-align: top;\n",
       "    }\n",
       "\n",
       "    .dataframe thead th {\n",
       "        text-align: right;\n",
       "    }\n",
       "</style>\n",
       "<table border=\"1\" class=\"dataframe\">\n",
       "  <thead>\n",
       "    <tr style=\"text-align: right;\">\n",
       "      <th></th>\n",
       "      <th>PG</th>\n",
       "      <th>BEI.DE</th>\n",
       "    </tr>\n",
       "    <tr>\n",
       "      <th>Date</th>\n",
       "      <th></th>\n",
       "      <th></th>\n",
       "    </tr>\n",
       "  </thead>\n",
       "  <tbody>\n",
       "    <tr>\n",
       "      <th>2022-05-23</th>\n",
       "      <td>145.050003</td>\n",
       "      <td>95.519997</td>\n",
       "    </tr>\n",
       "    <tr>\n",
       "      <th>2022-05-24</th>\n",
       "      <td>147.630005</td>\n",
       "      <td>95.379997</td>\n",
       "    </tr>\n",
       "    <tr>\n",
       "      <th>2022-05-25</th>\n",
       "      <td>145.210007</td>\n",
       "      <td>95.379997</td>\n",
       "    </tr>\n",
       "    <tr>\n",
       "      <th>2022-05-26</th>\n",
       "      <td>146.479996</td>\n",
       "      <td>94.800003</td>\n",
       "    </tr>\n",
       "    <tr>\n",
       "      <th>2022-05-27</th>\n",
       "      <td>148.720001</td>\n",
       "      <td>94.800003</td>\n",
       "    </tr>\n",
       "  </tbody>\n",
       "</table>\n",
       "</div>"
      ],
      "text/plain": [
       "                    PG     BEI.DE\n",
       "Date                             \n",
       "2022-05-23  145.050003  95.519997\n",
       "2022-05-24  147.630005  95.379997\n",
       "2022-05-25  145.210007  95.379997\n",
       "2022-05-26  146.479996  94.800003\n",
       "2022-05-27  148.720001  94.800003"
      ]
     },
     "execution_count": 44,
     "metadata": {},
     "output_type": "execute_result"
    }
   ],
   "source": [
    "sec_data.tail()"
   ]
  },
  {
   "cell_type": "code",
   "execution_count": 45,
   "id": "6f4eecdd",
   "metadata": {},
   "outputs": [],
   "source": [
    "sec_returns = np.log(sec_data / sec_data.shift(1))"
   ]
  },
  {
   "cell_type": "code",
   "execution_count": 46,
   "id": "978d4c2b",
   "metadata": {},
   "outputs": [
    {
     "data": {
      "text/html": [
       "<div>\n",
       "<style scoped>\n",
       "    .dataframe tbody tr th:only-of-type {\n",
       "        vertical-align: middle;\n",
       "    }\n",
       "\n",
       "    .dataframe tbody tr th {\n",
       "        vertical-align: top;\n",
       "    }\n",
       "\n",
       "    .dataframe thead th {\n",
       "        text-align: right;\n",
       "    }\n",
       "</style>\n",
       "<table border=\"1\" class=\"dataframe\">\n",
       "  <thead>\n",
       "    <tr style=\"text-align: right;\">\n",
       "      <th></th>\n",
       "      <th>PG</th>\n",
       "      <th>BEI.DE</th>\n",
       "    </tr>\n",
       "    <tr>\n",
       "      <th>Date</th>\n",
       "      <th></th>\n",
       "      <th></th>\n",
       "    </tr>\n",
       "  </thead>\n",
       "  <tbody>\n",
       "    <tr>\n",
       "      <th>2012-01-03</th>\n",
       "      <td>NaN</td>\n",
       "      <td>NaN</td>\n",
       "    </tr>\n",
       "    <tr>\n",
       "      <th>2012-01-04</th>\n",
       "      <td>-0.000449</td>\n",
       "      <td>-0.004606</td>\n",
       "    </tr>\n",
       "    <tr>\n",
       "      <th>2012-01-05</th>\n",
       "      <td>-0.004200</td>\n",
       "      <td>-0.003045</td>\n",
       "    </tr>\n",
       "    <tr>\n",
       "      <th>2012-01-06</th>\n",
       "      <td>-0.002408</td>\n",
       "      <td>-0.002262</td>\n",
       "    </tr>\n",
       "    <tr>\n",
       "      <th>2012-01-09</th>\n",
       "      <td>0.004210</td>\n",
       "      <td>0.000453</td>\n",
       "    </tr>\n",
       "    <tr>\n",
       "      <th>...</th>\n",
       "      <td>...</td>\n",
       "      <td>...</td>\n",
       "    </tr>\n",
       "    <tr>\n",
       "      <th>2022-05-23</th>\n",
       "      <td>0.022731</td>\n",
       "      <td>0.016892</td>\n",
       "    </tr>\n",
       "    <tr>\n",
       "      <th>2022-05-24</th>\n",
       "      <td>0.017631</td>\n",
       "      <td>-0.001467</td>\n",
       "    </tr>\n",
       "    <tr>\n",
       "      <th>2022-05-25</th>\n",
       "      <td>-0.016528</td>\n",
       "      <td>0.000000</td>\n",
       "    </tr>\n",
       "    <tr>\n",
       "      <th>2022-05-26</th>\n",
       "      <td>0.008708</td>\n",
       "      <td>-0.006099</td>\n",
       "    </tr>\n",
       "    <tr>\n",
       "      <th>2022-05-27</th>\n",
       "      <td>0.015176</td>\n",
       "      <td>0.000000</td>\n",
       "    </tr>\n",
       "  </tbody>\n",
       "</table>\n",
       "<p>2619 rows × 2 columns</p>\n",
       "</div>"
      ],
      "text/plain": [
       "                  PG    BEI.DE\n",
       "Date                          \n",
       "2012-01-03       NaN       NaN\n",
       "2012-01-04 -0.000449 -0.004606\n",
       "2012-01-05 -0.004200 -0.003045\n",
       "2012-01-06 -0.002408 -0.002262\n",
       "2012-01-09  0.004210  0.000453\n",
       "...              ...       ...\n",
       "2022-05-23  0.022731  0.016892\n",
       "2022-05-24  0.017631 -0.001467\n",
       "2022-05-25 -0.016528  0.000000\n",
       "2022-05-26  0.008708 -0.006099\n",
       "2022-05-27  0.015176  0.000000\n",
       "\n",
       "[2619 rows x 2 columns]"
      ]
     },
     "execution_count": 46,
     "metadata": {},
     "output_type": "execute_result"
    }
   ],
   "source": [
    "sec_returns"
   ]
  },
  {
   "cell_type": "markdown",
   "id": "70359146",
   "metadata": {},
   "source": [
    "## PG"
   ]
  },
  {
   "cell_type": "code",
   "execution_count": 47,
   "id": "18fd1d11",
   "metadata": {},
   "outputs": [
    {
     "data": {
      "text/plain": [
       "0.00042504699418922774"
      ]
     },
     "execution_count": 47,
     "metadata": {},
     "output_type": "execute_result"
    }
   ],
   "source": [
    "sec_returns['PG'].mean()"
   ]
  },
  {
   "cell_type": "code",
   "execution_count": 48,
   "id": "02c4741d",
   "metadata": {},
   "outputs": [
    {
     "data": {
      "text/plain": [
       "0.10626174854730694"
      ]
     },
     "execution_count": 48,
     "metadata": {},
     "output_type": "execute_result"
    }
   ],
   "source": [
    "sec_returns['PG'].mean() * 250"
   ]
  },
  {
   "cell_type": "code",
   "execution_count": 49,
   "id": "51ceec43",
   "metadata": {},
   "outputs": [
    {
     "data": {
      "text/plain": [
       "0.011164785824935181"
      ]
     },
     "execution_count": 49,
     "metadata": {},
     "output_type": "execute_result"
    }
   ],
   "source": [
    "sec_returns['PG'].std()"
   ]
  },
  {
   "cell_type": "code",
   "execution_count": 50,
   "id": "b1afa418",
   "metadata": {},
   "outputs": [
    {
     "data": {
      "text/plain": [
       "0.17653076397378556"
      ]
     },
     "execution_count": 50,
     "metadata": {},
     "output_type": "execute_result"
    }
   ],
   "source": [
    "sec_returns['PG'].std() * 250 ** 0.5"
   ]
  },
  {
   "cell_type": "markdown",
   "id": "1a82770b",
   "metadata": {},
   "source": [
    "## Beiersdorf"
   ]
  },
  {
   "cell_type": "code",
   "execution_count": 51,
   "id": "0556165a",
   "metadata": {},
   "outputs": [
    {
     "data": {
      "text/plain": [
       "0.00031418408655661134"
      ]
     },
     "execution_count": 51,
     "metadata": {},
     "output_type": "execute_result"
    }
   ],
   "source": [
    "sec_returns['BEI.DE'].mean()"
   ]
  },
  {
   "cell_type": "code",
   "execution_count": 52,
   "id": "a3188e62",
   "metadata": {},
   "outputs": [
    {
     "data": {
      "text/plain": [
       "0.07854602163915284"
      ]
     },
     "execution_count": 52,
     "metadata": {},
     "output_type": "execute_result"
    }
   ],
   "source": [
    "sec_returns['BEI.DE'].mean() * 250"
   ]
  },
  {
   "cell_type": "code",
   "execution_count": 53,
   "id": "90890935",
   "metadata": {},
   "outputs": [
    {
     "data": {
      "text/plain": [
       "0.012582398350245364"
      ]
     },
     "execution_count": 53,
     "metadata": {},
     "output_type": "execute_result"
    }
   ],
   "source": [
    "sec_returns['BEI.DE'].std()"
   ]
  },
  {
   "cell_type": "code",
   "execution_count": 54,
   "id": "f9aa29ce",
   "metadata": {},
   "outputs": [
    {
     "data": {
      "text/plain": [
       "0.19894518607160191"
      ]
     },
     "execution_count": 54,
     "metadata": {},
     "output_type": "execute_result"
    }
   ],
   "source": [
    "sec_returns['BEI.DE'].std() * 250 ** 0.5"
   ]
  },
  {
   "cell_type": "markdown",
   "id": "a3d81317",
   "metadata": {},
   "source": [
    "---"
   ]
  },
  {
   "cell_type": "code",
   "execution_count": 55,
   "id": "e5c8b1a5",
   "metadata": {
    "scrolled": true
   },
   "outputs": [
    {
     "name": "stdout",
     "output_type": "stream",
     "text": [
      "0.10626174854730694\n",
      "0.07854602163915284\n"
     ]
    }
   ],
   "source": [
    "print(sec_returns['PG'].mean() * 250)\n",
    "print(sec_returns['BEI.DE'].mean() * 250)"
   ]
  },
  {
   "cell_type": "code",
   "execution_count": 56,
   "id": "ba8a22aa",
   "metadata": {},
   "outputs": [
    {
     "data": {
      "text/plain": [
       "PG        0.106262\n",
       "BEI.DE    0.078546\n",
       "dtype: float64"
      ]
     },
     "execution_count": 56,
     "metadata": {},
     "output_type": "execute_result"
    }
   ],
   "source": [
    "sec_returns[['PG', 'BEI.DE']].mean() * 250"
   ]
  },
  {
   "cell_type": "code",
   "execution_count": 57,
   "id": "c4c4edcc",
   "metadata": {},
   "outputs": [
    {
     "data": {
      "text/plain": [
       "PG        0.176531\n",
       "BEI.DE    0.198945\n",
       "dtype: float64"
      ]
     },
     "execution_count": 57,
     "metadata": {},
     "output_type": "execute_result"
    }
   ],
   "source": [
    "sec_returns[['PG', 'BEI.DE']].std() * 250 ** 0.5"
   ]
  },
  {
   "cell_type": "markdown",
   "id": "d3de888c",
   "metadata": {},
   "source": [
    "---"
   ]
  },
  {
   "cell_type": "markdown",
   "id": "6c07722f",
   "metadata": {},
   "source": [
    "## Covariance and Correlation"
   ]
  },
  {
   "cell_type": "code",
   "execution_count": 58,
   "id": "4be03ba7",
   "metadata": {},
   "outputs": [
    {
     "data": {
      "text/plain": [
       "0.00012465244251667353"
      ]
     },
     "execution_count": 58,
     "metadata": {},
     "output_type": "execute_result"
    }
   ],
   "source": [
    "PG_var = sec_returns['PG'].var()\n",
    "PG_var"
   ]
  },
  {
   "cell_type": "code",
   "execution_count": 59,
   "id": "4d91d89d",
   "metadata": {},
   "outputs": [
    {
     "data": {
      "text/plain": [
       "0.00015831674824425725"
      ]
     },
     "execution_count": 59,
     "metadata": {},
     "output_type": "execute_result"
    }
   ],
   "source": [
    "BEI_var = sec_returns['BEI.DE'].var()\n",
    "BEI_var"
   ]
  },
  {
   "cell_type": "code",
   "execution_count": 60,
   "id": "5f336314",
   "metadata": {},
   "outputs": [
    {
     "data": {
      "text/plain": [
       "0.03116311062916838"
      ]
     },
     "execution_count": 60,
     "metadata": {},
     "output_type": "execute_result"
    }
   ],
   "source": [
    "PG_var_a = sec_returns['PG'].var() * 250\n",
    "PG_var_a"
   ]
  },
  {
   "cell_type": "code",
   "execution_count": 61,
   "id": "9e908c6e",
   "metadata": {},
   "outputs": [
    {
     "data": {
      "text/plain": [
       "0.039579187061064315"
      ]
     },
     "execution_count": 61,
     "metadata": {},
     "output_type": "execute_result"
    }
   ],
   "source": [
    "BEI_var_a = sec_returns['BEI.DE'].var() * 250\n",
    "BEI_var_a"
   ]
  },
  {
   "cell_type": "markdown",
   "id": "e1e55f90",
   "metadata": {},
   "source": [
    "---"
   ]
  },
  {
   "cell_type": "code",
   "execution_count": 62,
   "id": "ae1fe42f",
   "metadata": {},
   "outputs": [
    {
     "data": {
      "text/html": [
       "<div>\n",
       "<style scoped>\n",
       "    .dataframe tbody tr th:only-of-type {\n",
       "        vertical-align: middle;\n",
       "    }\n",
       "\n",
       "    .dataframe tbody tr th {\n",
       "        vertical-align: top;\n",
       "    }\n",
       "\n",
       "    .dataframe thead th {\n",
       "        text-align: right;\n",
       "    }\n",
       "</style>\n",
       "<table border=\"1\" class=\"dataframe\">\n",
       "  <thead>\n",
       "    <tr style=\"text-align: right;\">\n",
       "      <th></th>\n",
       "      <th>PG</th>\n",
       "      <th>BEI.DE</th>\n",
       "    </tr>\n",
       "  </thead>\n",
       "  <tbody>\n",
       "    <tr>\n",
       "      <th>PG</th>\n",
       "      <td>0.000125</td>\n",
       "      <td>0.000037</td>\n",
       "    </tr>\n",
       "    <tr>\n",
       "      <th>BEI.DE</th>\n",
       "      <td>0.000037</td>\n",
       "      <td>0.000158</td>\n",
       "    </tr>\n",
       "  </tbody>\n",
       "</table>\n",
       "</div>"
      ],
      "text/plain": [
       "              PG    BEI.DE\n",
       "PG      0.000125  0.000037\n",
       "BEI.DE  0.000037  0.000158"
      ]
     },
     "execution_count": 62,
     "metadata": {},
     "output_type": "execute_result"
    }
   ],
   "source": [
    "cov_matrix = sec_returns.cov()\n",
    "cov_matrix"
   ]
  },
  {
   "cell_type": "code",
   "execution_count": 63,
   "id": "2fd292a0",
   "metadata": {},
   "outputs": [
    {
     "data": {
      "text/html": [
       "<div>\n",
       "<style scoped>\n",
       "    .dataframe tbody tr th:only-of-type {\n",
       "        vertical-align: middle;\n",
       "    }\n",
       "\n",
       "    .dataframe tbody tr th {\n",
       "        vertical-align: top;\n",
       "    }\n",
       "\n",
       "    .dataframe thead th {\n",
       "        text-align: right;\n",
       "    }\n",
       "</style>\n",
       "<table border=\"1\" class=\"dataframe\">\n",
       "  <thead>\n",
       "    <tr style=\"text-align: right;\">\n",
       "      <th></th>\n",
       "      <th>PG</th>\n",
       "      <th>BEI.DE</th>\n",
       "    </tr>\n",
       "  </thead>\n",
       "  <tbody>\n",
       "    <tr>\n",
       "      <th>PG</th>\n",
       "      <td>0.031163</td>\n",
       "      <td>0.009264</td>\n",
       "    </tr>\n",
       "    <tr>\n",
       "      <th>BEI.DE</th>\n",
       "      <td>0.009264</td>\n",
       "      <td>0.039579</td>\n",
       "    </tr>\n",
       "  </tbody>\n",
       "</table>\n",
       "</div>"
      ],
      "text/plain": [
       "              PG    BEI.DE\n",
       "PG      0.031163  0.009264\n",
       "BEI.DE  0.009264  0.039579"
      ]
     },
     "execution_count": 63,
     "metadata": {},
     "output_type": "execute_result"
    }
   ],
   "source": [
    "cov_matrix_a = sec_returns.cov() * 250\n",
    "cov_matrix_a"
   ]
  },
  {
   "cell_type": "code",
   "execution_count": 64,
   "id": "ac19631d",
   "metadata": {},
   "outputs": [
    {
     "data": {
      "text/html": [
       "<div>\n",
       "<style scoped>\n",
       "    .dataframe tbody tr th:only-of-type {\n",
       "        vertical-align: middle;\n",
       "    }\n",
       "\n",
       "    .dataframe tbody tr th {\n",
       "        vertical-align: top;\n",
       "    }\n",
       "\n",
       "    .dataframe thead th {\n",
       "        text-align: right;\n",
       "    }\n",
       "</style>\n",
       "<table border=\"1\" class=\"dataframe\">\n",
       "  <thead>\n",
       "    <tr style=\"text-align: right;\">\n",
       "      <th></th>\n",
       "      <th>PG</th>\n",
       "      <th>BEI.DE</th>\n",
       "    </tr>\n",
       "  </thead>\n",
       "  <tbody>\n",
       "    <tr>\n",
       "      <th>PG</th>\n",
       "      <td>1.000000</td>\n",
       "      <td>0.264015</td>\n",
       "    </tr>\n",
       "    <tr>\n",
       "      <th>BEI.DE</th>\n",
       "      <td>0.264015</td>\n",
       "      <td>1.000000</td>\n",
       "    </tr>\n",
       "  </tbody>\n",
       "</table>\n",
       "</div>"
      ],
      "text/plain": [
       "              PG    BEI.DE\n",
       "PG      1.000000  0.264015\n",
       "BEI.DE  0.264015  1.000000"
      ]
     },
     "execution_count": 64,
     "metadata": {},
     "output_type": "execute_result"
    }
   ],
   "source": [
    "corr_matrix = sec_returns.corr()\n",
    "corr_matrix"
   ]
  },
  {
   "cell_type": "markdown",
   "id": "d2d353c1",
   "metadata": {},
   "source": [
    "## Portfolio Risk (variance)"
   ]
  },
  {
   "cell_type": "code",
   "execution_count": 65,
   "id": "4264584d",
   "metadata": {},
   "outputs": [],
   "source": [
    "#Equal weights scheme\n",
    "weights = np.array([0.5, 0.5])"
   ]
  },
  {
   "cell_type": "code",
   "execution_count": 66,
   "id": "a4c5d3e9",
   "metadata": {
    "scrolled": true
   },
   "outputs": [
    {
     "data": {
      "text/plain": [
       "0.022317716496415615"
      ]
     },
     "execution_count": 66,
     "metadata": {},
     "output_type": "execute_result"
    }
   ],
   "source": [
    "#Portfolio variance\n",
    "pfolio_var = np.dot(weights.T, np.dot(sec_returns.cov() * 250, weights))\n",
    "pfolio_var"
   ]
  },
  {
   "cell_type": "code",
   "execution_count": 67,
   "id": "ae830f90",
   "metadata": {},
   "outputs": [],
   "source": [
    "#Portfolio Volatillity"
   ]
  },
  {
   "cell_type": "code",
   "execution_count": 68,
   "id": "af775dd0",
   "metadata": {},
   "outputs": [
    {
     "data": {
      "text/plain": [
       "0.14939115267115258"
      ]
     },
     "execution_count": 68,
     "metadata": {},
     "output_type": "execute_result"
    }
   ],
   "source": [
    "pfolio_vol = np.dot(weights.T, np.dot(sec_returns.cov() * 250, weights)) ** 0.5\n",
    "pfolio_vol"
   ]
  },
  {
   "cell_type": "code",
   "execution_count": 69,
   "id": "57f6c46d",
   "metadata": {},
   "outputs": [
    {
     "name": "stdout",
     "output_type": "stream",
     "text": [
      "14.939%\n"
     ]
    }
   ],
   "source": [
    "print(str(round(pfolio_vol, 5) * 100) + '%')"
   ]
  },
  {
   "cell_type": "markdown",
   "id": "be6e22de",
   "metadata": {},
   "source": [
    "---"
   ]
  },
  {
   "cell_type": "markdown",
   "id": "deb37d14",
   "metadata": {},
   "source": [
    "## Diversifiable and Non-Diversifiable Risk of a portfolio"
   ]
  },
  {
   "cell_type": "code",
   "execution_count": 70,
   "id": "1e1746d9",
   "metadata": {},
   "outputs": [],
   "source": [
    "weights = np.array([0.5, 0.5])"
   ]
  },
  {
   "cell_type": "markdown",
   "id": "f1c509e1",
   "metadata": {},
   "source": [
    "Diversifiable Risk:"
   ]
  },
  {
   "cell_type": "code",
   "execution_count": 71,
   "id": "b143ff93",
   "metadata": {},
   "outputs": [
    {
     "data": {
      "text/plain": [
       "0.03116311062916838"
      ]
     },
     "execution_count": 71,
     "metadata": {},
     "output_type": "execute_result"
    }
   ],
   "source": [
    "PG_var_a = sec_returns['PG'].var() * 250\n",
    "PG_var_a"
   ]
  },
  {
   "cell_type": "code",
   "execution_count": 72,
   "id": "077b39aa",
   "metadata": {},
   "outputs": [
    {
     "data": {
      "text/plain": [
       "0.039579187061064315"
      ]
     },
     "execution_count": 72,
     "metadata": {},
     "output_type": "execute_result"
    }
   ],
   "source": [
    "BEI_var_a = sec_returns['BEI.DE'].var() * 250\n",
    "BEI_var_a"
   ]
  },
  {
   "cell_type": "code",
   "execution_count": 73,
   "id": "07a61704",
   "metadata": {},
   "outputs": [
    {
     "data": {
      "text/plain": [
       "0.0046321420738574415"
      ]
     },
     "execution_count": 73,
     "metadata": {},
     "output_type": "execute_result"
    }
   ],
   "source": [
    "dr = pfolio_var - (weights[0] ** 2 * PG_var_a) - (weights[1] ** 2 * BEI_var_a)\n",
    "dr"
   ]
  },
  {
   "cell_type": "code",
   "execution_count": 74,
   "id": "8e2b3911",
   "metadata": {
    "scrolled": true
   },
   "outputs": [
    {
     "name": "stdout",
     "output_type": "stream",
     "text": [
      "0.5%\n"
     ]
    }
   ],
   "source": [
    "print(str(round(dr, 3) * 100) + '%')"
   ]
  },
  {
   "cell_type": "markdown",
   "id": "1c9349ab",
   "metadata": {},
   "source": [
    "Non-Diversifiable Risk:"
   ]
  },
  {
   "cell_type": "code",
   "execution_count": 75,
   "id": "c2e5367b",
   "metadata": {},
   "outputs": [
    {
     "data": {
      "text/plain": [
       "0.01768557442255817"
      ]
     },
     "execution_count": 75,
     "metadata": {},
     "output_type": "execute_result"
    }
   ],
   "source": [
    "n_dr_1 = pfolio_var - dr\n",
    "n_dr_1"
   ]
  },
  {
   "cell_type": "code",
   "execution_count": 76,
   "id": "0cf04bd9",
   "metadata": {},
   "outputs": [
    {
     "data": {
      "text/plain": [
       "0.017685574422558175"
      ]
     },
     "execution_count": 76,
     "metadata": {},
     "output_type": "execute_result"
    }
   ],
   "source": [
    "n_dr_2 = (weights[0] ** 2 * PG_var_a) + (weights[1] ** 2 * BEI_var_a)\n",
    "n_dr_2"
   ]
  },
  {
   "cell_type": "markdown",
   "id": "c6df2e71",
   "metadata": {},
   "source": [
    "---"
   ]
  },
  {
   "cell_type": "markdown",
   "id": "be55a5c7",
   "metadata": {},
   "source": [
    "# Efficient Frontier"
   ]
  },
  {
   "cell_type": "code",
   "execution_count": 77,
   "id": "8c6088f9",
   "metadata": {},
   "outputs": [],
   "source": [
    "assets = ['PG', '^GSPC']\n",
    "pf_data = pd.DataFrame()\n",
    "\n",
    "for a in assets:\n",
    "    pf_data[a] = wb.DataReader(a, data_source = 'yahoo', start = '2012-1-1')['Adj Close']"
   ]
  },
  {
   "cell_type": "code",
   "execution_count": 78,
   "id": "ad79db98",
   "metadata": {},
   "outputs": [
    {
     "data": {
      "text/html": [
       "<div>\n",
       "<style scoped>\n",
       "    .dataframe tbody tr th:only-of-type {\n",
       "        vertical-align: middle;\n",
       "    }\n",
       "\n",
       "    .dataframe tbody tr th {\n",
       "        vertical-align: top;\n",
       "    }\n",
       "\n",
       "    .dataframe thead th {\n",
       "        text-align: right;\n",
       "    }\n",
       "</style>\n",
       "<table border=\"1\" class=\"dataframe\">\n",
       "  <thead>\n",
       "    <tr style=\"text-align: right;\">\n",
       "      <th></th>\n",
       "      <th>PG</th>\n",
       "      <th>^GSPC</th>\n",
       "    </tr>\n",
       "    <tr>\n",
       "      <th>Date</th>\n",
       "      <th></th>\n",
       "      <th></th>\n",
       "    </tr>\n",
       "  </thead>\n",
       "  <tbody>\n",
       "    <tr>\n",
       "      <th>2022-05-23</th>\n",
       "      <td>145.050003</td>\n",
       "      <td>3973.750000</td>\n",
       "    </tr>\n",
       "    <tr>\n",
       "      <th>2022-05-24</th>\n",
       "      <td>147.630005</td>\n",
       "      <td>3941.479980</td>\n",
       "    </tr>\n",
       "    <tr>\n",
       "      <th>2022-05-25</th>\n",
       "      <td>145.210007</td>\n",
       "      <td>3978.729980</td>\n",
       "    </tr>\n",
       "    <tr>\n",
       "      <th>2022-05-26</th>\n",
       "      <td>146.479996</td>\n",
       "      <td>4057.840088</td>\n",
       "    </tr>\n",
       "    <tr>\n",
       "      <th>2022-05-27</th>\n",
       "      <td>148.720001</td>\n",
       "      <td>4158.240234</td>\n",
       "    </tr>\n",
       "  </tbody>\n",
       "</table>\n",
       "</div>"
      ],
      "text/plain": [
       "                    PG        ^GSPC\n",
       "Date                               \n",
       "2022-05-23  145.050003  3973.750000\n",
       "2022-05-24  147.630005  3941.479980\n",
       "2022-05-25  145.210007  3978.729980\n",
       "2022-05-26  146.479996  4057.840088\n",
       "2022-05-27  148.720001  4158.240234"
      ]
     },
     "execution_count": 78,
     "metadata": {},
     "output_type": "execute_result"
    }
   ],
   "source": [
    "pf_data.tail()"
   ]
  },
  {
   "cell_type": "code",
   "execution_count": 79,
   "id": "e241af78",
   "metadata": {},
   "outputs": [
    {
     "data": {
      "image/png": "[encoded data removed]",
      "text/plain": [
       "<Figure size 720x360 with 1 Axes>"
      ]
     },
     "metadata": {
      "needs_background": "light"
     },
     "output_type": "display_data"
    }
   ],
   "source": [
    "(pf_data / pf_data.iloc[0] * 100).plot(figsize = (10,5))\n",
    "plt.show()"
   ]
  },
  {
   "cell_type": "code",
   "execution_count": 80,
   "id": "45215a71",
   "metadata": {},
   "outputs": [],
   "source": [
    "log_returns = np.log(pf_data / pf_data.shift(1))"
   ]
  },
  {
   "cell_type": "code",
   "execution_count": 81,
   "id": "a9629dbc",
   "metadata": {},
   "outputs": [
    {
     "data": {
      "text/plain": [
       "PG       0.106262\n",
       "^GSPC    0.112732\n",
       "dtype: float64"
      ]
     },
     "execution_count": 81,
     "metadata": {},
     "output_type": "execute_result"
    }
   ],
   "source": [
    "log_returns.mean() * 250"
   ]
  },
  {
   "cell_type": "code",
   "execution_count": 82,
   "id": "ea0e25af",
   "metadata": {},
   "outputs": [
    {
     "data": {
      "text/html": [
       "<div>\n",
       "<style scoped>\n",
       "    .dataframe tbody tr th:only-of-type {\n",
       "        vertical-align: middle;\n",
       "    }\n",
       "\n",
       "    .dataframe tbody tr th {\n",
       "        vertical-align: top;\n",
       "    }\n",
       "\n",
       "    .dataframe thead th {\n",
       "        text-align: right;\n",
       "    }\n",
       "</style>\n",
       "<table border=\"1\" class=\"dataframe\">\n",
       "  <thead>\n",
       "    <tr style=\"text-align: right;\">\n",
       "      <th></th>\n",
       "      <th>PG</th>\n",
       "      <th>^GSPC</th>\n",
       "    </tr>\n",
       "  </thead>\n",
       "  <tbody>\n",
       "    <tr>\n",
       "      <th>PG</th>\n",
       "      <td>0.031163</td>\n",
       "      <td>0.016696</td>\n",
       "    </tr>\n",
       "    <tr>\n",
       "      <th>^GSPC</th>\n",
       "      <td>0.016696</td>\n",
       "      <td>0.027997</td>\n",
       "    </tr>\n",
       "  </tbody>\n",
       "</table>\n",
       "</div>"
      ],
      "text/plain": [
       "             PG     ^GSPC\n",
       "PG     0.031163  0.016696\n",
       "^GSPC  0.016696  0.027997"
      ]
     },
     "execution_count": 82,
     "metadata": {},
     "output_type": "execute_result"
    }
   ],
   "source": [
    "log_returns.cov() * 250"
   ]
  },
  {
   "cell_type": "code",
   "execution_count": 83,
   "id": "a3daad81",
   "metadata": {},
   "outputs": [
    {
     "data": {
      "text/html": [
       "<div>\n",
       "<style scoped>\n",
       "    .dataframe tbody tr th:only-of-type {\n",
       "        vertical-align: middle;\n",
       "    }\n",
       "\n",
       "    .dataframe tbody tr th {\n",
       "        vertical-align: top;\n",
       "    }\n",
       "\n",
       "    .dataframe thead th {\n",
       "        text-align: right;\n",
       "    }\n",
       "</style>\n",
       "<table border=\"1\" class=\"dataframe\">\n",
       "  <thead>\n",
       "    <tr style=\"text-align: right;\">\n",
       "      <th></th>\n",
       "      <th>PG</th>\n",
       "      <th>^GSPC</th>\n",
       "    </tr>\n",
       "  </thead>\n",
       "  <tbody>\n",
       "    <tr>\n",
       "      <th>PG</th>\n",
       "      <td>1.000000</td>\n",
       "      <td>0.565243</td>\n",
       "    </tr>\n",
       "    <tr>\n",
       "      <th>^GSPC</th>\n",
       "      <td>0.565243</td>\n",
       "      <td>1.000000</td>\n",
       "    </tr>\n",
       "  </tbody>\n",
       "</table>\n",
       "</div>"
      ],
      "text/plain": [
       "             PG     ^GSPC\n",
       "PG     1.000000  0.565243\n",
       "^GSPC  0.565243  1.000000"
      ]
     },
     "execution_count": 83,
     "metadata": {},
     "output_type": "execute_result"
    }
   ],
   "source": [
    "log_returns.corr()"
   ]
  },
  {
   "cell_type": "code",
   "execution_count": 84,
   "id": "6bf08127",
   "metadata": {},
   "outputs": [
    {
     "data": {
      "text/plain": [
       "2"
      ]
     },
     "execution_count": 84,
     "metadata": {},
     "output_type": "execute_result"
    }
   ],
   "source": [
    "num_assets = len(assets)\n",
    "num_assets"
   ]
  },
  {
   "cell_type": "code",
   "execution_count": 85,
   "id": "d0031f66",
   "metadata": {},
   "outputs": [
    {
     "data": {
      "text/plain": [
       "array([0.57882937, 0.08885452])"
      ]
     },
     "execution_count": 85,
     "metadata": {},
     "output_type": "execute_result"
    }
   ],
   "source": [
    "arr = np.random.random(2)\n",
    "arr"
   ]
  },
  {
   "cell_type": "code",
   "execution_count": 86,
   "id": "bf946408",
   "metadata": {},
   "outputs": [
    {
     "data": {
      "text/plain": [
       "array([0.42797258, 0.57202742])"
      ]
     },
     "execution_count": 86,
     "metadata": {},
     "output_type": "execute_result"
    }
   ],
   "source": [
    "weights = np.random.random(num_assets)\n",
    "weights /= np.sum(weights)\n",
    "weights"
   ]
  },
  {
   "cell_type": "code",
   "execution_count": 87,
   "id": "51537be1",
   "metadata": {},
   "outputs": [
    {
     "data": {
      "text/plain": [
       "1.0"
      ]
     },
     "execution_count": 87,
     "metadata": {},
     "output_type": "execute_result"
    }
   ],
   "source": [
    "weights[0] + weights[1]"
   ]
  },
  {
   "cell_type": "markdown",
   "id": "2648db1b",
   "metadata": {},
   "source": [
    "Expected Portfolio Return:"
   ]
  },
  {
   "cell_type": "code",
   "execution_count": 88,
   "id": "0fc4574c",
   "metadata": {},
   "outputs": [
    {
     "data": {
      "text/plain": [
       "0.10996301103774586"
      ]
     },
     "execution_count": 88,
     "metadata": {},
     "output_type": "execute_result"
    }
   ],
   "source": [
    "np.sum(weights * log_returns.mean()) * 250"
   ]
  },
  {
   "cell_type": "markdown",
   "id": "4742ba30",
   "metadata": {},
   "source": [
    "Expected Portfolio Variance:"
   ]
  },
  {
   "cell_type": "code",
   "execution_count": 89,
   "id": "a9eebf87",
   "metadata": {},
   "outputs": [
    {
     "data": {
      "text/plain": [
       "0.02304343665573235"
      ]
     },
     "execution_count": 89,
     "metadata": {},
     "output_type": "execute_result"
    }
   ],
   "source": [
    "np.dot(weights.T, np.dot(log_returns.cov() * 250, weights))"
   ]
  },
  {
   "cell_type": "markdown",
   "id": "138ce401",
   "metadata": {},
   "source": [
    "Expected Portfolio Volatility:"
   ]
  },
  {
   "cell_type": "code",
   "execution_count": 90,
   "id": "89980a2c",
   "metadata": {},
   "outputs": [
    {
     "data": {
      "text/plain": [
       "0.151800647744772"
      ]
     },
     "execution_count": 90,
     "metadata": {},
     "output_type": "execute_result"
    }
   ],
   "source": [
    "np.sqrt(np.dot(weights.T, np.dot(log_returns.cov() * 250, weights)))"
   ]
  },
  {
   "cell_type": "markdown",
   "id": "99d0fd16",
   "metadata": {},
   "source": [
    "---"
   ]
  },
  {
   "cell_type": "code",
   "execution_count": 91,
   "id": "c223f646",
   "metadata": {
    "scrolled": true
   },
   "outputs": [
    {
     "data": {
      "text/plain": [
       "([0.1094788617691682,\n",
       "  0.10827621301103703,\n",
       "  0.10858963311770777,\n",
       "  0.11036252638411807,\n",
       "  0.10962581382776511,\n",
       "  0.10834483179177372,\n",
       "  0.110060330554138,\n",
       "  0.10868030269679099,\n",
       "  0.10912163667689463,\n",
       "  0.10976422103612798,\n",
       "  0.10856935958227529,\n",
       "  0.1097993502800371,\n",
       "  0.11185100813122255,\n",
       "  0.10867388065161611,\n",
       "  0.11066323560883004,\n",
       "  0.11106340797252601,\n",
       "  0.10766422540662977,\n",
       "  0.11153473835367288,\n",
       "  0.10944483026346485,\n",
       "  0.11145478433348899,\n",
       "  0.10933457221489316,\n",
       "  0.11148752545837043,\n",
       "  0.10729644490170304,\n",
       "  0.10712636772478674,\n",
       "  0.11077973315140274,\n",
       "  0.11233082501394352,\n",
       "  0.10921905835021548,\n",
       "  0.10729597609069519,\n",
       "  0.11163068401353651,\n",
       "  0.11056937618053966,\n",
       "  0.10916995828662776,\n",
       "  0.10894044038173799,\n",
       "  0.1102931042122386,\n",
       "  0.11053675773912741,\n",
       "  0.11033001577903528,\n",
       "  0.10952904144794273,\n",
       "  0.10711448546524427,\n",
       "  0.10735289470241977,\n",
       "  0.10856351621440209,\n",
       "  0.11193244202013995,\n",
       "  0.11001358828822866,\n",
       "  0.10736064744328001,\n",
       "  0.11146042387760703,\n",
       "  0.10881878869340407,\n",
       "  0.11006533078525507,\n",
       "  0.10907964070837843,\n",
       "  0.10903234134994311,\n",
       "  0.11127701863144655,\n",
       "  0.11067839792238657,\n",
       "  0.10960067697294494,\n",
       "  0.11101612492869697,\n",
       "  0.1084743782920508,\n",
       "  0.11214687097599498,\n",
       "  0.10881737676247162,\n",
       "  0.10890886001293246,\n",
       "  0.11246498316648172,\n",
       "  0.11166876079821275,\n",
       "  0.10984717499717137,\n",
       "  0.11052992693924621,\n",
       "  0.11265804062363523,\n",
       "  0.11126462439564988,\n",
       "  0.11176755201189241,\n",
       "  0.10921975372147373,\n",
       "  0.1104498464559739,\n",
       "  0.10875895981176732,\n",
       "  0.1075154902564082,\n",
       "  0.11006262883833956,\n",
       "  0.11088141703303861,\n",
       "  0.11119408363728041,\n",
       "  0.10656524118278654,\n",
       "  0.10832601423974567,\n",
       "  0.10967352224062538,\n",
       "  0.10641579688779616,\n",
       "  0.10733698935451366,\n",
       "  0.1071616490887747,\n",
       "  0.11121463093938445,\n",
       "  0.11174758168380075,\n",
       "  0.1094587449952072,\n",
       "  0.11048929067767864,\n",
       "  0.1089158120100397,\n",
       "  0.1082615781687753,\n",
       "  0.10785133746789652,\n",
       "  0.10647811480329424,\n",
       "  0.11030104196227702,\n",
       "  0.1119948228075843,\n",
       "  0.1094136306604034,\n",
       "  0.10944468583701325,\n",
       "  0.10996162217418616,\n",
       "  0.1079045184364424,\n",
       "  0.10956320707920748,\n",
       "  0.1120653758154572,\n",
       "  0.11025433254795668,\n",
       "  0.11005168839748287,\n",
       "  0.10949192952720754,\n",
       "  0.109989418161167,\n",
       "  0.10724365977889129,\n",
       "  0.11124134137271983,\n",
       "  0.10988269649183385,\n",
       "  0.10980586851369475,\n",
       "  0.11167709690399476,\n",
       "  0.1117307224551443,\n",
       "  0.10949872727517396,\n",
       "  0.11269318840772526,\n",
       "  0.10895334677023569,\n",
       "  0.11056755401452417,\n",
       "  0.108506843329811,\n",
       "  0.11238591193302391,\n",
       "  0.10916289611927958,\n",
       "  0.10854435446662786,\n",
       "  0.10870179766863226,\n",
       "  0.10958798590762216,\n",
       "  0.10849616637328961,\n",
       "  0.109184841246036,\n",
       "  0.11163037394677396,\n",
       "  0.11089441550228557,\n",
       "  0.11019983122981063,\n",
       "  0.10892739260253986,\n",
       "  0.11063449905714587,\n",
       "  0.10715880683951826,\n",
       "  0.10875689065382615,\n",
       "  0.10963128900982283,\n",
       "  0.10713803553994881,\n",
       "  0.10984377966358103,\n",
       "  0.11020056944341038,\n",
       "  0.11004025345364409,\n",
       "  0.11044698618816409,\n",
       "  0.10998631577375753,\n",
       "  0.10994029981638823,\n",
       "  0.1100037824765569,\n",
       "  0.1097296486814107,\n",
       "  0.11019976976816089,\n",
       "  0.11151001869329645,\n",
       "  0.10927114128967438,\n",
       "  0.10910278573558123,\n",
       "  0.11117976414366462,\n",
       "  0.11174574943673522,\n",
       "  0.11198542701501096,\n",
       "  0.10874845126953704,\n",
       "  0.10693020073930011,\n",
       "  0.11009476649012574,\n",
       "  0.11029978805199243,\n",
       "  0.10779286559261995,\n",
       "  0.11169883488715943,\n",
       "  0.10931512594690462,\n",
       "  0.10966328208244597,\n",
       "  0.11224865540354147,\n",
       "  0.11144054746556616,\n",
       "  0.11022934117121423,\n",
       "  0.10776392656646627,\n",
       "  0.10919028329187978,\n",
       "  0.11265851917205191,\n",
       "  0.1106478738721503,\n",
       "  0.10893328020682456,\n",
       "  0.11111479935492041,\n",
       "  0.10929021656057712,\n",
       "  0.11026242002966977,\n",
       "  0.1121870132843848,\n",
       "  0.10889186193919527,\n",
       "  0.10822341294597451,\n",
       "  0.11092638597343812,\n",
       "  0.1093384416436968,\n",
       "  0.1092426510072611,\n",
       "  0.11038807124368352,\n",
       "  0.10653585901285369,\n",
       "  0.11170371629416741,\n",
       "  0.10731901645150037,\n",
       "  0.10749594988384331,\n",
       "  0.10816569901715203,\n",
       "  0.10710681905448542,\n",
       "  0.11073701649513967,\n",
       "  0.11186213204451123,\n",
       "  0.11045169404999815,\n",
       "  0.10922602603848913,\n",
       "  0.11083264561671233,\n",
       "  0.10754335024154124,\n",
       "  0.11066317679184791,\n",
       "  0.11078284127548481,\n",
       "  0.10948337021185711,\n",
       "  0.10978153512932133,\n",
       "  0.10875775733338144,\n",
       "  0.11265557174090508,\n",
       "  0.1110702999201652,\n",
       "  0.10821449232829129,\n",
       "  0.11119128738334304,\n",
       "  0.10638801174226797,\n",
       "  0.1087286959270976,\n",
       "  0.11058283417057578,\n",
       "  0.1082104368765547,\n",
       "  0.1106937646532477,\n",
       "  0.11179355400534523,\n",
       "  0.10873445081098423,\n",
       "  0.10630466658573498,\n",
       "  0.1068615750058921,\n",
       "  0.10929732365212301,\n",
       "  0.10740041735706812,\n",
       "  0.1104401869824186,\n",
       "  0.10893878158555026,\n",
       "  0.11175122102329867,\n",
       "  0.10973809147060334,\n",
       "  0.10927328690155143,\n",
       "  0.10660358581040787,\n",
       "  0.10960617550057293,\n",
       "  0.1093197642070257,\n",
       "  0.10940526486464455,\n",
       "  0.10986113834827343,\n",
       "  0.11030858963881748,\n",
       "  0.1072095188993527,\n",
       "  0.10906067472562016,\n",
       "  0.1108781611578821,\n",
       "  0.10915116967957376,\n",
       "  0.10980378376395733,\n",
       "  0.10750105216003272,\n",
       "  0.1068609378278414,\n",
       "  0.1071912295765451,\n",
       "  0.10962299996897978,\n",
       "  0.10944225033691278,\n",
       "  0.10917148518688545,\n",
       "  0.11091542339020072,\n",
       "  0.11104681201524212,\n",
       "  0.10877898997430177,\n",
       "  0.11259276132458863,\n",
       "  0.10984613680618437,\n",
       "  0.1106947274257681,\n",
       "  0.10748499844361652,\n",
       "  0.10770341139039222,\n",
       "  0.1100854021077331,\n",
       "  0.10720916806332148,\n",
       "  0.10747986666680645,\n",
       "  0.10969626837781823,\n",
       "  0.1090361489203206,\n",
       "  0.11226768741453304,\n",
       "  0.10864219178306418,\n",
       "  0.10955184140105315,\n",
       "  0.10954625844474998,\n",
       "  0.10783666167954475,\n",
       "  0.11213845415398574,\n",
       "  0.11115275983531014,\n",
       "  0.1111808168864549,\n",
       "  0.10644457836795017,\n",
       "  0.10794428064097207,\n",
       "  0.1088904142522692,\n",
       "  0.11066866695953467,\n",
       "  0.1074246945668503,\n",
       "  0.10894525176366016,\n",
       "  0.10946913960637315,\n",
       "  0.10946841534888692,\n",
       "  0.11236545396224935,\n",
       "  0.1095935871379535,\n",
       "  0.11236662765704393,\n",
       "  0.1091174944514261,\n",
       "  0.10820309745874275,\n",
       "  0.11218230462994026,\n",
       "  0.11008872794570085,\n",
       "  0.11046525206443716,\n",
       "  0.10923115952518091,\n",
       "  0.10868536665548462,\n",
       "  0.10843437087076824,\n",
       "  0.1107257672901896,\n",
       "  0.10957267023506147,\n",
       "  0.10841879013905677,\n",
       "  0.1083994106196753,\n",
       "  0.10986177303910688,\n",
       "  0.10952882761529917,\n",
       "  0.11077731126497717,\n",
       "  0.11176734951489287,\n",
       "  0.11042942638415905,\n",
       "  0.10770890158861651,\n",
       "  0.10891274312047497,\n",
       "  0.10763228240890704,\n",
       "  0.10650798648137864,\n",
       "  0.11082400238933003,\n",
       "  0.10887854718431207,\n",
       "  0.11134999642063477,\n",
       "  0.11152166124895249,\n",
       "  0.11019450490137915,\n",
       "  0.11192468728287562,\n",
       "  0.11022975452821938,\n",
       "  0.10838359569691913,\n",
       "  0.10941021468983492,\n",
       "  0.10967233952428099,\n",
       "  0.10711523169340019,\n",
       "  0.10965121937948885,\n",
       "  0.1078799172445551,\n",
       "  0.10737861311771486,\n",
       "  0.10722883215941176,\n",
       "  0.11129161686485864,\n",
       "  0.11054378542563416,\n",
       "  0.1086205541874752,\n",
       "  0.11138396247909914,\n",
       "  0.11100526981234757,\n",
       "  0.10640412256744733,\n",
       "  0.1084804668334596,\n",
       "  0.107045953557324,\n",
       "  0.10972577896097753,\n",
       "  0.11144048372247667,\n",
       "  0.11194564319905057,\n",
       "  0.10713162531607398,\n",
       "  0.10712807714204935,\n",
       "  0.10959402463211164,\n",
       "  0.10937614715817152,\n",
       "  0.10922125494386778,\n",
       "  0.1065555528547849,\n",
       "  0.10883979447253608,\n",
       "  0.11172385379222136,\n",
       "  0.10746943712035406,\n",
       "  0.1086581512027334,\n",
       "  0.11100551255643058,\n",
       "  0.11049686382052462,\n",
       "  0.11173798707819306,\n",
       "  0.11137052637881031,\n",
       "  0.10685428521915859,\n",
       "  0.11143820827433658,\n",
       "  0.11107971284781645,\n",
       "  0.10946889426177256,\n",
       "  0.11089325267865247,\n",
       "  0.10736833531761243,\n",
       "  0.10744572483666451,\n",
       "  0.1068354364100098,\n",
       "  0.10864002896719462,\n",
       "  0.1097533520766041,\n",
       "  0.10814954408056877,\n",
       "  0.1100518426082496,\n",
       "  0.10829446113630906,\n",
       "  0.10848637899633372,\n",
       "  0.11056908701399093,\n",
       "  0.11012408655182752,\n",
       "  0.10949070976258304,\n",
       "  0.11167098863374067,\n",
       "  0.10943139867940899,\n",
       "  0.10923105633154682,\n",
       "  0.10953985712948086,\n",
       "  0.1074064140613773,\n",
       "  0.107952766584935,\n",
       "  0.10982852960504956,\n",
       "  0.1107686518856391,\n",
       "  0.10778058429778793,\n",
       "  0.11073659180485668,\n",
       "  0.11265815260794061,\n",
       "  0.10924165491866449,\n",
       "  0.11268297995337609,\n",
       "  0.11124750244795292,\n",
       "  0.11263183762356883,\n",
       "  0.10746402967777346,\n",
       "  0.10950809156022442,\n",
       "  0.10924254534067944,\n",
       "  0.10788683938974106,\n",
       "  0.10775801405524367,\n",
       "  0.10820267129770683,\n",
       "  0.10813561085033568,\n",
       "  0.10967076508491821,\n",
       "  0.11020412608705958,\n",
       "  0.11256028443266484,\n",
       "  0.10804084792900598,\n",
       "  0.11003354734780534,\n",
       "  0.10855600953648499,\n",
       "  0.10833761811707293,\n",
       "  0.10930108297867422,\n",
       "  0.10805992309691907,\n",
       "  0.11005840601529285,\n",
       "  0.11092723730384405,\n",
       "  0.11187954470158752,\n",
       "  0.11141002671840529,\n",
       "  0.10985213923874533,\n",
       "  0.10719911247615097,\n",
       "  0.10846401368707247,\n",
       "  0.11080991196815583,\n",
       "  0.10963483040391378,\n",
       "  0.11164259996842169,\n",
       "  0.10948149359571083,\n",
       "  0.10808821136782912,\n",
       "  0.10851664257351176,\n",
       "  0.10725226372231977,\n",
       "  0.10905992133087786,\n",
       "  0.1082343489110979,\n",
       "  0.1091583964662357,\n",
       "  0.11203748193066845,\n",
       "  0.10962140417713429,\n",
       "  0.10924767024111655,\n",
       "  0.10889053153049076,\n",
       "  0.10932498977171053,\n",
       "  0.11012948769919112,\n",
       "  0.10977213680743743,\n",
       "  0.10926187318805258,\n",
       "  0.10964296426483061,\n",
       "  0.10757847366191323,\n",
       "  0.11241205728804896,\n",
       "  0.1100991814185104,\n",
       "  0.11179071286711567,\n",
       "  0.10826159198616311,\n",
       "  0.11156024487431249,\n",
       "  0.10927183874245489,\n",
       "  0.10943418704226399,\n",
       "  0.10811048512242405,\n",
       "  0.11270514159638483,\n",
       "  0.1094673372674274,\n",
       "  0.10652252709649469,\n",
       "  0.11009732117015363,\n",
       "  0.1117746181916117,\n",
       "  0.10978603401166923,\n",
       "  0.10969503260558344,\n",
       "  0.11022643795985165,\n",
       "  0.10926480795876924,\n",
       "  0.10732748593253587,\n",
       "  0.11097705550209579,\n",
       "  0.11175888437879442,\n",
       "  0.11062163145203835,\n",
       "  0.10871428311280197,\n",
       "  0.10951439813544159,\n",
       "  0.11098663699615664,\n",
       "  0.1117534753502803,\n",
       "  0.11116969973339028,\n",
       "  0.11170160245987959,\n",
       "  0.1124656586420618,\n",
       "  0.11163312697552688,\n",
       "  0.11160437387588197,\n",
       "  0.11219764790650259,\n",
       "  0.1086902610888484,\n",
       "  0.10977208475099585,\n",
       "  0.11158385341598354,\n",
       "  0.10975962953521039,\n",
       "  0.10912006387559678,\n",
       "  0.10971351312616832,\n",
       "  0.11013621185642657,\n",
       "  0.11101008819671573,\n",
       "  0.10878950679772363,\n",
       "  0.1111667467294812,\n",
       "  0.11011026730583476,\n",
       "  0.11242368140076202,\n",
       "  0.1098263167634887,\n",
       "  0.1101125114980367,\n",
       "  0.10999822053293465,\n",
       "  0.11260931114556773,\n",
       "  0.11273152060196749,\n",
       "  0.11058716670900222,\n",
       "  0.10688142427161838,\n",
       "  0.10629434821173794,\n",
       "  0.10906991026600646,\n",
       "  0.10690577638287917,\n",
       "  0.10755360802473483,\n",
       "  0.11143721337699751,\n",
       "  0.10965426514959262,\n",
       "  0.10998267185942782,\n",
       "  0.11010561972550241,\n",
       "  0.10804850385343265,\n",
       "  0.10821044380578064,\n",
       "  0.10634656247115155,\n",
       "  0.110553207656582,\n",
       "  0.10911124499799298,\n",
       "  0.10644921266958438,\n",
       "  0.10644039631448013,\n",
       "  0.10935551963556334,\n",
       "  0.10917438059965129,\n",
       "  0.10985507352098117,\n",
       "  0.10701576717552118,\n",
       "  0.1069869397831834,\n",
       "  0.10809679959906064,\n",
       "  0.11015608260163529,\n",
       "  0.1092081298357981,\n",
       "  0.10812768251832762,\n",
       "  0.1081211442057522,\n",
       "  0.10882469523700475,\n",
       "  0.10998032565044827,\n",
       "  0.11033799790769941,\n",
       "  0.11000227430646174,\n",
       "  0.1116786333417626,\n",
       "  0.11024206204760902,\n",
       "  0.11260398057277117,\n",
       "  0.1076651252132243,\n",
       "  0.1081176287155925,\n",
       "  0.10811541104670104,\n",
       "  0.10988902806851683,\n",
       "  0.10901002728425885,\n",
       "  0.10951353767467413,\n",
       "  0.1067891061221871,\n",
       "  0.10820605967799615,\n",
       "  0.11000063543524537,\n",
       "  0.10985804797188743,\n",
       "  0.11196941394719274,\n",
       "  0.10772296658176447,\n",
       "  0.10948862757724538,\n",
       "  0.10997246280209443,\n",
       "  0.11105072539681739,\n",
       "  0.10893782408376074,\n",
       "  0.10885978919870548,\n",
       "  0.10678862969608827,\n",
       "  0.10960184728608947,\n",
       "  0.11110027990934587,\n",
       "  0.10677777143839257,\n",
       "  0.11019690662891647,\n",
       "  0.11112660763887787,\n",
       "  0.10688394663781237,\n",
       "  0.10844856228408806,\n",
       "  0.11214020999770673,\n",
       "  0.10875840782999656,\n",
       "  0.11001815761320681,\n",
       "  0.10805329348847037,\n",
       "  0.11054301792086721,\n",
       "  0.11024784536994207,\n",
       "  0.1106067136133051,\n",
       "  0.1092484657520626,\n",
       "  0.10832459740784027,\n",
       "  0.11011522056627825,\n",
       "  0.11063943800897913,\n",
       "  0.11021753381563923,\n",
       "  0.11212299049863994,\n",
       "  0.11152480583361446,\n",
       "  0.10756917705621785,\n",
       "  0.11082434165700068,\n",
       "  0.10720687163879516,\n",
       "  0.11182177581527948,\n",
       "  0.11016623756314345,\n",
       "  0.11126757794752563,\n",
       "  0.11074558698463627,\n",
       "  0.10952254948284955,\n",
       "  0.11059799682322288,\n",
       "  0.10887430985747877,\n",
       "  0.10630336244162061,\n",
       "  0.10955900344610411,\n",
       "  0.10789862004155272,\n",
       "  0.10992265101643195,\n",
       "  0.10934107261469397,\n",
       "  0.10771114650880821,\n",
       "  0.10990010349659163,\n",
       "  0.10735112910846488,\n",
       "  0.109787893750292,\n",
       "  0.11068814195076086,\n",
       "  0.10742865142939344,\n",
       "  0.111726566838642,\n",
       "  0.11140272164543057,\n",
       "  0.10888098746573804,\n",
       "  0.10768165055814638,\n",
       "  0.11039395331414857,\n",
       "  0.10956777146846301,\n",
       "  0.1087534713001638,\n",
       "  0.11232541115841078,\n",
       "  0.10956872297434217,\n",
       "  0.11124982901189195,\n",
       "  0.10883036683148338,\n",
       "  0.10886390776935209,\n",
       "  0.11074962361630912,\n",
       "  0.11171968672132386,\n",
       "  0.1095244541370478,\n",
       "  0.111168536475541,\n",
       "  0.10985765642297958,\n",
       "  0.10680103522396545,\n",
       "  0.10969506169862497,\n",
       "  0.11246040241818675,\n",
       "  0.1101611409530048,\n",
       "  0.11160569981913905,\n",
       "  0.10959163018563642,\n",
       "  0.1080095638917138,\n",
       "  0.11050189390806044,\n",
       "  0.1098747209393331,\n",
       "  0.10679250465868477,\n",
       "  0.1065410358280762,\n",
       "  0.10725184284803053,\n",
       "  0.10850776188906638,\n",
       "  0.10721954231705973,\n",
       "  0.10926586740093883,\n",
       "  0.11187998905249386,\n",
       "  0.10795365024797382,\n",
       "  0.10875719289347106,\n",
       "  0.11153143133709739,\n",
       "  0.10740218347306668,\n",
       "  0.11230142551838908,\n",
       "  0.10907056034871622,\n",
       "  0.10730673161976657,\n",
       "  0.10894651485315326,\n",
       "  0.11116320244860398,\n",
       "  0.10920133182359504,\n",
       "  0.10754156476539692,\n",
       "  0.10811972443546189,\n",
       "  0.10840642782343235,\n",
       "  0.11124365433767305,\n",
       "  0.1101956172754324,\n",
       "  0.10912503013108601,\n",
       "  0.10643373212156806,\n",
       "  0.11020746756339213,\n",
       "  0.10790641777436806,\n",
       "  0.10816192071793632,\n",
       "  0.10948519818169877,\n",
       "  0.10976162540995253,\n",
       "  0.10985561356446329,\n",
       "  0.11090275786729069,\n",
       "  0.10757947445595803,\n",
       "  0.109427336092083,\n",
       "  0.11250602869595132,\n",
       "  0.11082136829285599,\n",
       "  0.1091332809800942,\n",
       "  0.11230919847613531,\n",
       "  0.1091287951211314,\n",
       "  0.10700920236467792,\n",
       "  0.10792730517972855,\n",
       "  0.11134949334173241,\n",
       "  0.11068722976937909,\n",
       "  0.11109220063975865,\n",
       "  0.1091098689411243,\n",
       "  0.10894518677234605,\n",
       "  0.10877987259181021,\n",
       "  0.1120226709585895,\n",
       "  0.11081292364391278,\n",
       "  0.11054216719896397,\n",
       "  0.1101773586818713,\n",
       "  0.10704187089064578,\n",
       "  0.10662538008361254,\n",
       "  0.10672262817547337,\n",
       "  0.11229106759047183,\n",
       "  0.10864359044948722,\n",
       "  0.11107473389135043,\n",
       "  0.11203071105329204,\n",
       "  0.1076658817485826,\n",
       "  0.11115824209130344,\n",
       "  0.11117293825953292,\n",
       "  0.11235383142511644,\n",
       "  0.10751536834759039,\n",
       "  0.10980313035917032,\n",
       "  0.1117071531720878,\n",
       "  0.11259226869913799,\n",
       "  0.10700391797926335,\n",
       "  0.10651165485064204,\n",
       "  0.10644452685459652,\n",
       "  0.10936848802660097,\n",
       "  0.10945178815372744,\n",
       "  0.10966913459867644,\n",
       "  0.11077020153878431,\n",
       "  0.11131172350781383,\n",
       "  0.10842551366416388,\n",
       "  0.10932164690729441,\n",
       "  0.11129268868696815,\n",
       "  0.11098637540830604,\n",
       "  0.11071745479633782,\n",
       "  0.1123380234539168,\n",
       "  0.1075318444333116,\n",
       "  0.10862271104379294,\n",
       "  0.11082763264005045,\n",
       "  0.10709589457518746,\n",
       "  0.11192522883898665,\n",
       "  0.10967038137377953,\n",
       "  0.10946399703854934,\n",
       "  0.10873587084364193,\n",
       "  0.11141352779041895,\n",
       "  0.11061073329392763,\n",
       "  0.1096365519534563,\n",
       "  0.10689383845444643,\n",
       "  0.10926034046636164,\n",
       "  0.10985837018542513,\n",
       "  0.10742390485082018,\n",
       "  0.11127374763197477,\n",
       "  0.11035545675686108,\n",
       "  0.11262925684921682,\n",
       "  0.11026157062764098,\n",
       "  0.10928349144560977,\n",
       "  0.10878127681470331,\n",
       "  0.11007336015920392,\n",
       "  0.109710717493219,\n",
       "  0.10861354134598293,\n",
       "  0.1096192185626247,\n",
       "  0.10690562581488039,\n",
       "  0.1119619878153885,\n",
       "  0.10794648853518084,\n",
       "  0.1085944992316714,\n",
       "  0.11002373275321198,\n",
       "  0.10859842383952462,\n",
       "  0.11092091147825564,\n",
       "  0.11138234279216497,\n",
       "  0.10963218385093364,\n",
       "  0.1101776147132296,\n",
       "  0.11059662910264456,\n",
       "  0.108287550117747,\n",
       "  0.10938211128410402,\n",
       "  0.11236794424281456,\n",
       "  0.10676741007414133,\n",
       "  0.11130363227549674,\n",
       "  0.10973033652945953,\n",
       "  0.1094276919378655,\n",
       "  0.1095810257032951,\n",
       "  0.10796835360955435,\n",
       "  0.1081083256947487,\n",
       "  0.11065003514570561,\n",
       "  0.10905683668645201,\n",
       "  0.10896387557322983,\n",
       "  0.11137206534890283,\n",
       "  0.10834146742076063,\n",
       "  0.10870801954140168,\n",
       "  0.10991341844914705,\n",
       "  0.11090518887024792,\n",
       "  0.10955678666813908,\n",
       "  0.11272975139860598,\n",
       "  0.10869987828658197,\n",
       "  0.11057398346843354,\n",
       "  0.10941470662448807,\n",
       "  0.10794449691384318,\n",
       "  0.10786807570406859,\n",
       "  0.10952108753454635,\n",
       "  0.11035598558701276,\n",
       "  0.10866972460695773,\n",
       "  0.10814889213939276,\n",
       "  0.10976111023816687,\n",
       "  0.11052259837965346,\n",
       "  0.10990543694687456,\n",
       "  0.1100813210843894,\n",
       "  0.11019125204320188,\n",
       "  0.11117901656383353,\n",
       "  0.11044846460852704,\n",
       "  0.10905587858693765,\n",
       "  0.10812740798364892,\n",
       "  0.10641684318601899,\n",
       "  0.10942192554527579,\n",
       "  0.11247786488833389,\n",
       "  0.10971120227940123,\n",
       "  0.10963323456547054,\n",
       "  0.10800971191840007,\n",
       "  0.1091633521405755,\n",
       "  0.1083684783121956,\n",
       "  0.10634098526158305,\n",
       "  0.1104033848941469,\n",
       "  0.11059666769110774,\n",
       "  0.11154738140532096,\n",
       "  0.1068515286533919,\n",
       "  0.10930302026792305,\n",
       "  0.10688454440691354,\n",
       "  0.11195607596645651,\n",
       "  0.1112393934893302,\n",
       "  0.11085088201868616,\n",
       "  0.10872902964115386,\n",
       "  0.11090196190133245,\n",
       "  0.10837585219561417,\n",
       "  0.1080198700297582,\n",
       "  0.1101794976273105,\n",
       "  0.106269320337124,\n",
       "  0.10888547515564628,\n",
       "  0.1112996193437311,\n",
       "  0.11232942759254642,\n",
       "  0.11065625862626735,\n",
       "  0.10677291225975218,\n",
       "  0.11162540624028323,\n",
       "  0.1066233875578284,\n",
       "  0.1089312361669942,\n",
       "  0.1118994679039261,\n",
       "  0.10724897058092242,\n",
       "  0.10870175635071543,\n",
       "  0.10892296691955276,\n",
       "  0.10979173552482047,\n",
       "  0.10761932087443944,\n",
       "  0.10983716285682953,\n",
       "  0.11187455889446074,\n",
       "  0.11149010268262685,\n",
       "  0.11111888169207365,\n",
       "  0.111498482283528,\n",
       "  0.10925870052777854,\n",
       "  0.10989820623615527,\n",
       "  0.10885227659430806,\n",
       "  0.11029289487902329,\n",
       "  0.1092051282327824,\n",
       "  0.1101759558268978,\n",
       "  0.11053551576350233,\n",
       "  0.10638875376624972,\n",
       "  0.11156727940446338,\n",
       "  0.112328858141578,\n",
       "  0.11149036648802513,\n",
       "  0.11241910564200155,\n",
       "  0.11064674774744282,\n",
       "  0.10901307179428152,\n",
       "  0.1125105842094328,\n",
       "  0.10861411818108843,\n",
       "  0.10718395892075723,\n",
       "  0.11024789241727666,\n",
       "  0.10929225673643171,\n",
       "  0.11015596922228449,\n",
       "  0.11055444155840975,\n",
       "  0.10857971156740963,\n",
       "  0.11008145051608528,\n",
       "  0.11100404239288211,\n",
       "  0.10894860993048296,\n",
       "  0.10816595429195783,\n",
       "  0.10955201554528801,\n",
       "  0.10948459950180747,\n",
       "  0.11172564797622526,\n",
       "  0.11238794902063753,\n",
       "  0.11020456927776238,\n",
       "  0.10768104903557585,\n",
       "  0.10862389074082647,\n",
       "  0.10887126237409006,\n",
       "  0.10875879443696364,\n",
       "  0.10878999641993707,\n",
       "  0.10884242811211528,\n",
       "  0.10921270413799869,\n",
       "  0.11045760605550005,\n",
       "  0.11011960299452699,\n",
       "  0.10927298116273082,\n",
       "  0.11071082875019003,\n",
       "  0.11022362815267192,\n",
       "  0.10908765340599633,\n",
       "  0.10753153968026094,\n",
       "  0.11216792117130951,\n",
       "  0.10672981986314319,\n",
       "  0.10874560042253094,\n",
       "  0.11076549845269568,\n",
       "  0.10677686972948974,\n",
       "  0.1100869193109581,\n",
       "  0.10762224818242339,\n",
       "  0.11158892081631888,\n",
       "  0.11227731785050384,\n",
       "  0.10879958580073162,\n",
       "  0.10838891383657252,\n",
       "  0.10980306300765712,\n",
       "  0.1099298473021476,\n",
       "  0.1097565537755587,\n",
       "  0.10903199731754072,\n",
       "  0.11150939144892609,\n",
       "  0.107669074331961,\n",
       "  0.10676166071444296,\n",
       "  0.1093560556683138,\n",
       "  0.11176585804522285,\n",
       "  0.10971760248985184,\n",
       "  0.10627017120107543,\n",
       "  0.10856856720511143,\n",
       "  0.10888054880843501,\n",
       "  0.11046546341274925,\n",
       "  0.11015217611221044,\n",
       "  0.10969892180089186,\n",
       "  0.110866923337733,\n",
       "  0.10790875642500729,\n",
       "  0.10677557077432578,\n",
       "  0.11208154301486667,\n",
       "  0.11096266595452396,\n",
       "  0.10742454666187469,\n",
       "  0.10678250813554101,\n",
       "  0.10704899094604094,\n",
       "  0.10669639683027281,\n",
       "  0.10821464873807281,\n",
       "  0.10785769463277368,\n",
       "  0.10787969345278947,\n",
       "  0.11106516893525387,\n",
       "  0.10842586694883978,\n",
       "  0.10911624211255906,\n",
       "  0.1071692906470027,\n",
       "  0.10634656279339638,\n",
       "  0.10940245076269475,\n",
       "  0.10884705909669481,\n",
       "  0.10891087943828193,\n",
       "  0.10818204913432476,\n",
       "  0.10972011488353219,\n",
       "  0.1100862046957898,\n",
       "  0.10699812110411247,\n",
       "  0.10896660496653146,\n",
       "  0.11037691102921197,\n",
       "  0.10946059015446685,\n",
       "  0.10902679569939723,\n",
       "  0.11246991911858131,\n",
       "  0.10752354251756549,\n",
       "  0.11075700984521965,\n",
       "  0.10823366000333803,\n",
       "  0.11035928683767507,\n",
       "  0.11024787608652319,\n",
       "  0.11053466982302555,\n",
       "  0.11039240108254152,\n",
       "  0.10704903006537886,\n",
       "  0.11235465630082266,\n",
       "  0.10891035922100756,\n",
       "  0.10959011734649463,\n",
       "  0.11255271122369022,\n",
       "  0.11052196316905155,\n",
       "  0.10833818869017874,\n",
       "  0.112058582530564,\n",
       "  0.10740631332640527,\n",
       "  0.1118255539053216,\n",
       "  0.1098631709755681,\n",
       "  0.10650410986099383,\n",
       "  0.10840785618169044,\n",
       "  0.10822845391303415,\n",
       "  0.1102838296577955,\n",
       "  0.10963689419991275,\n",
       "  0.10830938799106515,\n",
       "  0.10900577467789167,\n",
       "  0.11144489595602178,\n",
       "  0.1118090934466804,\n",
       "  0.10856032365965072,\n",
       "  0.11142824202829664,\n",
       "  0.10690222790400228,\n",
       "  0.10842516292174753,\n",
       "  0.11008706102365182,\n",
       "  0.10920627028713949,\n",
       "  0.10956808048512842,\n",
       "  0.10963801791452883,\n",
       "  0.11036134528597867,\n",
       "  0.1104612218583943,\n",
       "  0.10984980494700387,\n",
       "  0.1083077387869942,\n",
       "  0.1074120712120027,\n",
       "  0.10969345659860738,\n",
       "  0.10943602549015093,\n",
       "  0.10866561223012468,\n",
       "  0.10818539404149365,\n",
       "  0.10946030972076282,\n",
       "  0.10700092659808019,\n",
       "  0.1068887363438953,\n",
       "  0.10898627386033063,\n",
       "  0.11005955300505146,\n",
       "  0.10876529778635517,\n",
       "  0.10971371663266294,\n",
       "  0.11102126731605644,\n",
       "  0.10738474455595767,\n",
       "  0.11047066706546932,\n",
       "  0.10985638579045513,\n",
       "  0.10971398927921654,\n",
       "  0.10861503411585392,\n",
       "  0.1125455860880709,\n",
       "  0.1087712954283772,\n",
       "  0.11121652805771866,\n",
       "  0.11261903415008656,\n",
       "  0.10764953093409553,\n",
       "  0.10953641754701497,\n",
       "  0.10947127434977635,\n",
       "  0.10868631451160098,\n",
       "  0.10683577864589465,\n",
       "  0.10764796849127621,\n",
       "  0.10918304051541249,\n",
       "  0.10823865873523675,\n",
       "  0.10786647666207334,\n",
       "  0.10979685982157295,\n",
       "  0.11148913349688577,\n",
       "  0.10977899882070866,\n",
       "  0.10955370366554483,\n",
       "  0.10757076631479845,\n",
       "  0.1066617815010554,\n",
       "  0.10789516603990532,\n",
       "  0.1104491782964585,\n",
       "  0.10713326415304487,\n",
       "  0.10865264632494426,\n",
       "  0.10797703140164253,\n",
       "  0.1105955844255396,\n",
       "  0.10946671536935176,\n",
       "  0.1125141048192027,\n",
       "  0.11020692187685503,\n",
       "  0.11212424802669987,\n",
       "  0.10899117966898325,\n",
       "  0.11148403775696568,\n",
       "  0.11129687744693273,\n",
       "  0.10898986690578803,\n",
       "  0.11067955776658402,\n",
       "  0.11020347117588605,\n",
       "  0.11039472285767434,\n",
       "  0.10703198729475315,\n",
       "  0.10774134313441927,\n",
       "  0.10963365896316381,\n",
       "  0.10864229084559508,\n",
       "  0.11139348933494936,\n",
       "  0.11065253459907451,\n",
       "  0.10846351268873489,\n",
       "  0.11078113363789978,\n",
       "  0.1089799012300374,\n",
       "  0.10766891089602998,\n",
       "  0.10725232836301149,\n",
       "  0.1103417908700699,\n",
       "  0.11004128948812392,\n",
       "  0.11250974715310721,\n",
       "  0.11215762289508395,\n",
       "  0.1091618124672789,\n",
       "  0.11266868785809052,\n",
       "  0.11261170922569222,\n",
       "  0.1097900166678326,\n",
       "  0.1070546180088315,\n",
       "  0.10908604110794479,\n",
       "  0.11200112645866228,\n",
       "  0.1096862088122168,\n",
       "  0.10837361252420614,\n",
       "  0.10891111672383966,\n",
       "  0.10981875743425477,\n",
       "  0.1103542408003135,\n",
       "  0.11114334381798807,\n",
       "  0.10790824640727403,\n",
       "  0.10904828072512279,\n",
       "  0.11014188079295734,\n",
       "  0.11149900580692078,\n",
       "  0.10991932108259188,\n",
       "  0.11037693405736909,\n",
       "  0.1081087512020108,\n",
       "  0.1083047738780364,\n",
       "  0.10926591377260052,\n",
       "  0.10896979781838965,\n",
       "  0.10994532180281164,\n",
       "  0.11069911076654503,\n",
       "  0.10700176974783299,\n",
       "  0.10968527997085299,\n",
       "  0.10762580022255686,\n",
       "  0.11258171049436072,\n",
       "  0.10807520608470261,\n",
       "  0.1110069856040077,\n",
       "  0.10686357321434604,\n",
       "  0.11003895032683,\n",
       "  0.10814060066692643,\n",
       "  0.10748642162069866,\n",
       "  0.11133051759667571,\n",
       "  0.10966369801924822,\n",
       "  0.10878041101480061,\n",
       "  0.1093299315332624,\n",
       "  0.10747565600122891,\n",
       "  0.10685146921461842,\n",
       "  0.10978408288802999],\n",
       " [0.1521410091107108,\n",
       "  0.15701096204174939,\n",
       "  0.15520485223268976,\n",
       "  0.15223455168517083,\n",
       "  0.15193744973873938,\n",
       "  0.15658431120710498,\n",
       "  0.15184686708541092,\n",
       "  0.1547513055541055,\n",
       "  0.15299740311301785,\n",
       "  0.15182555358837826,\n",
       "  0.15531053993606614,\n",
       "  0.15180949843724412,\n",
       "  0.15936285335641323,\n",
       "  0.1547823978884855,\n",
       "  0.15298448512758495,\n",
       "  0.1545363458770767,\n",
       "  0.16156138892557378,\n",
       "  0.15715085273226212,\n",
       "  0.1522005649813998,\n",
       "  0.15664895154574074,\n",
       "  0.15242548224969893,\n",
       "  0.15685164114647937,\n",
       "  0.16490919160091091,\n",
       "  0.16660364434159775,\n",
       "  0.1533715844519556,\n",
       "  0.1633823485887845,\n",
       "  0.15271332929443268,\n",
       "  0.16491373784269153,\n",
       "  0.15778395138509738,\n",
       "  0.15271168680187916,\n",
       "  0.15285179041248442,\n",
       "  0.15362552234716412,\n",
       "  0.15211288874798146,\n",
       "  0.1526250871190681,\n",
       "  0.1521751619365779,\n",
       "  0.15206170317357667,\n",
       "  0.16672537267995144,\n",
       "  0.164366872690231,\n",
       "  0.1553412909030874,\n",
       "  0.15998975933468065,\n",
       "  0.15181987786083426,\n",
       "  0.16429318385660202,\n",
       "  0.1566835826196237,\n",
       "  0.15411937491806407,\n",
       "  0.15185027829387526,\n",
       "  0.15313146435272648,\n",
       "  0.15329079428731224,\n",
       "  0.15561787113741532,\n",
       "  0.15303183229826786,\n",
       "  0.15196608816230445,\n",
       "  0.15432052556722992,\n",
       "  0.1558263517197205,\n",
       "  0.16174962360090475,\n",
       "  0.15412544438940876,\n",
       "  0.15374818386992864,\n",
       "  0.16464267370447241,\n",
       "  0.15804443558630896,\n",
       "  0.15179568148827446,\n",
       "  0.1526074889999504,\n",
       "  0.1665563313806802,\n",
       "  0.15555038987655187,\n",
       "  0.1587444897636392,\n",
       "  0.1527114372391335,\n",
       "  0.15241508026993017,\n",
       "  0.15438331928942806,\n",
       "  0.16286201776719422,\n",
       "  0.15184842242270308,\n",
       "  0.15375307529315665,\n",
       "  0.15517736956090203,\n",
       "  0.17280798608682704,\n",
       "  0.1566995882344773,\n",
       "  0.15189012212806438,\n",
       "  0.17461042648009098,\n",
       "  0.1645186515901842,\n",
       "  0.1662447578847586,\n",
       "  0.15528408066879226,\n",
       "  0.15860017098560755,\n",
       "  0.15217565064425667,\n",
       "  0.1525066485572713,\n",
       "  0.15372084720754123,\n",
       "  0.15710419381935303,\n",
       "  0.16003103451212472,\n",
       "  0.1738514737922037,\n",
       "  0.15212581736182357,\n",
       "  0.16048553525007758,\n",
       "  0.1522592579863719,\n",
       "  0.15220082766125398,\n",
       "  0.15180026596293789,\n",
       "  0.15961803885057924,\n",
       "  0.1520135167227102,\n",
       "  0.16106234238886713,\n",
       "  0.15205338891253228,\n",
       "  0.15184121008822546,\n",
       "  0.1521193791933652,\n",
       "  0.15180939452262235,\n",
       "  0.16542542175855007,\n",
       "  0.1554251893944701,\n",
       "  0.15179142060372894,\n",
       "  0.15180706953223774,\n",
       "  0.15810215891849824,\n",
       "  0.15847943848209456,\n",
       "  0.15210839946943064,\n",
       "  0.16691715700984602,\n",
       "  0.15357651488364182,\n",
       "  0.1527067372865421,\n",
       "  0.1556462243641115,\n",
       "  0.1638928470039264,\n",
       "  0.15287249368958133,\n",
       "  0.15544303630716108,\n",
       "  0.15464838627922317,\n",
       "  0.15198151713437547,\n",
       "  0.15570502706234313,\n",
       "  0.15280880846414868,\n",
       "  0.15778185166054126,\n",
       "  0.1538047565655004,\n",
       "  0.15198000442640822,\n",
       "  0.15367572895327924,\n",
       "  0.15289724870450244,\n",
       "  0.16627352764385886,\n",
       "  0.15439269491444169,\n",
       "  0.1519315506377179,\n",
       "  0.16648453419680728,\n",
       "  0.15179635664219493,\n",
       "  0.15198091828280683,\n",
       "  0.15183418997904988,\n",
       "  0.15240868245113834,\n",
       "  0.15180822038650416,\n",
       "  0.15179538633916942,\n",
       "  0.15181533934115687,\n",
       "  0.1518462363848623,\n",
       "  0.15197992844049196,\n",
       "  0.1569931731550357,\n",
       "  0.15257694871931177,\n",
       "  0.15305671713225055,\n",
       "  0.1551039493805921,\n",
       "  0.15858700089995414,\n",
       "  0.1604100044323532,\n",
       "  0.15443110569946897,\n",
       "  0.1686680056166197,\n",
       "  0.151872412052975,\n",
       "  0.15212375817365958,\n",
       "  0.16049641043113966,\n",
       "  0.15825385574772854,\n",
       "  0.15247020754015456,\n",
       "  0.1518995044776873,\n",
       "  0.16263923476945946,\n",
       "  0.15656204853743738,\n",
       "  0.15201825017612508,\n",
       "  0.16073108009952997,\n",
       "  0.15279331160959084,\n",
       "  0.16656121873328877,\n",
       "  0.15293744380034274,\n",
       "  0.1536529916145955,\n",
       "  0.15478065982315703,\n",
       "  0.1525297077101262,\n",
       "  0.1520652998527107,\n",
       "  0.16209635874572076,\n",
       "  0.15381581778155262,\n",
       "  0.15735100798936705,\n",
       "  0.15393466994066182,\n",
       "  0.1524167633796807,\n",
       "  0.15265021132255707,\n",
       "  0.1522841972538813,\n",
       "  0.17315757534699297,\n",
       "  0.15828815290646805,\n",
       "  0.1646911298458351,\n",
       "  0.1630383259530166,\n",
       "  0.1577343062215223,\n",
       "  0.16680414091501386,\n",
       "  0.15322342879475148,\n",
       "  0.1594471248772045,\n",
       "  0.15241923036929383,\n",
       "  0.15269445773532073,\n",
       "  0.15356504478760324,\n",
       "  0.16261281227481886,\n",
       "  0.1529843032328758,\n",
       "  0.1533826446452882,\n",
       "  0.15213346896771712,\n",
       "  0.15181701547574594,\n",
       "  0.15438876586809316,\n",
       "  0.16653112817154608,\n",
       "  0.15456852192175508,\n",
       "  0.15740946293201097,\n",
       "  0.1551629711819381,\n",
       "  0.17495215660628227,\n",
       "  0.15452209159270394,\n",
       "  0.1527486518220991,\n",
       "  0.15743613314696103,\n",
       "  0.153080745964118,\n",
       "  0.1589345155245382,\n",
       "  0.15449543174019162,\n",
       "  0.17598943660075167,\n",
       "  0.16941725890571682,\n",
       "  0.1525124783208882,\n",
       "  0.1639182032371093,\n",
       "  0.15239360560313975,\n",
       "  0.15363186830392359,\n",
       "  0.15862636573576297,\n",
       "  0.15184073866458744,\n",
       "  0.15257156245043813,\n",
       "  0.17235533185842747,\n",
       "  0.15195960547078546,\n",
       "  0.15245940236397798,\n",
       "  0.15227566088473807,\n",
       "  0.15179339628243974,\n",
       "  0.15213834604359305,\n",
       "  0.16576396763175272,\n",
       "  0.15319429250773597,\n",
       "  0.15374023330718437,\n",
       "  0.15290730786459736,\n",
       "  0.151807827645194,\n",
       "  0.16299216862368784,\n",
       "  0.16942428022990583,\n",
       "  0.16594682135740596,\n",
       "  0.15194052861384724,\n",
       "  0.1522052699346702,\n",
       "  0.1528473402251797,\n",
       "  0.15388967482819185,\n",
       "  0.15445961440628425,\n",
       "  0.15429341343534977,\n",
       "  0.16589625600557792,\n",
       "  0.15179588296916058,\n",
       "  0.15308384163881558,\n",
       "  0.16313768482280214,\n",
       "  0.1612310329143176,\n",
       "  0.15186499011448398,\n",
       "  0.16576746544819965,\n",
       "  0.16318437860452206,\n",
       "  0.15187079972626796,\n",
       "  0.1532776419750206,\n",
       "  0.1628093842749678,\n",
       "  0.15493812695895545,\n",
       "  0.1520290237691262,\n",
       "  0.1520368319648178,\n",
       "  0.16014673069230975,\n",
       "  0.16167760570358047,\n",
       "  0.15496761188974412,\n",
       "  0.15510932057073604,\n",
       "  0.17425861097152862,\n",
       "  0.15931569062315246,\n",
       "  0.15382163005664826,\n",
       "  0.15300134091919676,\n",
       "  0.16369180044157403,\n",
       "  0.15360717661749096,\n",
       "  0.15215754748547888,\n",
       "  0.15215879475021965,\n",
       "  0.1637021140929705,\n",
       "  0.1519746273015394,\n",
       "  0.16371302009840316,\n",
       "  0.15301031595531983,\n",
       "  0.15748455193081315,\n",
       "  0.16205540861585996,\n",
       "  0.15186758542282144,\n",
       "  0.15245010280313426,\n",
       "  0.15268067771765084,\n",
       "  0.15472689967553507,\n",
       "  0.1560537587012295,\n",
       "  0.15318560852958707,\n",
       "  0.15200100328466185,\n",
       "  0.15614393883613112,\n",
       "  0.1562573677808297,\n",
       "  0.15179331119380954,\n",
       "  0.15206201958807472,\n",
       "  0.15336299254251626,\n",
       "  0.15874301928495238,\n",
       "  0.15237012317533297,\n",
       "  0.1611851622211225,\n",
       "  0.15373289144796234,\n",
       "  0.16183450485910816,\n",
       "  0.17349138256584035,\n",
       "  0.1535326928473908,\n",
       "  0.15386958253384245,\n",
       "  0.15602690057573151,\n",
       "  0.15706715907266944,\n",
       "  0.1519734760542519,\n",
       "  0.15992906714346522,\n",
       "  0.1520188108699035,\n",
       "  0.1563509675863341,\n",
       "  0.15226592175381964,\n",
       "  0.1518911840950286,\n",
       "  0.16671771518863276,\n",
       "  0.1519111009619121,\n",
       "  0.15980786685157095,\n",
       "  0.16412316156629564,\n",
       "  0.16557200734032465,\n",
       "  0.15569809353758166,\n",
       "  0.15264338670972488,\n",
       "  0.1550466612676102,\n",
       "  0.15622406557710325,\n",
       "  0.15427219440623244,\n",
       "  0.17475375939584947,\n",
       "  0.1557922690082902,\n",
       "  0.16743585281070433,\n",
       "  0.1518488527381256,\n",
       "  0.15656166112771572,\n",
       "  0.1600935567742591,\n",
       "  0.16654992082810624,\n",
       "  0.16658616774210422,\n",
       "  0.15197409449535745,\n",
       "  0.15233494337148795,\n",
       "  0.1527073590861574,\n",
       "  0.1729229964232232,\n",
       "  0.15402998990063396,\n",
       "  0.15843054073177648,\n",
       "  0.16327954127203168,\n",
       "  0.15485921806483716,\n",
       "  0.15427327022321785,\n",
       "  0.15252494145665563,\n",
       "  0.15853133795481494,\n",
       "  0.15614555828391746,\n",
       "  0.1694976587102622,\n",
       "  0.1565478415309552,\n",
       "  0.15461276218419756,\n",
       "  0.1521579697640066,\n",
       "  0.15380010640530734,\n",
       "  0.1642203013677432,\n",
       "  0.1634972177811818,\n",
       "  0.16970626100261446,\n",
       "  0.15494889542166476,\n",
       "  0.15183153403048133,\n",
       "  0.15784375665694136,\n",
       "  0.1518413083807638,\n",
       "  0.15689581107751432,\n",
       "  0.15575930667903276,\n",
       "  0.15271090046160513,\n",
       "  0.15189794587369526,\n",
       "  0.15212136905741125,\n",
       "  0.15805983779382377,\n",
       "  0.15222535292326997,\n",
       "  0.15268095369030335,\n",
       "  0.15204593947655853,\n",
       "  0.16386210278350852,\n",
       "  0.15925188113466912,\n",
       "  0.15179996548652114,\n",
       "  0.1533324610874371,\n",
       "  0.16059565063001738,\n",
       "  0.15322199190600888,\n",
       "  0.1665574749988037,\n",
       "  0.15265283133330276,\n",
       "  0.1668119682038559,\n",
       "  0.15545812051149807,\n",
       "  0.16628979814044126,\n",
       "  0.16332902011579717,\n",
       "  0.15209357920432748,\n",
       "  0.15265048906970394,\n",
       "  0.1597542411805222,\n",
       "  0.16077937755977148,\n",
       "  0.15748736936207822,\n",
       "  0.15793891086463055,\n",
       "  0.15189260657553608,\n",
       "  0.15198535200937469,\n",
       "  0.1655727847269288,\n",
       "  0.15860454769653454,\n",
       "  0.15183031941500608,\n",
       "  0.15538098465815056,\n",
       "  0.15662834801098116,\n",
       "  0.1525034464075683,\n",
       "  0.15846798031841466,\n",
       "  0.15184558113442548,\n",
       "  0.1539381837192717,\n",
       "  0.15957990697406993,\n",
       "  0.15637827293113912,\n",
       "  0.1517947784881523,\n",
       "  0.1658678819066655,\n",
       "  0.1558846906863052,\n",
       "  0.15348057950758295,\n",
       "  0.15192779960631092,\n",
       "  0.15786490724088392,\n",
       "  0.15213659756854578,\n",
       "  0.1582678406109842,\n",
       "  0.15559263291957653,\n",
       "  0.1653406789791851,\n",
       "  0.15319681757186235,\n",
       "  0.15727974214176815,\n",
       "  0.15288578801862845,\n",
       "  0.16083226595831948,\n",
       "  0.1519422889260279,\n",
       "  0.15263706942550428,\n",
       "  0.15382115889583123,\n",
       "  0.15244733215055015,\n",
       "  0.15190302900341043,\n",
       "  0.15182149933954886,\n",
       "  0.152600426180256,\n",
       "  0.1519193762695245,\n",
       "  0.1623022851819912,\n",
       "  0.16413856616021905,\n",
       "  0.15187603433867466,\n",
       "  0.15891363576561185,\n",
       "  0.15710410542555964,\n",
       "  0.15731589188358125,\n",
       "  0.15257519584195717,\n",
       "  0.15222014734352565,\n",
       "  0.15811226737377523,\n",
       "  0.1670407275546424,\n",
       "  0.15216065525631162,\n",
       "  0.17331697714921343,\n",
       "  0.15187449845454568,\n",
       "  0.1587958934673292,\n",
       "  0.15181499578499505,\n",
       "  0.15187179569052126,\n",
       "  0.1520143315797401,\n",
       "  0.15259295488140925,\n",
       "  0.16460972390231368,\n",
       "  0.15414870321203242,\n",
       "  0.15868167785039278,\n",
       "  0.15285924776449722,\n",
       "  0.15458941830600373,\n",
       "  0.15208379735140887,\n",
       "  0.15419029521806984,\n",
       "  0.158642615232192,\n",
       "  0.15505281251400305,\n",
       "  0.15827329047398844,\n",
       "  0.16464916516070213,\n",
       "  0.15780050688781075,\n",
       "  0.15760701934821877,\n",
       "  0.16218911726651458,\n",
       "  0.15470340412602532,\n",
       "  0.15182152517207348,\n",
       "  0.1574707621377175,\n",
       "  0.15182802158347186,\n",
       "  0.15300229811399946,\n",
       "  0.151857546562117,\n",
       "  0.15190952217674408,\n",
       "  0.15429359156378594,\n",
       "  0.15424682839391102,\n",
       "  0.15503788152062728,\n",
       "  0.15188547769124858,\n",
       "  0.16424851638814783,\n",
       "  0.15180056747548937,\n",
       "  0.15188744991403047,\n",
       "  0.1518129382581055,\n",
       "  0.16606235423187277,\n",
       "  0.16731496725489586,\n",
       "  0.1527607053650011,\n",
       "  0.16919912545833407,\n",
       "  0.1761191186423768,\n",
       "  0.15316352081344106,\n",
       "  0.1689330840981801,\n",
       "  0.16252170130064403,\n",
       "  0.15654180518247848,\n",
       "  0.15190811735667611,\n",
       "  0.15180689112554702,\n",
       "  0.1518814581599786,\n",
       "  0.1585495800644245,\n",
       "  0.15743608752671598,\n",
       "  0.1754657382461412,\n",
       "  0.1526682305111231,\n",
       "  0.15302992633917206,\n",
       "  0.17420216992246645,\n",
       "  0.1743095935078565,\n",
       "  0.15237899856722903,\n",
       "  0.15283892690129194,\n",
       "  0.1517942917239352,\n",
       "  0.16775331148142966,\n",
       "  0.16805903358504953,\n",
       "  0.15820764475947613,\n",
       "  0.1519297791377074,\n",
       "  0.1527433178578082,\n",
       "  0.15799336784425158,\n",
       "  0.1580384473268369,\n",
       "  0.1540940681794019,\n",
       "  0.1518060637378355,\n",
       "  0.15218934977891774,\n",
       "  0.15181467587692477,\n",
       "  0.15811282519898384,\n",
       "  0.15203582123169643,\n",
       "  0.1660087625223502,\n",
       "  0.16155374509323436,\n",
       "  0.15806274895637495,\n",
       "  0.15807810192957494,\n",
       "  0.1517911983563067,\n",
       "  0.1533690196218024,\n",
       "  0.15208512252917686,\n",
       "  0.17022337746570745,\n",
       "  0.15746498636166914,\n",
       "  0.15181396536714384,\n",
       "  0.15179383392592088,\n",
       "  0.1602819778944865,\n",
       "  0.16106811488469575,\n",
       "  0.1521247796803978,\n",
       "  0.15180345361165926,\n",
       "  0.15447761250147918,\n",
       "  0.15363553625945997,\n",
       "  0.1539464977472658,\n",
       "  0.1702287272594694,\n",
       "  0.15196469814394523,\n",
       "  0.15471060877451462,\n",
       "  0.1703508315386652,\n",
       "  0.15197640561418507,\n",
       "  0.1548382250192533,\n",
       "  0.1691714884314696,\n",
       "  0.15597240809688326,\n",
       "  0.16169260983498496,\n",
       "  0.15438581877733057,\n",
       "  0.15182212582151486,\n",
       "  0.15851529771026804,\n",
       "  0.15264137860237328,\n",
       "  0.1520440255336063,\n",
       "  0.15281601491318395,\n",
       "  0.1526349957557028,\n",
       "  0.15670832066599794,\n",
       "  0.1518898578286585,\n",
       "  0.1529120090290115,\n",
       "  0.15200252547409468,\n",
       "  0.16154591190303091,\n",
       "  0.15708722734404706,\n",
       "  0.16238407948059916,\n",
       "  0.1535339572212995,\n",
       "  0.16579037013966325,\n",
       "  0.1591434663925296,\n",
       "  0.15194074799779783,\n",
       "  0.15556641818842165,\n",
       "  0.15325257794870542,\n",
       "  0.1520713917123791,\n",
       "  0.15279116238233478,\n",
       "  0.1538868375787772,\n",
       "  0.17600581189503378,\n",
       "  0.15201919129227257,\n",
       "  0.15966336005470566,\n",
       "  0.15179274171317922,\n",
       "  0.15241086933758463,\n",
       "  0.16116643527395222,\n",
       "  0.1517912004540586,\n",
       "  0.1643836812836403,\n",
       "  0.15181418485265416,\n",
       "  0.153062740063628,\n",
       "  0.16365508018802374,\n",
       "  0.1584498347121205,\n",
       "  0.1563347985365875,\n",
       "  0.15385967704812392,\n",
       "  0.16141384737111392,\n",
       "  0.15229600009925198,\n",
       "  0.1520074359434966,\n",
       "  0.15440822460857037,\n",
       "  0.163332708633692,\n",
       "  0.1520061789214522,\n",
       "  0.15547059333311158,\n",
       "  0.15406989533723678,\n",
       "  0.1539294927192487,\n",
       "  0.15326640722720508,\n",
       "  0.15840095749854896,\n",
       "  0.1520685316094179,\n",
       "  0.15504692688312063,\n",
       "  0.151793892138995,\n",
       "  0.17008963835191687,\n",
       "  0.15187177217207384,\n",
       "  0.16459869005301228,\n",
       "  0.15193519078658468,\n",
       "  0.15761587620503176,\n",
       "  0.15197702005898037,\n",
       "  0.15883132192883379,\n",
       "  0.15253721830145414,\n",
       "  0.15179193189608745,\n",
       "  0.1701852341979163,\n",
       "  0.17309581002548924,\n",
       "  0.1653448188945811,\n",
       "  0.1556411854761511,\n",
       "  0.16566419666310056,\n",
       "  0.15259026621254035,\n",
       "  0.159583309275665,\n",
       "  0.15924525101986559,\n",
       "  0.15439132439816314,\n",
       "  0.15712962871023145,\n",
       "  0.16390166880959167,\n",
       "  0.16311393159588428,\n",
       "  0.1531613674966679,\n",
       "  0.16480961234061015,\n",
       "  0.1536023754843795,\n",
       "  0.15502000472562505,\n",
       "  0.1527622118398234,\n",
       "  0.16262870658205342,\n",
       "  0.15804825646983497,\n",
       "  0.15621613448313923,\n",
       "  0.15543753545228178,\n",
       "  0.1519748299997009,\n",
       "  0.15298687509367406,\n",
       "  0.17439093203851072,\n",
       "  0.15198956405991246,\n",
       "  0.15960347081978385,\n",
       "  0.15775981995531083,\n",
       "  0.1521304351043612,\n",
       "  0.15182693827765426,\n",
       "  0.1517942059405614,\n",
       "  0.15383827239055134,\n",
       "  0.16229349698234613,\n",
       "  0.1522329932911562,\n",
       "  0.16503975562856857,\n",
       "  0.15352289151076345,\n",
       "  0.1529614675233181,\n",
       "  0.16318462451412377,\n",
       "  0.15297524777365704,\n",
       "  0.16782271400827495,\n",
       "  0.1594440940542936,\n",
       "  0.1560240126509184,\n",
       "  0.15305983071865784,\n",
       "  0.15467197876607053,\n",
       "  0.15303426508067253,\n",
       "  0.1536074238250258,\n",
       "  0.1542894873965519,\n",
       "  0.16071117826837733,\n",
       "  0.1534916527635944,\n",
       "  0.15263915550951124,\n",
       "  0.15195323874092392,\n",
       "  0.16747862802253938,\n",
       "  0.17209986585047732,\n",
       "  0.17097613860688105,\n",
       "  0.1630200359562319,\n",
       "  0.15493117262247955,\n",
       "  0.15458931898150868,\n",
       "  0.1607768174975324,\n",
       "  0.1615473204533014,\n",
       "  0.15499506576169866,\n",
       "  0.15506922530629252,\n",
       "  0.16359435766940236,\n",
       "  0.16286311384031488,\n",
       "  0.15180806887995107,\n",
       "  0.15831235180366723,\n",
       "  0.16589132491638972,\n",
       "  0.16787867394348718,\n",
       "  0.17344732859009052,\n",
       "  0.17425923867498228,\n",
       "  0.15235110220139264,\n",
       "  0.15218800950373795,\n",
       "  0.15189409026660172,\n",
       "  0.15333790322792834,\n",
       "  0.1558098971819899,\n",
       "  0.15610491255641065,\n",
       "  0.15245504103540908,\n",
       "  0.1557040151417615,\n",
       "  0.15418915498270555,\n",
       "  0.15315798232710534,\n",
       "  0.16344849909008588,\n",
       "  0.16271542125797755,\n",
       "  0.15503576247028217,\n",
       "  0.15354624537540817,\n",
       "  0.16691669426756217,\n",
       "  0.1599332988457556,\n",
       "  0.15189295477261783,\n",
       "  0.15216644938044716,\n",
       "  0.1544888729398,\n",
       "  0.1563991788827992,\n",
       "  0.15282757719659845,\n",
       "  0.15192599446675117,\n",
       "  0.1690632858399209,\n",
       "  0.152604341825067,\n",
       "  0.151793786487445,\n",
       "  0.1636991351806777,\n",
       "  0.15560000577990732,\n",
       "  0.15222127538454697,\n",
       "  0.16626366124656902,\n",
       "  0.15206403648692476,\n",
       "  0.1525461969609047,\n",
       "  0.15428324736410345,\n",
       "  0.15185596786885738,\n",
       "  0.15185961331930253,\n",
       "  0.15508222012604034,\n",
       "  0.15194471657522302,\n",
       "  0.1689347236689862,\n",
       "  0.16022290461615118,\n",
       "  0.15929906419239942,\n",
       "  0.155179716646004,\n",
       "  0.15182498320320362,\n",
       "  0.1551595098068534,\n",
       "  0.15391214185145943,\n",
       "  0.15621456611520576,\n",
       "  0.1519305980371359,\n",
       "  0.15195353219110572,\n",
       "  0.15278729027418614,\n",
       "  0.15693927791187737,\n",
       "  0.15232252354049972,\n",
       "  0.16372525914897368,\n",
       "  0.17046766347114828,\n",
       "  0.1557647231956119,\n",
       "  0.1518457776732312,\n",
       "  0.1522323214131453,\n",
       "  0.1519902551709399,\n",
       "  0.15913533450907533,\n",
       "  0.15812727227753637,\n",
       "  0.15294400560846869,\n",
       "  0.1532071793565076,\n",
       "  0.153537018438914,\n",
       "  0.15615451642292794,\n",
       "  0.15660482553431374,\n",
       "  0.15461892600881524,\n",
       "  0.1517918613846151,\n",
       "  0.15384809006772876,\n",
       "  0.15202221249179526,\n",
       "  0.16729650835122029,\n",
       "  0.15465750442223505,\n",
       "  0.15272426046522988,\n",
       "  0.15225716873796885,\n",
       "  0.15931406123634503,\n",
       "  0.15989998887208273,\n",
       "  0.15207359695432637,\n",
       "  0.15222226154043855,\n",
       "  0.15480260344852154,\n",
       "  0.15784819335708947,\n",
       "  0.1518272163532822,\n",
       "  0.15258881552933332,\n",
       "  0.15179137889346833,\n",
       "  0.15186186669346272,\n",
       "  0.1519695454662341,\n",
       "  0.1551001377173004,\n",
       "  0.1524119852757406,\n",
       "  0.1532104053943356,\n",
       "  0.15799525757845306,\n",
       "  0.17459759813750766,\n",
       "  0.15224327172982455,\n",
       "  0.16476671925363512,\n",
       "  0.15185925265809752,\n",
       "  0.15192948363498898,\n",
       "  0.15883024073348057,\n",
       "  0.15287115084891523,\n",
       "  0.15644130656196084,\n",
       "  0.17553518837510612,\n",
       "  0.15231521522407948,\n",
       "  0.15278739941873806,\n",
       "  0.15723236254704304,\n",
       "  0.16952810149232775,\n",
       "  0.15249881406412807,\n",
       "  0.16916494153445946,\n",
       "  0.16017601305216816,\n",
       "  0.1554148077289111,\n",
       "  0.15363426389179244,\n",
       "  0.1545205421644885,\n",
       "  0.1538350628606734,\n",
       "  0.15639713562623767,\n",
       "  0.15875623065665848,\n",
       "  0.15195569843088974,\n",
       "  0.1764348177253994,\n",
       "  0.1538415213375848,\n",
       "  0.1557424097998213,\n",
       "  0.1633695264225822,\n",
       "  0.1529630040299103,\n",
       "  0.17040558400938044,\n",
       "  0.15774825845108004,\n",
       "  0.17212316685183418,\n",
       "  0.15366087013896626,\n",
       "  0.1597331312086976,\n",
       "  0.16537308668535725,\n",
       "  0.15464858241378718,\n",
       "  0.15369290967565763,\n",
       "  0.1518125540486281,\n",
       "  0.1619463019678596,\n",
       "  0.15179780667552953,\n",
       "  0.15954177894394186,\n",
       "  0.15686776334849775,\n",
       "  0.15480050087198352,\n",
       "  0.15692035177367408,\n",
       "  0.15260854175763955,\n",
       "  0.15179116479092303,\n",
       "  0.15397768608918294,\n",
       "  0.1521125512318699,\n",
       "  0.1527516376614288,\n",
       "  0.15195163556263472,\n",
       "  0.15262187358511067,\n",
       "  0.17494300381308514,\n",
       "  0.15736182580592384,\n",
       "  0.16336430319508619,\n",
       "  0.1568694149984382,\n",
       "  0.16420518351632324,\n",
       "  0.15293403212890613,\n",
       "  0.15335823125732795,\n",
       "  0.16508415486066763,\n",
       "  0.1550792882040337,\n",
       "  0.16601980074357967,\n",
       "  0.15204409282899362,\n",
       "  0.1525247411493022,\n",
       "  0.15192965902495018,\n",
       "  0.1526715101712848,\n",
       "  0.15525637954480329,\n",
       "  0.1518619647188581,\n",
       "  0.15426675809337542,\n",
       "  0.15359442564550527,\n",
       "  0.1577325842865653,\n",
       "  0.15202878223793104,\n",
       "  0.15213142724535553,\n",
       "  0.1584432972320572,\n",
       "  0.16391191297935906,\n",
       "  0.15198590807299733,\n",
       "  0.1614189235134668,\n",
       "  0.15502980883971623,\n",
       "  0.15389929059496243,\n",
       "  0.15438406801762822,\n",
       "  0.15424466998545247,\n",
       "  0.15401890381945801,\n",
       "  0.15273070782186418,\n",
       "  0.15243260187953958,\n",
       "  0.15189381596814217,\n",
       "  0.1525723288434652,\n",
       "  0.1531361563047364,\n",
       "  0.1520105714567827,\n",
       "  0.15310534763971484,\n",
       "  0.16271814497816905,\n",
       "  0.16193077659762764,\n",
       "  0.17089409589757065,\n",
       "  0.15444414294304518,\n",
       "  0.15332141589351578,\n",
       "  0.17036098673823816,\n",
       "  0.15186616850471132,\n",
       "  0.16192100398379233,\n",
       "  0.15750426797106995,\n",
       "  0.16289593581312595,\n",
       "  0.15420258378003598,\n",
       "  0.1563193888077419,\n",
       "  0.15180809384427882,\n",
       "  0.15179366756652643,\n",
       "  0.15182972262349653,\n",
       "  0.15329198547411282,\n",
       "  0.1569892012496838,\n",
       "  0.16152022964426618,\n",
       "  0.17053262431442914,\n",
       "  0.15237783214704162,\n",
       "  0.158732193112362,\n",
       "  0.15185458038223554,\n",
       "  0.17642405840663009,\n",
       "  0.1553147022806096,\n",
       "  0.1538614559178955,\n",
       "  0.15245058988123408,\n",
       "  0.1519256706086275,\n",
       "  0.15186868210296123,\n",
       "  0.15369622641490802,\n",
       "  0.15958555052090626,\n",
       "  0.17037561989225203,\n",
       "  0.16119690350947793,\n",
       "  0.1540869078837413,\n",
       "  0.1636931740026843,\n",
       "  0.1702975243634903,\n",
       "  0.16740406192641732,\n",
       "  0.17127662774249003,\n",
       "  0.15740843551839143,\n",
       "  0.15998114920861173,\n",
       "  0.15980960333956098,\n",
       "  0.15454454982884464,\n",
       "  0.15610286659661535,\n",
       "  0.15301423332949385,\n",
       "  0.16616753232470108,\n",
       "  0.1754657342357496,\n",
       "  0.1522812417044638,\n",
       "  0.15399947537772898,\n",
       "  0.1537402236420722,\n",
       "  0.15762449365617068,\n",
       "  0.15185279162652482,\n",
       "  0.1518656123121588,\n",
       "  0.16794015724269243,\n",
       "  0.15352685060882787,\n",
       "  0.1522621852843423,\n",
       "  0.15217240538692337,\n",
       "  0.15331005246871837,\n",
       "  0.1646901425965544,\n",
       "  0.16278972857167834,\n",
       "  0.15329187819246332,\n",
       "  0.15728421865281653,\n",
       "  0.15222844308807376,\n",
       "  0.15204406946886073,\n",
       "  0.15261968828994912,\n",
       "  0.15229287193003335,\n",
       "  0.1674036526650196,\n",
       "  0.16360199095355932,\n",
       "  0.1537422727274957,\n",
       "  0.15197888040440613,\n",
       "  0.1654978283235196,\n",
       "  0.15258720708144777,\n",
       "  0.15662485787766364,\n",
       "  0.16100606581368115,\n",
       "  0.16386304422394246,\n",
       "  0.15917165184001789,\n",
       "  0.1517931295426602,\n",
       "  0.1735379771739015,\n",
       "  0.15620776383992996,\n",
       "  0.15731810365618745,\n",
       "  0.15209810441458071,\n",
       "  0.15192563703066264,\n",
       "  0.1568025272947811,\n",
       "  0.15338414992255764,\n",
       "  0.1565885126891148,\n",
       "  0.15904922031184368,\n",
       "  0.15535814642717122,\n",
       "  0.1564875385618762,\n",
       "  0.16897174205896973,\n",
       "  0.15610694425360838,\n",
       "  0.15186627904686723,\n",
       "  0.15274846790503785,\n",
       "  0.15200702730479074,\n",
       "  0.15192446677410906,\n",
       "  0.15223231968063974,\n",
       "  0.15244084891061946,\n",
       "  0.1517951906526534,\n",
       "  0.1568127935727971,\n",
       "  0.1638092851705407,\n",
       "  0.1518730748350513,\n",
       "  0.15221673225470014,\n",
       "  0.154822661699315,\n",
       "  0.1576021474086926,\n",
       "  0.15217289772945586,\n",
       "  0.16791038880942832,\n",
       "  0.16911905994545887,\n",
       "  0.1534544414942852,\n",
       "  0.1518463457314182,\n",
       "  0.15435470378862756,\n",
       "  0.151857397349486,\n",
       "  0.15434358020063593,\n",
       "  0.1640653721006888,\n",
       "  0.15246263872207652,\n",
       "  0.1517940853304597,\n",
       "  0.15185719770565181,\n",
       "  0.15507463531480045,\n",
       "  0.1654274705736054,\n",
       "  0.15432776750947486,\n",
       "  0.15529401391339598,\n",
       "  0.16616033247239706,\n",
       "  0.16168660307390245,\n",
       "  0.1520509014461596,\n",
       "  0.15215388346687805,\n",
       "  0.15472234236489407,\n",
       "  0.16970246423245644,\n",
       "  0.1616999595582884,\n",
       "  0.1528139621715945,\n",
       "  0.15725177624536768,\n",
       "  0.15991246601439488,\n",
       "  0.15181047193287686,\n",
       "  0.15686169760268334,\n",
       "  0.15181819026237017,\n",
       "  0.15202644722544267,\n",
       "  0.16237007641582976,\n",
       "  0.17167612891797396,\n",
       "  0.15968995567633773,\n",
       "  0.15241358280401024,\n",
       "  0.1665331920836469,\n",
       "  0.1548863262806813,\n",
       "  0.1590708196571595,\n",
       "  0.15278433773372585,\n",
       "  0.15216173062878538,\n",
       "  0.16511851246260473,\n",
       "  0.15198887312145165,\n",
       "  0.16155659142460513,\n",
       "  0.15343661771306358,\n",
       "  0.15682986218983258,\n",
       "  0.15572719859386092,\n",
       "  0.15344137798644228,\n",
       "  0.1530354915952627,\n",
       "  0.15198453175622098,\n",
       "  0.152297554525426,\n",
       "  0.1675823894261483,\n",
       "  0.16091619905837073,\n",
       "  0.15192903477876515,\n",
       "  0.15493763416278322,\n",
       "  0.1562801379965929,\n",
       "  0.15295161724638134,\n",
       "  0.15588752083509297,\n",
       "  0.15337656335359787,\n",
       "  0.15347773555466435,\n",
       "  0.16152161565427656,\n",
       "  0.16534004319248677,\n",
       "  0.15219618142755012,\n",
       "  0.1518348041957301,\n",
       "  0.1650759917826303,\n",
       "  0.16184196686050434,\n",
       "  0.152875688018499,\n",
       "  0.16666523623342344,\n",
       "  0.16608649239023882,\n",
       "  0.15181327629562358,\n",
       "  0.16734523987221142,\n",
       "  0.15311058240631645,\n",
       "  0.16053637877758778,\n",
       "  0.15187908684608398,\n",
       "  0.1564105303699117,\n",
       "  0.15373928934798423,\n",
       "  0.1518027736776268,\n",
       "  0.15221901214886258,\n",
       "  0.15492072595814466,\n",
       "  0.1595894569896234,\n",
       "  0.15323611646834281,\n",
       "  0.15191513848181581,\n",
       "  0.15692364584034413,\n",
       "  0.151792384354505,\n",
       "  0.1522622301890979,\n",
       "  0.1581243142933171,\n",
       "  0.15683127525408788,\n",
       "  0.15259014863214884,\n",
       "  0.15351499330352855,\n",
       "  0.1517963696781351,\n",
       "  0.15309798203606526,\n",
       "  0.16790144695382156,\n",
       "  0.15187987268787856,\n",
       "  0.16189034546500844,\n",
       "  0.1657858205731921,\n",
       "  0.1583594982397811,\n",
       "  0.15427980350022513,\n",
       "  0.16939524751317137,\n",
       "  0.15183342359044671,\n",
       "  0.15790475352959155,\n",
       "  0.16312475063726486,\n",
       "  0.15591577286524652,\n",
       "  0.15189911511625132,\n",
       "  0.15428709387289988,\n",
       "  0.15243601803194934,\n",
       "  0.16322275543218204,\n",
       "  0.16952875816202653,\n",
       "  0.15181586163295718])"
      ]
     },
     "execution_count": 91,
     "metadata": {},
     "output_type": "execute_result"
    }
   ],
   "source": [
    "pfolio_returns = []\n",
    "pfolio_volatilities = []\n",
    "\n",
    "for x in range (1000):\n",
    "    weights = np.random.random(num_assets)\n",
    "    weights /= np.sum(weights)\n",
    "    pfolio_returns.append(np.sum(weights * log_returns.mean()) * 250)\n",
    "    pfolio_volatilities.append(np.sqrt(np.dot(weights.T, np.dot(log_returns.cov() * 250, weights))))\n",
    "    \n",
    "pfolio_returns, pfolio_volatilities"
   ]
  },
  {
   "cell_type": "code",
   "execution_count": 92,
   "id": "9f00db47",
   "metadata": {
    "scrolled": true
   },
   "outputs": [
    {
     "data": {
      "text/plain": [
       "(array([0.11124873, 0.1086029 , 0.1106846 , 0.10797892, 0.11032525,\n",
       "        0.10731532, 0.11197107, 0.1070019 , 0.11059712, 0.11076953,\n",
       "        0.110372  , 0.11057063, 0.1083721 , 0.10968514, 0.10795475,\n",
       "        0.10988947, 0.11020901, 0.10902404, 0.10903023, 0.10907396,\n",
       "        0.10866554, 0.10860537, 0.1123268 , 0.10897203, 0.11162318,\n",
       "        0.11063934, 0.10847805, 0.10766642, 0.10956028, 0.11006588,\n",
       "        0.11271309, 0.10993637, 0.1091019 , 0.10967615, 0.11115534,\n",
       "        0.11124534, 0.10898307, 0.10953141, 0.10973671, 0.10844517,\n",
       "        0.10970372, 0.10887221, 0.10963774, 0.11063132, 0.10850611,\n",
       "        0.11080956, 0.1115237 , 0.10668121, 0.10975351, 0.11150076,\n",
       "        0.10733303, 0.10707993, 0.11053438, 0.1116557 , 0.1090048 ,\n",
       "        0.11043233, 0.11172559, 0.10685822, 0.10946703, 0.11041029,\n",
       "        0.10700969, 0.10919226, 0.10983586, 0.10964705, 0.10914479,\n",
       "        0.10773932, 0.11152125, 0.10946742, 0.10744741, 0.11072967,\n",
       "        0.10819021, 0.10927942, 0.11123983, 0.10925817, 0.10911781,\n",
       "        0.10844896, 0.10963288, 0.11160351, 0.10953136, 0.11104164,\n",
       "        0.10895195, 0.10975878, 0.11121887, 0.10844707, 0.11034584,\n",
       "        0.11123218, 0.10759433, 0.1123608 , 0.10758158, 0.1097103 ,\n",
       "        0.11231975, 0.11088622, 0.10933903, 0.10989809, 0.10984854,\n",
       "        0.11147721, 0.11061355, 0.10784301, 0.10893431, 0.10715328,\n",
       "        0.11064503, 0.10928884, 0.11112981, 0.11123311, 0.10931914,\n",
       "        0.11197068, 0.11022152, 0.10957279, 0.10891445, 0.10947027,\n",
       "        0.10793465, 0.11025216, 0.11000054, 0.10974961, 0.11030863,\n",
       "        0.10847573, 0.11093481, 0.10633842, 0.10833868, 0.10868698,\n",
       "        0.11054016, 0.1111007 , 0.10668601, 0.10873136, 0.10666556,\n",
       "        0.11242529, 0.10924527, 0.10883957, 0.11096045, 0.10727688,\n",
       "        0.10964916, 0.11205641, 0.10717912, 0.10796124, 0.10929483,\n",
       "        0.11266552, 0.109103  , 0.1095521 , 0.10928527, 0.10706308,\n",
       "        0.1104203 , 0.10685718, 0.10910667, 0.1066244 , 0.11093588,\n",
       "        0.10784614, 0.10711507, 0.11236192, 0.10931626, 0.11085302,\n",
       "        0.11099361, 0.10742034, 0.11147168, 0.11093138, 0.10900954,\n",
       "        0.10954044, 0.11186647, 0.10948839, 0.10894663, 0.10702255,\n",
       "        0.10934541, 0.11029192, 0.10980519, 0.11244269, 0.10784392,\n",
       "        0.10919976, 0.10683413, 0.11028186, 0.11140149, 0.10716198,\n",
       "        0.1096359 , 0.11223646, 0.11200202, 0.10797086, 0.10922049,\n",
       "        0.11162001, 0.110197  , 0.11178731, 0.10977237, 0.11001293,\n",
       "        0.11038654, 0.11169751, 0.11244742, 0.10936731, 0.10734337,\n",
       "        0.10921447, 0.11135766, 0.10850335, 0.10862623, 0.11076488,\n",
       "        0.11092706, 0.11044713, 0.10654752, 0.10980033, 0.10730687,\n",
       "        0.10944217, 0.11236073, 0.11100637, 0.11044305, 0.10949389,\n",
       "        0.1065078 , 0.11111388, 0.11004836, 0.10711503, 0.10962227,\n",
       "        0.10951314, 0.11199294, 0.10755846, 0.1110723 , 0.11030278,\n",
       "        0.10898533, 0.10905261, 0.10724149, 0.1097981 , 0.10913077,\n",
       "        0.10674328, 0.11124163, 0.10963563, 0.10887889, 0.10770365,\n",
       "        0.1100748 , 0.11223251, 0.1103619 , 0.10779728, 0.11191992,\n",
       "        0.11210726, 0.10735094, 0.10799904, 0.11188507, 0.10833293,\n",
       "        0.10974228, 0.10947898, 0.10941399, 0.10664066, 0.10726288,\n",
       "        0.10997045, 0.10832413, 0.11170214, 0.10749733, 0.11059017,\n",
       "        0.11000906, 0.11255952, 0.10737376, 0.1115721 , 0.10867574,\n",
       "        0.1127023 , 0.10778951, 0.10784318, 0.10941151, 0.10927896,\n",
       "        0.10875308, 0.10959781, 0.11108628, 0.11159947, 0.10811037,\n",
       "        0.11241597, 0.11081263, 0.10901573, 0.10929034, 0.11072425,\n",
       "        0.11004222, 0.10960347, 0.11006668, 0.11046612, 0.10850079,\n",
       "        0.10678929, 0.1119082 , 0.10973567, 0.10738101, 0.10691335,\n",
       "        0.10873661, 0.11136455, 0.10647428, 0.10733005, 0.10879085,\n",
       "        0.10955346, 0.11133007, 0.10754791, 0.10775555, 0.11048037,\n",
       "        0.11211381, 0.11096403, 0.10871186, 0.10950658, 0.11191911,\n",
       "        0.10730974, 0.10815305, 0.11073674, 0.10711285, 0.11168538,\n",
       "        0.10939233, 0.11076995, 0.10998182, 0.11215604, 0.10950493,\n",
       "        0.11020091, 0.10964   , 0.1086994 , 0.10792982, 0.1073554 ,\n",
       "        0.11047056, 0.10905656, 0.10729124, 0.11014492, 0.10918209,\n",
       "        0.106949  , 0.11155599, 0.10920648, 0.11206432, 0.10996576,\n",
       "        0.10954444, 0.1123523 , 0.10971127, 0.10731354, 0.10960354,\n",
       "        0.10934692, 0.10825377, 0.10999335, 0.11135108, 0.10970258,\n",
       "        0.10943491, 0.10990189, 0.11234393, 0.11006299, 0.10895121,\n",
       "        0.11047407, 0.11162727, 0.10942555, 0.10981305, 0.11227419,\n",
       "        0.10917882, 0.1104224 , 0.11092086, 0.1103445 , 0.11240638,\n",
       "        0.11035349, 0.11001399, 0.10820916, 0.10995016, 0.1092499 ,\n",
       "        0.10937178, 0.11123424, 0.11117513, 0.1093617 , 0.10960188,\n",
       "        0.1101691 , 0.11073945, 0.10862629, 0.11105747, 0.1064913 ,\n",
       "        0.11021803, 0.11122897, 0.10629564, 0.10812906, 0.10935256,\n",
       "        0.10879008, 0.11201714, 0.10963003, 0.10661807, 0.11047959,\n",
       "        0.10856854, 0.10863834, 0.10868763, 0.11182901, 0.10868319,\n",
       "        0.11150166, 0.11113551, 0.10912988, 0.11149826, 0.10932361,\n",
       "        0.10994515, 0.10959912, 0.10704597, 0.10955735, 0.10850392,\n",
       "        0.10950106, 0.10652999, 0.11030905, 0.10990615, 0.10960715,\n",
       "        0.11216158, 0.10942226, 0.10880067, 0.10923009, 0.10939708,\n",
       "        0.11130713, 0.1077705 , 0.11057308, 0.10940042, 0.10851433,\n",
       "        0.10945372, 0.11101139, 0.10893363, 0.10685057, 0.10887609,\n",
       "        0.11162887, 0.11126242, 0.10763622, 0.10688815, 0.10997877,\n",
       "        0.10946433, 0.10972027, 0.11108139, 0.11264347, 0.11198033,\n",
       "        0.11137024, 0.10816122, 0.10822054, 0.10885072, 0.1100563 ,\n",
       "        0.1087356 , 0.11163867, 0.10793254, 0.1103623 , 0.10925382,\n",
       "        0.1067874 , 0.11053844, 0.11255791, 0.10985903, 0.10921994,\n",
       "        0.10928724, 0.11111858, 0.11086983, 0.11183461, 0.10956493,\n",
       "        0.11140838, 0.10711417, 0.1108223 , 0.10909532, 0.10722355,\n",
       "        0.11032416, 0.10635502, 0.10890777, 0.10996615, 0.11017561,\n",
       "        0.10826796, 0.10942632, 0.1098174 , 0.10978194, 0.11059222,\n",
       "        0.11051571, 0.10773325, 0.10823261, 0.11060176, 0.1088686 ,\n",
       "        0.11053808, 0.109867  , 0.10920554, 0.10982872, 0.10864202,\n",
       "        0.10775261, 0.10940341, 0.10917763, 0.11020404, 0.10740548,\n",
       "        0.10765742, 0.1067998 , 0.10938793, 0.11021911, 0.11255205,\n",
       "        0.11124373, 0.11011155, 0.10671733, 0.11072635, 0.10815419,\n",
       "        0.107132  , 0.10973693, 0.11111008, 0.10891592, 0.10967567,\n",
       "        0.11041158, 0.11034383, 0.10898272, 0.1088957 , 0.1109106 ,\n",
       "        0.1095668 , 0.11083791, 0.11027889, 0.10703082, 0.10969638,\n",
       "        0.10681506, 0.11234085, 0.10732753, 0.1087448 , 0.1069786 ,\n",
       "        0.10962718, 0.11203645, 0.10998089, 0.1121346 , 0.11009724,\n",
       "        0.10973089, 0.11030186, 0.11052046, 0.10986764, 0.106764  ,\n",
       "        0.1092893 , 0.10968416, 0.10900437, 0.10869966, 0.11102557,\n",
       "        0.10891446, 0.11008197, 0.11239108, 0.10723169, 0.1087311 ,\n",
       "        0.10954572, 0.10795976, 0.10988574, 0.11157774, 0.10726068,\n",
       "        0.11060917, 0.11073003, 0.11041436, 0.11246617, 0.10698835,\n",
       "        0.10968688, 0.10997514, 0.10926437, 0.10658493, 0.11096462,\n",
       "        0.11096125, 0.10953152, 0.10966501, 0.11261394, 0.10887968,\n",
       "        0.1096699 , 0.11115995, 0.10936324, 0.109889  , 0.11004068,\n",
       "        0.10903252, 0.10916687, 0.11039921, 0.10649613, 0.10883158,\n",
       "        0.11005602, 0.10814433, 0.11005215, 0.10949512, 0.10776102,\n",
       "        0.10707781, 0.10918443, 0.10802377, 0.10909899, 0.10844322,\n",
       "        0.11000115, 0.11020852, 0.11231989, 0.11119794, 0.11038505,\n",
       "        0.11159088, 0.10702167, 0.10882075, 0.10934332, 0.10729753,\n",
       "        0.10908697, 0.11219727, 0.10908523, 0.10941962, 0.10648581,\n",
       "        0.10738798, 0.10958096, 0.10776157, 0.10798609, 0.11055777,\n",
       "        0.10724103, 0.10943271, 0.10953493, 0.11069323, 0.10835137,\n",
       "        0.10967736, 0.11104278, 0.11197206, 0.10969371, 0.10781153,\n",
       "        0.10874289, 0.10936532, 0.11085016, 0.11016744, 0.11057429,\n",
       "        0.10849268, 0.10971166, 0.11008787, 0.11223226, 0.10980124,\n",
       "        0.10736298, 0.10787484, 0.10776443, 0.10990261, 0.11036   ,\n",
       "        0.11153684, 0.1087896 , 0.10776903, 0.11136458, 0.11113751,\n",
       "        0.10787235, 0.10637565, 0.1077986 , 0.10966793, 0.11014821,\n",
       "        0.10677185, 0.10833009, 0.10713505, 0.1074346 , 0.1101103 ,\n",
       "        0.10904424, 0.11006664, 0.11061542, 0.10631549, 0.10923358,\n",
       "        0.11007532, 0.10768679, 0.10996687, 0.10923526, 0.11218399,\n",
       "        0.10897982, 0.11051327, 0.11097734, 0.10944752, 0.10661197,\n",
       "        0.11245786, 0.11043038, 0.10943572, 0.11217083, 0.10876818,\n",
       "        0.11076412, 0.10873357, 0.11230728, 0.10876388, 0.11200263,\n",
       "        0.11006731, 0.10885314, 0.10919217, 0.11106017, 0.11103836,\n",
       "        0.10876489, 0.1089874 , 0.10993996, 0.10971552, 0.10793752,\n",
       "        0.11263834, 0.10692502, 0.10895627, 0.1083465 , 0.10923294,\n",
       "        0.10798408, 0.11039514, 0.10750365, 0.10681548, 0.11179314,\n",
       "        0.11091008, 0.11164273, 0.10980698, 0.1063172 , 0.11147362,\n",
       "        0.11225649, 0.11059359, 0.10797593, 0.11036644, 0.10916084,\n",
       "        0.10715018, 0.11005698, 0.11144004, 0.11106165, 0.10988235,\n",
       "        0.11126187, 0.1093679 , 0.10816001, 0.10829894, 0.10872373,\n",
       "        0.10948465, 0.11085282, 0.10816322, 0.10944772, 0.10804746,\n",
       "        0.10965806, 0.10775477, 0.11137949, 0.11183092, 0.10835649,\n",
       "        0.10838925, 0.1078087 , 0.10657505, 0.1082193 , 0.10954379,\n",
       "        0.11175712, 0.10903185, 0.10935677, 0.11046074, 0.11045588,\n",
       "        0.10780569, 0.10638705, 0.11126141, 0.1090837 , 0.11053483,\n",
       "        0.1104925 , 0.10846891, 0.10942285, 0.11007261, 0.10896575,\n",
       "        0.1095709 , 0.10890817, 0.10863341, 0.10811657, 0.11217451,\n",
       "        0.11051564, 0.10804104, 0.10759311, 0.11118146, 0.11137483,\n",
       "        0.10887457, 0.1107761 , 0.10865233, 0.10960822, 0.10995656,\n",
       "        0.1097992 , 0.10971521, 0.10964602, 0.10953459, 0.10981718,\n",
       "        0.11092116, 0.10766049, 0.11005656, 0.10971559, 0.11049417,\n",
       "        0.11240238, 0.10964741, 0.10716595, 0.10689298, 0.11038516,\n",
       "        0.10911342, 0.10884474, 0.1079585 , 0.10825397, 0.11057296,\n",
       "        0.1068744 , 0.11146877, 0.11121165, 0.10859739, 0.11026502,\n",
       "        0.11018397, 0.1105191 , 0.10815178, 0.10805451, 0.11112286,\n",
       "        0.10922382, 0.1095875 , 0.10908182, 0.11091097, 0.10962717,\n",
       "        0.11119174, 0.11148402, 0.10958279, 0.10946226, 0.10927592,\n",
       "        0.11202713, 0.11242251, 0.10854471, 0.10789463, 0.11110489,\n",
       "        0.1064276 , 0.10947175, 0.10980274, 0.11257238, 0.11187032,\n",
       "        0.1088401 , 0.10686809, 0.11039702, 0.10787548, 0.10987625,\n",
       "        0.10916449, 0.11045575, 0.10775424, 0.1085358 , 0.10786223,\n",
       "        0.1093424 , 0.1101602 , 0.11059966, 0.10772954, 0.10934238,\n",
       "        0.11162608, 0.11015899, 0.10766635, 0.1118509 , 0.10957851,\n",
       "        0.1097698 , 0.11057754, 0.10950552, 0.11016027, 0.10851998,\n",
       "        0.10680397, 0.1097404 , 0.10689233, 0.10910463, 0.11087001,\n",
       "        0.10977985, 0.10938493, 0.1097201 , 0.10890439, 0.10862069,\n",
       "        0.10963433, 0.10668783, 0.10713499, 0.10892628, 0.10710152,\n",
       "        0.10823951, 0.10744234, 0.10935758, 0.11081027, 0.10763848,\n",
       "        0.10803068, 0.11238859, 0.10666023, 0.10803117, 0.10790883,\n",
       "        0.11123526, 0.11163084, 0.10879214, 0.10907689, 0.1095415 ,\n",
       "        0.11009485, 0.11122751, 0.10798161, 0.10893174, 0.1071901 ,\n",
       "        0.1096048 , 0.10992375, 0.11219788, 0.11031295, 0.11018517,\n",
       "        0.11208006, 0.10884045, 0.10931018, 0.10788288, 0.10867758,\n",
       "        0.10721651, 0.1108614 , 0.11073831, 0.11153888, 0.11215993,\n",
       "        0.11027728, 0.1086066 , 0.11178887, 0.10910286, 0.10993113,\n",
       "        0.10946696, 0.10818816, 0.10976137, 0.11094002, 0.10864781,\n",
       "        0.11046397, 0.11091457, 0.11003969, 0.10962871, 0.10707759,\n",
       "        0.11248157, 0.1107019 , 0.10853142, 0.1096585 , 0.1107348 ,\n",
       "        0.11157886, 0.11108416, 0.10994545, 0.11167848, 0.10991731,\n",
       "        0.10920992, 0.1095175 , 0.10968151, 0.10995924, 0.10838132,\n",
       "        0.11037321, 0.10852805, 0.10776205, 0.10901834, 0.11004915,\n",
       "        0.10906404, 0.10944782, 0.11160163, 0.10729939, 0.11174106,\n",
       "        0.10797105, 0.10976545, 0.10692641, 0.11015661, 0.11073954,\n",
       "        0.10695267, 0.10773275, 0.11071138, 0.10973983, 0.11087361,\n",
       "        0.10978279, 0.10696022, 0.10631902, 0.10817654, 0.11076752,\n",
       "        0.10795082, 0.10877257, 0.10680957, 0.10978695, 0.10939941,\n",
       "        0.10934945, 0.109657  , 0.11019921, 0.10834999, 0.11001412,\n",
       "        0.10823679, 0.10693675, 0.10885959, 0.10975759, 0.10764658,\n",
       "        0.11069092, 0.10827071, 0.10825873, 0.1086871 , 0.10652711,\n",
       "        0.10815177, 0.10881772, 0.1094533 , 0.11059171, 0.1096132 ,\n",
       "        0.10923024, 0.11031891, 0.11038674, 0.11008188, 0.10793097,\n",
       "        0.10905508, 0.11220681, 0.1112174 , 0.10927344, 0.10939199,\n",
       "        0.10927922, 0.1121483 , 0.10673173, 0.10930766, 0.10886036,\n",
       "        0.10852546, 0.11032024, 0.10985933, 0.11090344, 0.11110906,\n",
       "        0.110479  , 0.10921574, 0.11107429, 0.11266495, 0.10652564,\n",
       "        0.10914385, 0.10659655, 0.10975848, 0.11056473, 0.1092873 ,\n",
       "        0.11014835, 0.11049357, 0.11165652, 0.11011544, 0.10947378,\n",
       "        0.11074856, 0.10718904, 0.11218128, 0.10798383, 0.11244691,\n",
       "        0.10828119, 0.11077958, 0.10894707, 0.10842167, 0.10843463,\n",
       "        0.11010207, 0.10906349, 0.11025513, 0.10911523, 0.10645384,\n",
       "        0.10975382, 0.11013513, 0.10932996, 0.10901827, 0.10811453,\n",
       "        0.11002157, 0.10933061, 0.11199143, 0.10965951, 0.11212301,\n",
       "        0.11046058, 0.11052941, 0.106332  , 0.11128672, 0.10874016,\n",
       "        0.11009073, 0.11229981, 0.10831394, 0.11183234, 0.11073238,\n",
       "        0.10646686, 0.10963944, 0.11251506, 0.10921792, 0.11262651,\n",
       "        0.10962679, 0.11083491, 0.10992557, 0.10912993, 0.10740112]),\n",
       " array([0.1554647 , 0.15513656, 0.15305145, 0.15905683, 0.15216681,\n",
       "        0.1647267 , 0.16029521, 0.16790003, 0.15278868, 0.15333554,\n",
       "        0.15225266, 0.15271511, 0.1564196 , 0.15187999, 0.15923704,\n",
       "        0.15179119, 0.15199152, 0.15331967, 0.15329812, 0.15315013,\n",
       "        0.15482301, 0.1551239 , 0.16334541, 0.15350675, 0.15773323,\n",
       "        0.1529117 , 0.15580581, 0.16154272, 0.15201746, 0.15185066,\n",
       "        0.1671231 , 0.15179469, 0.15305955, 0.15188778, 0.1549805 ,\n",
       "        0.15544655, 0.15346615, 0.15205821, 0.15184162, 0.15599179,\n",
       "        0.15186492, 0.15389541, 0.15192476, 0.15288781, 0.15565026,\n",
       "        0.1534793 , 0.15708019, 0.17145154, 0.15183144, 0.15693472,\n",
       "        0.16455658, 0.16708188, 0.15261893, 0.15795447, 0.15338761,\n",
       "        0.15237641, 0.15844289, 0.1694542 , 0.15216119, 0.15232951,\n",
       "        0.16781759, 0.15278772, 0.15179811, 0.15191524, 0.15292649,\n",
       "        0.16093289, 0.15706452, 0.15216051, 0.16348168, 0.15319867,\n",
       "        0.15757007, 0.15255627, 0.15541713, 0.1526099 , 0.15300934,\n",
       "        0.15597012, 0.15192986, 0.15760123, 0.15205828, 0.1544359 ,\n",
       "        0.1535818 , 0.15182849, 0.1553063 , 0.15598093, 0.15220354,\n",
       "        0.15537647, 0.16216344, 0.1636589 , 0.16227504, 0.15185993,\n",
       "        0.16328093, 0.1537721 , 0.15241544, 0.15179116, 0.15179542,\n",
       "        0.15678735, 0.15283571, 0.1600966 , 0.15364902, 0.16632954,\n",
       "        0.15292885, 0.15253307, 0.15485392, 0.1553814 , 0.15246085,\n",
       "        0.16029203, 0.15200777, 0.15200084, 0.15372618, 0.15215561,\n",
       "        0.15938844, 0.15205024, 0.15181392, 0.1518337 , 0.15213842,\n",
       "        0.15581877, 0.15396957, 0.1755672 , 0.15662188, 0.15471913,\n",
       "        0.15263391, 0.15471264, 0.17139619, 0.15450972, 0.17163235,\n",
       "        0.16426376, 0.15264333, 0.15403093, 0.15407748, 0.16509952,\n",
       "        0.15191314, 0.1609881 , 0.16606846, 0.15918842, 0.1525185 ,\n",
       "        0.1666328 , 0.15305604, 0.15202866, 0.15254182, 0.16725696,\n",
       "        0.15235058, 0.16946576, 0.15304438, 0.17211134, 0.15397403,\n",
       "        0.1600719 , 0.16671936, 0.16366933, 0.15246755, 0.15364246,\n",
       "        0.1542208 , 0.16373229, 0.15675305, 0.15395532, 0.15337076,\n",
       "        0.1520451 , 0.15948009, 0.15212516, 0.15360195, 0.16768171,\n",
       "        0.15240122, 0.15211099, 0.15180732, 0.16442929, 0.16008944,\n",
       "        0.15276661, 0.16972073, 0.15209501, 0.1563275 , 0.16624139,\n",
       "        0.15192667, 0.16253083, 0.16054361, 0.15911666, 0.15270945,\n",
       "        0.15771185, 0.15197652, 0.15888868, 0.15182138, 0.15181956,\n",
       "        0.15228114, 0.15824455, 0.16447435, 0.15235362, 0.16445764,\n",
       "        0.15272585, 0.15607102, 0.15566541, 0.155018  , 0.15331926,\n",
       "        0.15393747, 0.152409  , 0.17301856, 0.15180912, 0.16480828,\n",
       "        0.15220542, 0.16365827, 0.15427706, 0.15239993, 0.15211619,\n",
       "        0.17349359, 0.1547762 , 0.15183911, 0.16671983, 0.15194133,\n",
       "        0.15208573, 0.16047038, 0.16247874, 0.15457788, 0.15212868,\n",
       "        0.15345789, 0.15322143, 0.16544688, 0.15180998, 0.15296918,\n",
       "        0.17074096, 0.15542673, 0.15192696, 0.15386821, 0.16122904,\n",
       "        0.15185702, 0.16249585, 0.15223337, 0.16046087, 0.15989189,\n",
       "        0.1614128 , 0.1643855 , 0.15890839, 0.15962228, 0.15665707,\n",
       "        0.15183812, 0.15214081, 0.15225855, 0.17192154, 0.16523641,\n",
       "        0.15180283, 0.15671121, 0.15827705, 0.16302581, 0.1527691 ,\n",
       "        0.15181773, 0.16556525, 0.16416898, 0.15739343, 0.15477339,\n",
       "        0.1670113 , 0.16052348, 0.16009526, 0.15226339, 0.15255741,\n",
       "        0.15441002, 0.15196951, 0.15464382, 0.15757432, 0.15811306,\n",
       "        0.16417555, 0.15349056, 0.15334884, 0.1525294 , 0.15318054,\n",
       "        0.15183536, 0.15196278, 0.15185122, 0.15245211, 0.1556795 ,\n",
       "        0.17022131, 0.15980071, 0.15184229, 0.16410052, 0.16885072,\n",
       "        0.15448548, 0.15611088, 0.17389784, 0.16458512, 0.15424091,\n",
       "        0.15202678, 0.15591324, 0.16257231, 0.16079958, 0.1524854 ,\n",
       "        0.16146814, 0.15409272, 0.15460081, 0.15209595, 0.15988558,\n",
       "        0.1647806 , 0.1578199 , 0.1532225 , 0.16674212, 0.15815973,\n",
       "        0.15230158, 0.15333701, 0.15180659, 0.16182835, 0.15209854,\n",
       "        0.15198134, 0.15192242, 0.1546598 , 0.15942503, 0.16434301,\n",
       "        0.15246239, 0.1532081 , 0.16495971, 0.1519182 , 0.1528167 ,\n",
       "        0.16846515, 0.15728819, 0.15274789, 0.1610536 , 0.15180143,\n",
       "        0.1520394 , 0.1635802 , 0.1518592 , 0.16474385, 0.15196269,\n",
       "        0.15239788, 0.15715428, 0.15181094, 0.15603313, 0.15186581,\n",
       "        0.15221881, 0.15179125, 0.16350293, 0.15184867, 0.15358459,\n",
       "        0.15247058, 0.15776086, 0.15223638, 0.15180459, 0.16286778,\n",
       "        0.15282609, 0.15235503, 0.15391191, 0.1522011 , 0.16408504,\n",
       "        0.15221762, 0.15182007, 0.15744452, 0.15179741, 0.15263127,\n",
       "        0.15234412, 0.1553874 , 0.15508034, 0.15236562, 0.15196466,\n",
       "        0.15194392, 0.15323168, 0.15501773, 0.15450875, 0.17369225,\n",
       "        0.15200318, 0.15535947, 0.17610283, 0.15798391, 0.15238545,\n",
       "        0.15424431, 0.16066612, 0.1519329 , 0.17218535, 0.15248355,\n",
       "        0.15531487, 0.15495731, 0.15471601, 0.15919749, 0.15473736,\n",
       "        0.15694033, 0.15488198, 0.15297189, 0.15691896, 0.15245052,\n",
       "        0.15179634, 0.15196794, 0.16743565, 0.15202144, 0.1556623 ,\n",
       "        0.15210467, 0.17322771, 0.15213911, 0.15179141, 0.15195847,\n",
       "        0.16187608, 0.15224264, 0.15419783, 0.15268354, 0.15229197,\n",
       "        0.15578422, 0.16067752, 0.1527218 , 0.1522853 , 0.15560525,\n",
       "        0.15218455, 0.15429937, 0.15365164, 0.1695387 , 0.15387959,\n",
       "        0.15777165, 0.15553845, 0.16180066, 0.16912551, 0.15180553,\n",
       "        0.15216587, 0.15185268, 0.15462066, 0.16640787, 0.16036915,\n",
       "        0.15614389, 0.15776454, 0.1573698 , 0.15398416, 0.15184419,\n",
       "        0.1544901 , 0.15783813, 0.15940437, 0.15223412, 0.15262111,\n",
       "        0.17024259, 0.15262945, 0.16554927, 0.15179369, 0.15271092,\n",
       "        0.15253697, 0.15479903, 0.15370754, 0.15923944, 0.15201121,\n",
       "        0.15636845, 0.16672865, 0.15352636, 0.15308059, 0.16562443,\n",
       "        0.15216491, 0.17536057, 0.15375248, 0.15180154, 0.15195124,\n",
       "        0.15706346, 0.15223491, 0.15180319, 0.15181683, 0.15277485,\n",
       "        0.15257146, 0.16098295, 0.15729104, 0.15280187, 0.1539102 ,\n",
       "        0.15262851, 0.15179267, 0.15275048, 0.15179992, 0.15493896,\n",
       "        0.16082366, 0.15227934, 0.15282952, 0.15198525, 0.16387079,\n",
       "        0.16161928, 0.17010351, 0.15231054, 0.15200459, 0.16549129,\n",
       "        0.15543793, 0.1518866 , 0.17103665, 0.15318755, 0.15781216,\n",
       "        0.1665461 , 0.15184147, 0.15475782, 0.15372044, 0.15188821,\n",
       "        0.15233219, 0.15219989, 0.15346741, 0.15380045, 0.15387002,\n",
       "        0.15200872, 0.1535849 , 0.15209037, 0.16759469, 0.15187071,\n",
       "        0.16993295, 0.16347454, 0.16460927, 0.15444779, 0.16814797,\n",
       "        0.15193597, 0.16082382, 0.15180626, 0.16164469, 0.15187443,\n",
       "        0.15184541, 0.15212716, 0.15258341, 0.1517926 , 0.17050622,\n",
       "        0.15253195, 0.15188082, 0.15338915, 0.15465855, 0.15436297,\n",
       "        0.15372614, 0.15186236, 0.1639412 , 0.1655437 , 0.15451093,\n",
       "        0.15203759, 0.15919949, 0.15179129, 0.15743048, 0.16525801,\n",
       "        0.15282306, 0.15319988, 0.15233803, 0.16465412, 0.16804398,\n",
       "        0.15187852, 0.15180431, 0.15259407, 0.172575  , 0.15409526,\n",
       "        0.15408088, 0.15205805, 0.15189789, 0.16610892, 0.15386498,\n",
       "        0.1518934 , 0.15500364, 0.15236231, 0.1517912 , 0.15183444,\n",
       "        0.15329017, 0.15286081, 0.15230666, 0.17363402, 0.15406475,\n",
       "        0.15184401, 0.15787925, 0.15184151, 0.1521142 , 0.16075481,\n",
       "        0.16710379, 0.15280999, 0.15872792, 0.15306882, 0.15600292,\n",
       "        0.15181419, 0.1519909 , 0.16328219, 0.15519726, 0.15227818,\n",
       "        0.15751724, 0.16769099, 0.15411097, 0.15240585, 0.16489868,\n",
       "        0.15310756, 0.16218583, 0.1531132 , 0.15224768, 0.17375845,\n",
       "        0.16403488, 0.15199034, 0.16075032, 0.15900375, 0.15268038,\n",
       "        0.16545141, 0.15222291, 0.15205306, 0.15307904, 0.15654457,\n",
       "        0.15188671, 0.15444111, 0.16030303, 0.15187287, 0.16034659,\n",
       "        0.15445656, 0.15235786, 0.15363151, 0.15194208, 0.15272511,\n",
       "        0.15572433, 0.15185892, 0.15186691, 0.16249359, 0.15180877,\n",
       "        0.16427105, 0.15984731, 0.16072694, 0.15179127, 0.15222979,\n",
       "        0.15716437, 0.15424641, 0.16068946, 0.15611103, 0.15489186,\n",
       "        0.15986672, 0.1751049 , 0.16045028, 0.1518952 , 0.15192157,\n",
       "        0.17041758, 0.15667449, 0.16651501, 0.16359993, 0.15188551,\n",
       "        0.15324988, 0.15185119, 0.15284113, 0.17585374, 0.15267422,\n",
       "        0.1518574 , 0.16137054, 0.15180175, 0.15266973, 0.16207008,\n",
       "        0.15347804, 0.15256536, 0.15414992, 0.15219569, 0.17225688,\n",
       "        0.16457427, 0.15237218, 0.1522173 , 0.16195596, 0.15434175,\n",
       "        0.15331658, 0.1544995 , 0.16316716, 0.15436111, 0.16054854,\n",
       "        0.15185165, 0.15397411, 0.15278796, 0.15452129, 0.15442093,\n",
       "        0.15435653, 0.15345034, 0.15179532, 0.15185608, 0.15936671,\n",
       "        0.16635579, 0.16872409, 0.15356552, 0.15657417, 0.15267593,\n",
       "        0.15901858, 0.1522984 , 0.16296873, 0.16992823, 0.15893145,\n",
       "        0.15386793, 0.15786581, 0.15180667, 0.17583229, 0.15676505,\n",
       "        0.16270914, 0.1527787 , 0.159079  , 0.15224198, 0.15287855,\n",
       "        0.16636104, 0.15184464, 0.156559  , 0.15452818, 0.15179144,\n",
       "        0.15553548, 0.15235235, 0.15777276, 0.15686775, 0.15454521,\n",
       "        0.15213134, 0.15364168, 0.15775107, 0.15219533, 0.15855705,\n",
       "        0.15190445, 0.1608059 , 0.15619783, 0.15921181, 0.15651354,\n",
       "        0.15631738, 0.16036923, 0.17269177, 0.15737792, 0.15204033,\n",
       "        0.15866893, 0.15329251, 0.15237627, 0.15243974, 0.15242867,\n",
       "        0.1603933 , 0.17496397, 0.15553297, 0.15311821, 0.15262011,\n",
       "        0.15251438, 0.15585706, 0.15224151, 0.15185542, 0.15353004,\n",
       "        0.15200331, 0.15375092, 0.15498194, 0.15807004, 0.16198777,\n",
       "        0.15257129, 0.15860318, 0.16217407, 0.15511259, 0.15617061,\n",
       "        0.15388577, 0.15335871, 0.1548879 , 0.15195723, 0.15179894,\n",
       "        0.15180956, 0.15185631, 0.15191628, 0.15205356, 0.15180326,\n",
       "        0.15391314, 0.16159319, 0.15184436, 0.15185603, 0.1525184 ,\n",
       "        0.16404733, 0.15191488, 0.16620128, 0.16907271, 0.15227841,\n",
       "        0.15302309, 0.15400921, 0.15920894, 0.15715299, 0.15272145,\n",
       "        0.16927622, 0.15673507, 0.15526848, 0.1551648 , 0.15206919,\n",
       "        0.1519609 , 0.15257998, 0.15782855, 0.15850661, 0.1548199 ,\n",
       "        0.1527004 , 0.15198212, 0.15312433, 0.15387153, 0.15193598,\n",
       "        0.1551653 , 0.15682973, 0.15198803, 0.15216948, 0.15256498,\n",
       "        0.16074754, 0.16423738, 0.15544113, 0.15969406, 0.15473277,\n",
       "        0.17446592, 0.15215306, 0.15180821, 0.16569292, 0.15950941,\n",
       "        0.1540287 , 0.1693455 , 0.15230222, 0.15984231, 0.15179181,\n",
       "        0.15286781, 0.1524284 , 0.1608103 , 0.15548888, 0.15994564,\n",
       "        0.1524079 , 0.15193418, 0.15279588, 0.1610136 , 0.15240795,\n",
       "        0.15775283, 0.15193288, 0.16154333, 0.15936202, 0.15199346,\n",
       "        0.15182267, 0.15273402, 0.15209762, 0.15193425, 0.15557444,\n",
       "        0.17005685, 0.15183929, 0.16907977, 0.15305085, 0.15370825,\n",
       "        0.15181779, 0.1523167 , 0.1518528 , 0.15376587, 0.15504599,\n",
       "        0.15192832, 0.17137514, 0.16651563, 0.15368005, 0.16685869,\n",
       "        0.15724629, 0.16352842, 0.15237452, 0.1534819 , 0.16178127,\n",
       "        0.15867785, 0.16391795, 0.17169408, 0.1586743 , 0.15958502,\n",
       "        0.15539283, 0.15778501, 0.15423523, 0.15314049, 0.15204359,\n",
       "        0.15187248, 0.1553518 , 0.15903692, 0.15365894, 0.16595818,\n",
       "        0.15196121, 0.15179287, 0.16219113, 0.15214569, 0.15196231,\n",
       "        0.16118455, 0.15402724, 0.15248182, 0.15978493, 0.15476446,\n",
       "        0.16569433, 0.15367476, 0.15322782, 0.15717748, 0.16186181,\n",
       "        0.15208788, 0.15511762, 0.15890012, 0.15305649, 0.15179385,\n",
       "        0.1521613 , 0.15758368, 0.15182708, 0.15399129, 0.15491025,\n",
       "        0.15244714, 0.15388618, 0.15183386, 0.15193431, 0.16710612,\n",
       "        0.16480245, 0.15310702, 0.15551249, 0.15190403, 0.15321595,\n",
       "        0.15743784, 0.15463377, 0.1517964 , 0.15811176, 0.15179219,\n",
       "        0.15273838, 0.15207904, 0.15188309, 0.15179963, 0.1563645 ,\n",
       "        0.15225499, 0.15553068, 0.16074641, 0.15333963, 0.15183961,\n",
       "        0.15318304, 0.15219514, 0.15758873, 0.16488065, 0.15855335,\n",
       "        0.15911529, 0.15182491, 0.16870903, 0.15193034, 0.15323197,\n",
       "        0.1684257 , 0.16098707, 0.15313797, 0.15183964, 0.15372236,\n",
       "        0.15181644, 0.16834465, 0.17580956, 0.15766141, 0.15332849,\n",
       "        0.15926649, 0.15432205, 0.16999415, 0.15181459, 0.1522873 ,\n",
       "        0.15239228, 0.15190547, 0.15197924, 0.15655292, 0.15182014,\n",
       "        0.15726391, 0.16859726, 0.15394733, 0.15182915, 0.1617118 ,\n",
       "        0.15307164, 0.15704595, 0.15712243, 0.15471857, 0.17326212,\n",
       "        0.1578286 , 0.15412396, 0.1521853 , 0.15277342, 0.1519515 ,\n",
       "        0.15268315, 0.15215585, 0.15228154, 0.15186229, 0.15941626,\n",
       "        0.1532131 , 0.16226937, 0.15529861, 0.15257118, 0.15230226,\n",
       "        0.15255676, 0.16176185, 0.17087233, 0.15248778, 0.15394414,\n",
       "        0.15554471, 0.15215814, 0.15179365, 0.15384103, 0.15475285,\n",
       "        0.15248216, 0.15272239, 0.15458722, 0.16662698, 0.17327975,\n",
       "        0.15292932, 0.1724381 , 0.15182866, 0.15269909, 0.15253682,\n",
       "        0.1519217 , 0.15251696, 0.15796013, 0.15189006, 0.15214961,\n",
       "        0.15326276, 0.16596882, 0.16204654, 0.15902046, 0.16446956,\n",
       "        0.1569794 , 0.15337104, 0.15360025, 0.15612718, 0.15605227,\n",
       "        0.15187845, 0.15318489, 0.15205455, 0.1530174 , 0.17414582,\n",
       "        0.15183127, 0.15190846, 0.15243596, 0.15333991, 0.15808424,\n",
       "        0.15182386, 0.15243448, 0.16045819, 0.15190307, 0.16154611,\n",
       "        0.15243937, 0.15260617, 0.17564722, 0.15567109, 0.15446909,\n",
       "        0.15186917, 0.16309926, 0.15677427, 0.15922241, 0.15320777,\n",
       "        0.1739878 , 0.15192299, 0.16512782, 0.15271644, 0.16623586,\n",
       "        0.15193639, 0.15357357, 0.15179309, 0.15297174, 0.16391161]))"
      ]
     },
     "execution_count": 92,
     "metadata": {},
     "output_type": "execute_result"
    }
   ],
   "source": [
    "pfolio_returns = []\n",
    "pfolio_volatilities = []\n",
    "\n",
    "for x in range (1000):\n",
    "    weights = np.random.random(num_assets)\n",
    "    weights /= np.sum(weights)\n",
    "    pfolio_returns.append(np.sum(weights * log_returns.mean()) * 250)\n",
    "    pfolio_volatilities.append(np.sqrt(np.dot(weights.T, np.dot(log_returns.cov() * 250, weights))))\n",
    "\n",
    "pfolio_returns = np.array(pfolio_returns)\n",
    "pfolio_volatilities = np.array(pfolio_volatilities)\n",
    "    \n",
    "pfolio_returns, pfolio_volatilities"
   ]
  },
  {
   "cell_type": "code",
   "execution_count": 93,
   "id": "861ee27f",
   "metadata": {},
   "outputs": [],
   "source": [
    "portfolios = pd.DataFrame({'Return': pfolio_returns, 'Volatility': pfolio_volatilities})"
   ]
  },
  {
   "cell_type": "code",
   "execution_count": 94,
   "id": "e8d3b805",
   "metadata": {},
   "outputs": [
    {
     "data": {
      "text/html": [
       "<div>\n",
       "<style scoped>\n",
       "    .dataframe tbody tr th:only-of-type {\n",
       "        vertical-align: middle;\n",
       "    }\n",
       "\n",
       "    .dataframe tbody tr th {\n",
       "        vertical-align: top;\n",
       "    }\n",
       "\n",
       "    .dataframe thead th {\n",
       "        text-align: right;\n",
       "    }\n",
       "</style>\n",
       "<table border=\"1\" class=\"dataframe\">\n",
       "  <thead>\n",
       "    <tr style=\"text-align: right;\">\n",
       "      <th></th>\n",
       "      <th>Return</th>\n",
       "      <th>Volatility</th>\n",
       "    </tr>\n",
       "  </thead>\n",
       "  <tbody>\n",
       "    <tr>\n",
       "      <th>0</th>\n",
       "      <td>0.111249</td>\n",
       "      <td>0.155465</td>\n",
       "    </tr>\n",
       "    <tr>\n",
       "      <th>1</th>\n",
       "      <td>0.108603</td>\n",
       "      <td>0.155137</td>\n",
       "    </tr>\n",
       "    <tr>\n",
       "      <th>2</th>\n",
       "      <td>0.110685</td>\n",
       "      <td>0.153051</td>\n",
       "    </tr>\n",
       "    <tr>\n",
       "      <th>3</th>\n",
       "      <td>0.107979</td>\n",
       "      <td>0.159057</td>\n",
       "    </tr>\n",
       "    <tr>\n",
       "      <th>4</th>\n",
       "      <td>0.110325</td>\n",
       "      <td>0.152167</td>\n",
       "    </tr>\n",
       "  </tbody>\n",
       "</table>\n",
       "</div>"
      ],
      "text/plain": [
       "     Return  Volatility\n",
       "0  0.111249    0.155465\n",
       "1  0.108603    0.155137\n",
       "2  0.110685    0.153051\n",
       "3  0.107979    0.159057\n",
       "4  0.110325    0.152167"
      ]
     },
     "execution_count": 94,
     "metadata": {},
     "output_type": "execute_result"
    }
   ],
   "source": [
    "portfolios.head()"
   ]
  },
  {
   "cell_type": "code",
   "execution_count": 95,
   "id": "308aca5d",
   "metadata": {},
   "outputs": [
    {
     "data": {
      "text/html": [
       "<div>\n",
       "<style scoped>\n",
       "    .dataframe tbody tr th:only-of-type {\n",
       "        vertical-align: middle;\n",
       "    }\n",
       "\n",
       "    .dataframe tbody tr th {\n",
       "        vertical-align: top;\n",
       "    }\n",
       "\n",
       "    .dataframe thead th {\n",
       "        text-align: right;\n",
       "    }\n",
       "</style>\n",
       "<table border=\"1\" class=\"dataframe\">\n",
       "  <thead>\n",
       "    <tr style=\"text-align: right;\">\n",
       "      <th></th>\n",
       "      <th>Return</th>\n",
       "      <th>Volatility</th>\n",
       "    </tr>\n",
       "  </thead>\n",
       "  <tbody>\n",
       "    <tr>\n",
       "      <th>995</th>\n",
       "      <td>0.109627</td>\n",
       "      <td>0.151936</td>\n",
       "    </tr>\n",
       "    <tr>\n",
       "      <th>996</th>\n",
       "      <td>0.110835</td>\n",
       "      <td>0.153574</td>\n",
       "    </tr>\n",
       "    <tr>\n",
       "      <th>997</th>\n",
       "      <td>0.109926</td>\n",
       "      <td>0.151793</td>\n",
       "    </tr>\n",
       "    <tr>\n",
       "      <th>998</th>\n",
       "      <td>0.109130</td>\n",
       "      <td>0.152972</td>\n",
       "    </tr>\n",
       "    <tr>\n",
       "      <th>999</th>\n",
       "      <td>0.107401</td>\n",
       "      <td>0.163912</td>\n",
       "    </tr>\n",
       "  </tbody>\n",
       "</table>\n",
       "</div>"
      ],
      "text/plain": [
       "       Return  Volatility\n",
       "995  0.109627    0.151936\n",
       "996  0.110835    0.153574\n",
       "997  0.109926    0.151793\n",
       "998  0.109130    0.152972\n",
       "999  0.107401    0.163912"
      ]
     },
     "execution_count": 95,
     "metadata": {},
     "output_type": "execute_result"
    }
   ],
   "source": [
    "portfolios.tail()"
   ]
  },
  {
   "cell_type": "code",
   "execution_count": 96,
   "id": "5f387fc3",
   "metadata": {},
   "outputs": [
    {
     "data": {
      "image/png": "[encoded data removed]",
      "text/plain": [
       "<Figure size 720x432 with 1 Axes>"
      ]
     },
     "metadata": {
      "needs_background": "light"
     },
     "output_type": "display_data"
    }
   ],
   "source": [
    "portfolios.plot(x = 'Volatility', y = 'Return', kind = 'scatter', figsize = (10,6));\n",
    "plt.xlabel('Expected Volatility')\n",
    "plt.ylabel('Expected Returns')\n",
    "plt.show()"
   ]
  },
  {
   "cell_type": "markdown",
   "id": "4cbcd26c",
   "metadata": {},
   "source": [
    "---"
   ]
  },
  {
   "cell_type": "code",
   "execution_count": 97,
   "id": "89475c1c",
   "metadata": {},
   "outputs": [],
   "source": [
    "tickers = ['PG', '^GSPC']\n",
    "data = pd.DataFrame()\n",
    "for t in tickers:\n",
    "    data[t] = wb.DataReader(t, data_source = 'yahoo', start = '2017-1-1', end = '2022-1-1')['Adj Close']"
   ]
  },
  {
   "cell_type": "code",
   "execution_count": 98,
   "id": "db491285",
   "metadata": {},
   "outputs": [],
   "source": [
    "sec_returns = np.log(data/data.shift(1))"
   ]
  },
  {
   "cell_type": "code",
   "execution_count": 99,
   "id": "42875411",
   "metadata": {},
   "outputs": [
    {
     "data": {
      "text/html": [
       "<div>\n",
       "<style scoped>\n",
       "    .dataframe tbody tr th:only-of-type {\n",
       "        vertical-align: middle;\n",
       "    }\n",
       "\n",
       "    .dataframe tbody tr th {\n",
       "        vertical-align: top;\n",
       "    }\n",
       "\n",
       "    .dataframe thead th {\n",
       "        text-align: right;\n",
       "    }\n",
       "</style>\n",
       "<table border=\"1\" class=\"dataframe\">\n",
       "  <thead>\n",
       "    <tr style=\"text-align: right;\">\n",
       "      <th></th>\n",
       "      <th>PG</th>\n",
       "      <th>^GSPC</th>\n",
       "    </tr>\n",
       "  </thead>\n",
       "  <tbody>\n",
       "    <tr>\n",
       "      <th>PG</th>\n",
       "      <td>0.039989</td>\n",
       "      <td>0.022531</td>\n",
       "    </tr>\n",
       "    <tr>\n",
       "      <th>^GSPC</th>\n",
       "      <td>0.022531</td>\n",
       "      <td>0.037113</td>\n",
       "    </tr>\n",
       "  </tbody>\n",
       "</table>\n",
       "</div>"
      ],
      "text/plain": [
       "             PG     ^GSPC\n",
       "PG     0.039989  0.022531\n",
       "^GSPC  0.022531  0.037113"
      ]
     },
     "execution_count": 99,
     "metadata": {},
     "output_type": "execute_result"
    }
   ],
   "source": [
    "cov = sec_returns.cov() * 250\n",
    "cov"
   ]
  },
  {
   "cell_type": "code",
   "execution_count": 100,
   "id": "cfab0b68",
   "metadata": {},
   "outputs": [
    {
     "data": {
      "text/plain": [
       "0.02253086514251048"
      ]
     },
     "execution_count": 100,
     "metadata": {},
     "output_type": "execute_result"
    }
   ],
   "source": [
    "cov_with_market = cov.iloc[0,1]\n",
    "cov_with_market"
   ]
  },
  {
   "cell_type": "code",
   "execution_count": 101,
   "id": "b8d91a10",
   "metadata": {},
   "outputs": [
    {
     "data": {
      "text/plain": [
       "0.03711323235948089"
      ]
     },
     "execution_count": 101,
     "metadata": {},
     "output_type": "execute_result"
    }
   ],
   "source": [
    "market_var = sec_returns['^GSPC'].var() * 250\n",
    "market_var"
   ]
  },
  {
   "cell_type": "markdown",
   "id": "2742c439",
   "metadata": {},
   "source": [
    "Beta:"
   ]
  },
  {
   "cell_type": "code",
   "execution_count": 102,
   "id": "eb394f64",
   "metadata": {},
   "outputs": [
    {
     "data": {
      "text/plain": [
       "0.6070844200331362"
      ]
     },
     "execution_count": 102,
     "metadata": {},
     "output_type": "execute_result"
    }
   ],
   "source": [
    "PG_beta = cov_with_market / market_var\n",
    "PG_beta"
   ]
  },
  {
   "cell_type": "markdown",
   "id": "f5573869",
   "metadata": {},
   "source": [
    "Expected Return of P&G (Capital Asset Pricing Model (CAPM)):\n",
    "\n",
    "AU gov bonds (10yrs) = 3.25%\n",
    "\n",
    "AU market risk premium  = 6%"
   ]
  },
  {
   "cell_type": "code",
   "execution_count": 103,
   "id": "a8cb9fe3",
   "metadata": {},
   "outputs": [
    {
     "data": {
      "text/plain": [
       "0.06892506520198818"
      ]
     },
     "execution_count": 103,
     "metadata": {},
     "output_type": "execute_result"
    }
   ],
   "source": [
    "PG_er = 0.0325 + PG_beta * 0.06\n",
    "PG_er"
   ]
  },
  {
   "cell_type": "markdown",
   "id": "693d5338",
   "metadata": {},
   "source": [
    "Alpha*:"
   ]
  },
  {
   "cell_type": "code",
   "execution_count": 104,
   "id": "a36eeff6",
   "metadata": {},
   "outputs": [
    {
     "data": {
      "text/plain": [
       "6.938893903907228e-18"
      ]
     },
     "execution_count": 104,
     "metadata": {},
     "output_type": "execute_result"
    }
   ],
   "source": [
    "alpha = (PG_er - 0.0325) - PG_beta * (0.06)\n",
    "alpha"
   ]
  },
  {
   "cell_type": "markdown",
   "id": "7aabca6e",
   "metadata": {},
   "source": [
    "## Sharpe Ratio"
   ]
  },
  {
   "cell_type": "code",
   "execution_count": 105,
   "id": "e41b6be8",
   "metadata": {},
   "outputs": [
    {
     "data": {
      "text/plain": [
       "0.18215105191611633"
      ]
     },
     "execution_count": 105,
     "metadata": {},
     "output_type": "execute_result"
    }
   ],
   "source": [
    "sharpe = (PG_er - 0.0325) / (sec_returns['PG'].std() * 250 ** 0.5)\n",
    "sharpe"
   ]
  },
  {
   "cell_type": "markdown",
   "id": "a4224a5b",
   "metadata": {},
   "source": [
    "---"
   ]
  },
  {
   "cell_type": "markdown",
   "id": "4aeb64cd",
   "metadata": {},
   "source": [
    "# Monte Carlo Forecasting"
   ]
  },
  {
   "cell_type": "code",
   "execution_count": 106,
   "id": "2546dfbe",
   "metadata": {},
   "outputs": [],
   "source": [
    "from scipy.stats import norm"
   ]
  },
  {
   "cell_type": "code",
   "execution_count": 107,
   "id": "5b5ce9d8",
   "metadata": {},
   "outputs": [],
   "source": [
    "ticker = 'PG'\n",
    "data = pd.DataFrame()\n",
    "data[ticker] = wb.DataReader(ticker, data_source = 'yahoo', start = '2012-1-1')['Adj Close']"
   ]
  },
  {
   "cell_type": "code",
   "execution_count": 108,
   "id": "1b29063f",
   "metadata": {},
   "outputs": [],
   "source": [
    "log_returns = np.log(1 + data.pct_change())"
   ]
  },
  {
   "cell_type": "code",
   "execution_count": 109,
   "id": "8ea064a4",
   "metadata": {},
   "outputs": [
    {
     "data": {
      "text/html": [
       "<div>\n",
       "<style scoped>\n",
       "    .dataframe tbody tr th:only-of-type {\n",
       "        vertical-align: middle;\n",
       "    }\n",
       "\n",
       "    .dataframe tbody tr th {\n",
       "        vertical-align: top;\n",
       "    }\n",
       "\n",
       "    .dataframe thead th {\n",
       "        text-align: right;\n",
       "    }\n",
       "</style>\n",
       "<table border=\"1\" class=\"dataframe\">\n",
       "  <thead>\n",
       "    <tr style=\"text-align: right;\">\n",
       "      <th></th>\n",
       "      <th>PG</th>\n",
       "    </tr>\n",
       "    <tr>\n",
       "      <th>Date</th>\n",
       "      <th></th>\n",
       "    </tr>\n",
       "  </thead>\n",
       "  <tbody>\n",
       "    <tr>\n",
       "      <th>2022-05-23</th>\n",
       "      <td>0.022731</td>\n",
       "    </tr>\n",
       "    <tr>\n",
       "      <th>2022-05-24</th>\n",
       "      <td>0.017631</td>\n",
       "    </tr>\n",
       "    <tr>\n",
       "      <th>2022-05-25</th>\n",
       "      <td>-0.016528</td>\n",
       "    </tr>\n",
       "    <tr>\n",
       "      <th>2022-05-26</th>\n",
       "      <td>0.008708</td>\n",
       "    </tr>\n",
       "    <tr>\n",
       "      <th>2022-05-27</th>\n",
       "      <td>0.015176</td>\n",
       "    </tr>\n",
       "  </tbody>\n",
       "</table>\n",
       "</div>"
      ],
      "text/plain": [
       "                  PG\n",
       "Date                \n",
       "2022-05-23  0.022731\n",
       "2022-05-24  0.017631\n",
       "2022-05-25 -0.016528\n",
       "2022-05-26  0.008708\n",
       "2022-05-27  0.015176"
      ]
     },
     "execution_count": 109,
     "metadata": {},
     "output_type": "execute_result"
    }
   ],
   "source": [
    "log_returns.tail()"
   ]
  },
  {
   "cell_type": "code",
   "execution_count": 110,
   "id": "504c07ea",
   "metadata": {},
   "outputs": [
    {
     "data": {
      "text/plain": [
       "<AxesSubplot:xlabel='Date'>"
      ]
     },
     "execution_count": 110,
     "metadata": {},
     "output_type": "execute_result"
    },
    {
     "data": {
      "image/png": "[encoded data removed]",
      "text/plain": [
       "<Figure size 720x432 with 1 Axes>"
      ]
     },
     "metadata": {
      "needs_background": "light"
     },
     "output_type": "display_data"
    }
   ],
   "source": [
    "data.plot(figsize = (10,6))"
   ]
  },
  {
   "cell_type": "code",
   "execution_count": 111,
   "id": "7da2eb2d",
   "metadata": {},
   "outputs": [
    {
     "data": {
      "text/plain": [
       "<AxesSubplot:xlabel='Date'>"
      ]
     },
     "execution_count": 111,
     "metadata": {},
     "output_type": "execute_result"
    },
    {
     "data": {
      "image/png": "[encoded data removed]",
      "text/plain": [
       "<Figure size 720x432 with 1 Axes>"
      ]
     },
     "metadata": {
      "needs_background": "light"
     },
     "output_type": "display_data"
    }
   ],
   "source": [
    "log_returns.plot(figsize = (10,6))"
   ]
  },
  {
   "cell_type": "code",
   "execution_count": 112,
   "id": "b19dbaf3",
   "metadata": {},
   "outputs": [
    {
     "data": {
      "text/plain": [
       "PG    0.000425\n",
       "dtype: float64"
      ]
     },
     "execution_count": 112,
     "metadata": {},
     "output_type": "execute_result"
    }
   ],
   "source": [
    "u = log_returns.mean()\n",
    "u"
   ]
  },
  {
   "cell_type": "code",
   "execution_count": 113,
   "id": "033efb64",
   "metadata": {},
   "outputs": [
    {
     "data": {
      "text/plain": [
       "PG    0.000125\n",
       "dtype: float64"
      ]
     },
     "execution_count": 113,
     "metadata": {},
     "output_type": "execute_result"
    }
   ],
   "source": [
    "#Daily stock price\n",
    "var = log_returns.var()\n",
    "var"
   ]
  },
  {
   "cell_type": "markdown",
   "id": "65ce6c79",
   "metadata": {},
   "source": [
    "Drift:"
   ]
  },
  {
   "cell_type": "code",
   "execution_count": 114,
   "id": "7defe205",
   "metadata": {},
   "outputs": [
    {
     "data": {
      "text/plain": [
       "PG    0.000363\n",
       "dtype: float64"
      ]
     },
     "execution_count": 114,
     "metadata": {},
     "output_type": "execute_result"
    }
   ],
   "source": [
    "drift = u - (0.5 * var)\n",
    "drift"
   ]
  },
  {
   "cell_type": "code",
   "execution_count": 115,
   "id": "19b1af61",
   "metadata": {},
   "outputs": [
    {
     "data": {
      "text/plain": [
       "PG    0.011165\n",
       "dtype: float64"
      ]
     },
     "execution_count": 115,
     "metadata": {},
     "output_type": "execute_result"
    }
   ],
   "source": [
    "stdev = log_returns.std()\n",
    "stdev"
   ]
  },
  {
   "cell_type": "markdown",
   "id": "86a8b344",
   "metadata": {},
   "source": [
    "---"
   ]
  },
  {
   "cell_type": "code",
   "execution_count": 116,
   "id": "10413d65",
   "metadata": {},
   "outputs": [
    {
     "data": {
      "text/plain": [
       "pandas.core.series.Series"
      ]
     },
     "execution_count": 116,
     "metadata": {},
     "output_type": "execute_result"
    }
   ],
   "source": [
    "type(drift)"
   ]
  },
  {
   "cell_type": "code",
   "execution_count": 117,
   "id": "40b652c2",
   "metadata": {},
   "outputs": [
    {
     "data": {
      "text/plain": [
       "pandas.core.series.Series"
      ]
     },
     "execution_count": 117,
     "metadata": {},
     "output_type": "execute_result"
    }
   ],
   "source": [
    "type(stdev)"
   ]
  },
  {
   "cell_type": "code",
   "execution_count": 118,
   "id": "ed8fcb66",
   "metadata": {},
   "outputs": [
    {
     "data": {
      "text/plain": [
       "array([0.00036272])"
      ]
     },
     "execution_count": 118,
     "metadata": {},
     "output_type": "execute_result"
    }
   ],
   "source": [
    "np.array(drift)"
   ]
  },
  {
   "cell_type": "code",
   "execution_count": 119,
   "id": "48ecb4bc",
   "metadata": {},
   "outputs": [
    {
     "data": {
      "text/plain": [
       "array([0.01116479])"
      ]
     },
     "execution_count": 119,
     "metadata": {},
     "output_type": "execute_result"
    }
   ],
   "source": [
    "np.array(stdev)"
   ]
  },
  {
   "cell_type": "code",
   "execution_count": 120,
   "id": "62dacb36",
   "metadata": {},
   "outputs": [
    {
     "data": {
      "text/plain": [
       "1.6448536269514722"
      ]
     },
     "execution_count": 120,
     "metadata": {},
     "output_type": "execute_result"
    }
   ],
   "source": [
    "norm.ppf(0.95)"
   ]
  },
  {
   "cell_type": "code",
   "execution_count": 121,
   "id": "378e4d52",
   "metadata": {},
   "outputs": [
    {
     "data": {
      "text/plain": [
       "array([[0.44304891, 0.42654707],\n",
       "       [0.75435042, 0.37250197],\n",
       "       [0.5602489 , 0.06429835],\n",
       "       [0.21811921, 0.70997539],\n",
       "       [0.97422219, 0.99534003],\n",
       "       [0.10988685, 0.7726542 ],\n",
       "       [0.97952872, 0.29160316],\n",
       "       [0.1518216 , 0.08578531],\n",
       "       [0.09647026, 0.21586676],\n",
       "       [0.05932332, 0.18985719]])"
      ]
     },
     "execution_count": 121,
     "metadata": {},
     "output_type": "execute_result"
    }
   ],
   "source": [
    "x = np.random.rand(10,2)\n",
    "x"
   ]
  },
  {
   "cell_type": "code",
   "execution_count": 122,
   "id": "fc6fe289",
   "metadata": {},
   "outputs": [
    {
     "data": {
      "text/plain": [
       "array([[-0.14324357, -0.18517198],\n",
       "       [ 0.68824396, -0.32523404],\n",
       "       [ 0.1516003 , -1.51965898],\n",
       "       [-0.77856089,  0.55331282],\n",
       "       [ 1.94682577,  2.60008948],\n",
       "       [-1.22713007,  0.74761637],\n",
       "       [ 2.04411131, -0.54870733],\n",
       "       [-1.02865209, -1.36717452],\n",
       "       [-1.30192938, -0.78622871],\n",
       "       [-1.56047936, -0.87842269]])"
      ]
     },
     "execution_count": 122,
     "metadata": {},
     "output_type": "execute_result"
    }
   ],
   "source": [
    "norm.ppf(x)"
   ]
  },
  {
   "cell_type": "code",
   "execution_count": 123,
   "id": "7fd755f4",
   "metadata": {},
   "outputs": [
    {
     "data": {
      "text/plain": [
       "array([[ 1.08368255,  0.87302107],\n",
       "       [ 0.05427293,  0.49756824],\n",
       "       [-0.77618176,  0.12273588],\n",
       "       [ 1.70389258,  1.00944988],\n",
       "       [ 0.40964431,  0.60398355],\n",
       "       [-0.31385663,  1.2510022 ],\n",
       "       [ 1.11776281,  0.55507012],\n",
       "       [-1.12656806, -1.26062695],\n",
       "       [-1.89470417, -0.18599688],\n",
       "       [ 0.22891217,  1.6737291 ]])"
      ]
     },
     "execution_count": 123,
     "metadata": {},
     "output_type": "execute_result"
    }
   ],
   "source": [
    "Z = norm.ppf(np.random.rand(10,2))\n",
    "Z"
   ]
  },
  {
   "cell_type": "code",
   "execution_count": 132,
   "id": "c01a6e9c",
   "metadata": {},
   "outputs": [],
   "source": [
    "t_intervals = 1000\n",
    "iterations = 10"
   ]
  },
  {
   "cell_type": "code",
   "execution_count": 133,
   "id": "8ea119e0",
   "metadata": {},
   "outputs": [
    {
     "data": {
      "text/plain": [
       "array([[0.99957979, 0.99338213, 0.99360827, ..., 0.98498222, 1.00624772,\n",
       "        0.99421182],\n",
       "       [0.98766177, 1.00208653, 0.99475461, ..., 1.00685379, 1.00424154,\n",
       "        1.00897819],\n",
       "       [0.98765499, 0.99920025, 1.00789416, ..., 0.9948179 , 1.01067777,\n",
       "        0.99177881],\n",
       "       ...,\n",
       "       [1.00386976, 1.02648639, 1.00058134, ..., 1.00423585, 0.99471959,\n",
       "        1.00905356],\n",
       "       [0.98425151, 0.99749876, 0.99704262, ..., 1.01954904, 1.012141  ,\n",
       "        1.00106152],\n",
       "       [1.00423319, 0.99632459, 1.00813419, ..., 1.00338608, 1.00371672,\n",
       "        1.01156654]])"
      ]
     },
     "execution_count": 133,
     "metadata": {},
     "output_type": "execute_result"
    }
   ],
   "source": [
    "daily_returns = np.exp(drift.values + stdev.values * norm.ppf(np.random.rand(t_intervals, iterations)))\n",
    "daily_returns"
   ]
  },
  {
   "cell_type": "markdown",
   "id": "5496ff0f",
   "metadata": {},
   "source": [
    "---"
   ]
  },
  {
   "cell_type": "code",
   "execution_count": 134,
   "id": "9134e25a",
   "metadata": {},
   "outputs": [
    {
     "data": {
      "text/plain": [
       "PG    148.720001\n",
       "Name: 2022-05-27 00:00:00, dtype: float64"
      ]
     },
     "execution_count": 134,
     "metadata": {},
     "output_type": "execute_result"
    }
   ],
   "source": [
    "S0 = data.iloc[-1]\n",
    "S0"
   ]
  },
  {
   "cell_type": "code",
   "execution_count": 135,
   "id": "96b13c39",
   "metadata": {},
   "outputs": [
    {
     "data": {
      "text/plain": [
       "array([[0., 0., 0., ..., 0., 0., 0.],\n",
       "       [0., 0., 0., ..., 0., 0., 0.],\n",
       "       [0., 0., 0., ..., 0., 0., 0.],\n",
       "       ...,\n",
       "       [0., 0., 0., ..., 0., 0., 0.],\n",
       "       [0., 0., 0., ..., 0., 0., 0.],\n",
       "       [0., 0., 0., ..., 0., 0., 0.]])"
      ]
     },
     "execution_count": 135,
     "metadata": {},
     "output_type": "execute_result"
    }
   ],
   "source": [
    "price_list = np.zeros_like(daily_returns)\n",
    "price_list"
   ]
  },
  {
   "cell_type": "code",
   "execution_count": 136,
   "id": "cb95cd4a",
   "metadata": {
    "scrolled": true
   },
   "outputs": [
    {
     "data": {
      "text/plain": [
       "array([[148.72000122, 148.72000122, 148.72000122, ..., 148.72000122,\n",
       "        148.72000122, 148.72000122],\n",
       "       [  0.        ,   0.        ,   0.        , ...,   0.        ,\n",
       "          0.        ,   0.        ],\n",
       "       [  0.        ,   0.        ,   0.        , ...,   0.        ,\n",
       "          0.        ,   0.        ],\n",
       "       ...,\n",
       "       [  0.        ,   0.        ,   0.        , ...,   0.        ,\n",
       "          0.        ,   0.        ],\n",
       "       [  0.        ,   0.        ,   0.        , ...,   0.        ,\n",
       "          0.        ,   0.        ],\n",
       "       [  0.        ,   0.        ,   0.        , ...,   0.        ,\n",
       "          0.        ,   0.        ]])"
      ]
     },
     "execution_count": 136,
     "metadata": {},
     "output_type": "execute_result"
    }
   ],
   "source": [
    "price_list[0] = S0\n",
    "price_list"
   ]
  },
  {
   "cell_type": "code",
   "execution_count": 137,
   "id": "67715c8f",
   "metadata": {},
   "outputs": [],
   "source": [
    "for t in range(1, t_intervals):\n",
    "    price_list[t] = price_list[t-1]* daily_returns[t]"
   ]
  },
  {
   "cell_type": "code",
   "execution_count": 139,
   "id": "31209ec2",
   "metadata": {
    "scrolled": true
   },
   "outputs": [
    {
     "data": {
      "text/plain": [
       "array([[148.72000122, 148.72000122, 148.72000122, ..., 148.72000122,\n",
       "        148.72000122, 148.72000122],\n",
       "       [146.88506014, 149.03031062, 147.93990652, ..., 149.73929734,\n",
       "        149.35080299, 150.05523718],\n",
       "       [145.07176272, 148.91112391, 149.10776746, ..., 148.96333296,\n",
       "        150.94553595, 148.82160451],\n",
       "       ...,\n",
       "       [258.37423019, 176.30399864, 237.25235063, ..., 252.74928076,\n",
       "        160.11353411, 195.16142883],\n",
       "       [254.30522497, 175.86302001, 236.55070608, ..., 257.69028702,\n",
       "        162.05747317, 195.36859719],\n",
       "       [255.38174682, 175.21665139, 238.47485501, ..., 258.56284572,\n",
       "        162.65979548, 197.62833611]])"
      ]
     },
     "execution_count": 139,
     "metadata": {},
     "output_type": "execute_result"
    }
   ],
   "source": [
    "price_list"
   ]
  },
  {
   "cell_type": "code",
   "execution_count": 140,
   "id": "b094752c",
   "metadata": {},
   "outputs": [
    {
     "data": {
      "image/png": "[encoded data removed]",
      "text/plain": [
       "<Figure size 720x432 with 1 Axes>"
      ]
     },
     "metadata": {
      "needs_background": "light"
     },
     "output_type": "display_data"
    }
   ],
   "source": [
    "plt.figure(figsize = (10,6))\n",
    "plt.plot(price_list)\n",
    "plt.show()"
   ]
  },
  {
   "cell_type": "markdown",
   "id": "e1ecfa94",
   "metadata": {},
   "source": [
    "---"
   ]
  },
  {
   "cell_type": "markdown",
   "id": "9b17d6f2",
   "metadata": {},
   "source": [
    "# Monte Carlo: Black-Scholes Merton"
   ]
  },
  {
   "cell_type": "code",
   "execution_count": 141,
   "id": "1f67023c",
   "metadata": {},
   "outputs": [],
   "source": [
    "\n",
    "def d1(S, K, r, stdev, T):\n",
    "    return (np.log(S / K) + (r + stdev ** 2 / 2) * T) / (stdev * np.sqrt(T))\n",
    "\n",
    "def d2(S, K, r, stdev, T):\n",
    "    return (np.log(S / K) + (r - stdev ** 2 / 2) * T) / (stdev * np.sqrt(T))"
   ]
  },
  {
   "cell_type": "code",
   "execution_count": 142,
   "id": "5c2f4e3b",
   "metadata": {},
   "outputs": [
    {
     "data": {
      "text/plain": [
       "0.5"
      ]
     },
     "execution_count": 142,
     "metadata": {},
     "output_type": "execute_result"
    }
   ],
   "source": [
    "norm.cdf(0)"
   ]
  },
  {
   "cell_type": "code",
   "execution_count": 143,
   "id": "7a1ce4a6",
   "metadata": {},
   "outputs": [
    {
     "data": {
      "text/plain": [
       "0.5987063256829237"
      ]
     },
     "execution_count": 143,
     "metadata": {},
     "output_type": "execute_result"
    }
   ],
   "source": [
    "norm.cdf(0.25)"
   ]
  },
  {
   "cell_type": "code",
   "execution_count": 144,
   "id": "180b16fb",
   "metadata": {},
   "outputs": [
    {
     "data": {
      "text/plain": [
       "0.7733726476231317"
      ]
     },
     "execution_count": 144,
     "metadata": {},
     "output_type": "execute_result"
    }
   ],
   "source": [
    "norm.cdf(0.75)"
   ]
  },
  {
   "cell_type": "code",
   "execution_count": 156,
   "id": "0fa6b3b7",
   "metadata": {},
   "outputs": [
    {
     "data": {
      "text/plain": [
       "1.0"
      ]
     },
     "execution_count": 156,
     "metadata": {},
     "output_type": "execute_result"
    }
   ],
   "source": [
    "norm.cdf(9)"
   ]
  },
  {
   "cell_type": "code",
   "execution_count": 161,
   "id": "644fedf3",
   "metadata": {},
   "outputs": [],
   "source": [
    "def BSM(S, K, r, stdev, T):\n",
    "    return (S * norm.cdf(d1(S, K, r, stdev, T))) - (K * np.exp(-r * T) * norm.cdf(d2(S, K, r, stdev, T)))"
   ]
  },
  {
   "cell_type": "code",
   "execution_count": 162,
   "id": "812b4f33",
   "metadata": {},
   "outputs": [],
   "source": [
    "ticker = 'PG'\n",
    "data = pd.DataFrame()\n",
    "data[ticker] = wb.DataReader(ticker, data_source = 'yahoo', start = '2012-1-1')['Adj Close']"
   ]
  },
  {
   "cell_type": "code",
   "execution_count": 163,
   "id": "259aa95b",
   "metadata": {},
   "outputs": [
    {
     "data": {
      "text/plain": [
       "PG    148.720001\n",
       "Name: 2022-05-27 00:00:00, dtype: float64"
      ]
     },
     "execution_count": 163,
     "metadata": {},
     "output_type": "execute_result"
    }
   ],
   "source": [
    "S = data.iloc[-1]\n",
    "S"
   ]
  },
  {
   "cell_type": "code",
   "execution_count": 164,
   "id": "ab1f3145",
   "metadata": {},
   "outputs": [],
   "source": [
    "log_returns = np.log(1 + data.pct_change())"
   ]
  },
  {
   "cell_type": "code",
   "execution_count": 165,
   "id": "f35e2061",
   "metadata": {},
   "outputs": [
    {
     "data": {
      "text/plain": [
       "PG    0.176531\n",
       "dtype: float64"
      ]
     },
     "execution_count": 165,
     "metadata": {},
     "output_type": "execute_result"
    }
   ],
   "source": [
    "stdev = log_returns.std() * 250 ** 0.5\n",
    "stdev"
   ]
  },
  {
   "cell_type": "code",
   "execution_count": 166,
   "id": "efacd6b0",
   "metadata": {},
   "outputs": [],
   "source": [
    "r = 0.0325\n",
    "K = 110\n",
    "T = 1"
   ]
  },
  {
   "cell_type": "code",
   "execution_count": 168,
   "id": "8809bd9c",
   "metadata": {},
   "outputs": [
    {
     "data": {
      "text/plain": [
       "PG    1.980768\n",
       "dtype: float64"
      ]
     },
     "execution_count": 168,
     "metadata": {},
     "output_type": "execute_result"
    }
   ],
   "source": [
    "#How much can we expect if the option is exercised\n",
    "d1(S, K, r, stdev, T)"
   ]
  },
  {
   "cell_type": "code",
   "execution_count": 169,
   "id": "79355a0e",
   "metadata": {},
   "outputs": [
    {
     "data": {
      "text/plain": [
       "PG    1.804237\n",
       "dtype: float64"
      ]
     },
     "execution_count": 169,
     "metadata": {},
     "output_type": "execute_result"
    }
   ],
   "source": [
    "#The amount we must pay when exercising the option\n",
    "d2(S, K, r, stdev, T)"
   ]
  },
  {
   "cell_type": "code",
   "execution_count": 170,
   "id": "00a0d484",
   "metadata": {},
   "outputs": [
    {
     "data": {
      "text/plain": [
       "PG    42.487173\n",
       "Name: 2022-05-27 00:00:00, dtype: float64"
      ]
     },
     "execution_count": 170,
     "metadata": {},
     "output_type": "execute_result"
    }
   ],
   "source": [
    "BSM(S, K, r, stdev, T)"
   ]
  },
  {
   "cell_type": "markdown",
   "id": "61900eca",
   "metadata": {},
   "source": [
    "---"
   ]
  },
  {
   "cell_type": "markdown",
   "id": "eb386c6a",
   "metadata": {},
   "source": [
    "# Monte Carlo: Euler Discretization"
   ]
  },
  {
   "cell_type": "code",
   "execution_count": 171,
   "id": "74ae2e29",
   "metadata": {},
   "outputs": [],
   "source": [
    "ticker = 'PG'\n",
    "data = pd.DataFrame()\n",
    "data[ticker] = wb.DataReader(ticker, data_source = 'yahoo', start = '2012-1-1')['Adj Close']"
   ]
  },
  {
   "cell_type": "code",
   "execution_count": 172,
   "id": "5853a4df",
   "metadata": {},
   "outputs": [],
   "source": [
    "log_returns = np.log(1 + data.pct_change())"
   ]
  },
  {
   "cell_type": "code",
   "execution_count": 173,
   "id": "df93487f",
   "metadata": {},
   "outputs": [],
   "source": [
    "r = 0.325"
   ]
  },
  {
   "cell_type": "code",
   "execution_count": 174,
   "id": "33100713",
   "metadata": {},
   "outputs": [
    {
     "data": {
      "text/plain": [
       "PG    0.176531\n",
       "dtype: float64"
      ]
     },
     "execution_count": 174,
     "metadata": {},
     "output_type": "execute_result"
    }
   ],
   "source": [
    "stdev = log_returns.std() * 250 ** 0.5\n",
    "stdev"
   ]
  },
  {
   "cell_type": "code",
   "execution_count": 176,
   "id": "8459a24b",
   "metadata": {},
   "outputs": [
    {
     "data": {
      "text/plain": [
       "array([0.17653083])"
      ]
     },
     "execution_count": 176,
     "metadata": {},
     "output_type": "execute_result"
    }
   ],
   "source": [
    "stdev = np.array(stdev)\n",
    "stdev"
   ]
  },
  {
   "cell_type": "code",
   "execution_count": 178,
   "id": "3d5a5319",
   "metadata": {},
   "outputs": [],
   "source": [
    "T = 1\n",
    "t_intervals = 250\n",
    "delta_t = T / t_intervals\n",
    "\n",
    "iterations = 10000"
   ]
  },
  {
   "cell_type": "code",
   "execution_count": 179,
   "id": "ed8fa414",
   "metadata": {},
   "outputs": [],
   "source": [
    "Z = np.random.standard_normal((t_intervals + 1, iterations))\n",
    "S = np.zeros_like(Z)\n",
    "S0 = data.iloc[-1]\n",
    "S[0] = S0"
   ]
  },
  {
   "cell_type": "code",
   "execution_count": 180,
   "id": "bc440411",
   "metadata": {},
   "outputs": [],
   "source": [
    "for t in range(1, t_intervals + 1):\n",
    "    S[t] = S[t-1] * np.exp((r - 0.5 * stdev ** 2) * delta_t + stdev * delta_t ** 0.5 * Z[t])"
   ]
  },
  {
   "cell_type": "code",
   "execution_count": 181,
   "id": "630bc9a8",
   "metadata": {},
   "outputs": [
    {
     "data": {
      "text/plain": [
       "array([[148.72000122, 148.72000122, 148.72000122, ..., 148.72000122,\n",
       "        148.72000122, 148.72000122],\n",
       "       [150.0093993 , 149.02233776, 147.02005962, ..., 150.56882144,\n",
       "        148.3990824 , 149.92794101],\n",
       "       [153.27565132, 151.47470137, 148.06319648, ..., 153.0251331 ,\n",
       "        148.55075044, 148.09863624],\n",
       "       ...,\n",
       "       [165.26642892, 180.81078028, 214.12769723, ..., 250.02165037,\n",
       "        201.67410509, 210.33537754],\n",
       "       [166.76659035, 180.01115392, 214.77396602, ..., 248.65132245,\n",
       "        197.44424649, 208.38121108],\n",
       "       [166.00861606, 176.03459818, 213.2085332 , ..., 252.89535776,\n",
       "        199.24545603, 207.98101157]])"
      ]
     },
     "execution_count": 181,
     "metadata": {},
     "output_type": "execute_result"
    }
   ],
   "source": [
    "S"
   ]
  },
  {
   "cell_type": "code",
   "execution_count": 182,
   "id": "3384260c",
   "metadata": {},
   "outputs": [
    {
     "data": {
      "text/plain": [
       "(251, 10000)"
      ]
     },
     "execution_count": 182,
     "metadata": {},
     "output_type": "execute_result"
    }
   ],
   "source": [
    "S.shape"
   ]
  },
  {
   "cell_type": "code",
   "execution_count": 186,
   "id": "36740765",
   "metadata": {},
   "outputs": [
    {
     "data": {
      "image/png": "[encoded data removed]",
      "text/plain": [
       "<Figure size 720x432 with 1 Axes>"
      ]
     },
     "metadata": {
      "needs_background": "light"
     },
     "output_type": "display_data"
    }
   ],
   "source": [
    "plt.figure(figsize = (10,6))\n",
    "plt.plot(S[:, :10])\n",
    "plt.show()"
   ]
  },
  {
   "cell_type": "code",
   "execution_count": 187,
   "id": "48362b1f",
   "metadata": {},
   "outputs": [
    {
     "data": {
      "text/plain": [
       "array([ 56.00861606,  66.03459818, 103.2085332 , ..., 142.89535776,\n",
       "        89.24545603,  97.98101157])"
      ]
     },
     "execution_count": 187,
     "metadata": {},
     "output_type": "execute_result"
    }
   ],
   "source": [
    "p = np.maximum(S[-1] - 110, 0)\n",
    "p"
   ]
  },
  {
   "cell_type": "code",
   "execution_count": 188,
   "id": "9d2e3e4d",
   "metadata": {},
   "outputs": [
    {
     "data": {
      "text/plain": [
       "(10000,)"
      ]
     },
     "execution_count": 188,
     "metadata": {},
     "output_type": "execute_result"
    }
   ],
   "source": [
    "p.shape"
   ]
  },
  {
   "cell_type": "code",
   "execution_count": 189,
   "id": "852faa7f",
   "metadata": {},
   "outputs": [
    {
     "data": {
      "text/plain": [
       "69.38702771143383"
      ]
     },
     "execution_count": 189,
     "metadata": {},
     "output_type": "execute_result"
    }
   ],
   "source": [
    "C = np.exp(-r * T) * np.sum(p) / iterations\n",
    "C"
   ]
  },
  {
   "cell_type": "code",
   "execution_count": null,
   "id": "fc9f4804",
   "metadata": {},
   "outputs": [],
   "source": []
  }
 ],
 "metadata": {
  "kernelspec": {
   "display_name": "Python [conda env:root] *",
   "language": "python",
   "name": "conda-root-py"
  },
  "language_info": {
   "codemirror_mode": {
    "name": "ipython",
    "version": 3
   },
   "file_extension": ".py",
   "mimetype": "text/x-python",
   "name": "python",
   "nbconvert_exporter": "python",
   "pygments_lexer": "ipython3",
   "version": "3.8.10"
  }
 },
 "nbformat": 4,
 "nbformat_minor": 5
}
